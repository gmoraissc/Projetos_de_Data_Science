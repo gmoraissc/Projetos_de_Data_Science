{
  "nbformat": 4,
  "nbformat_minor": 0,
  "metadata": {
    "colab": {
      "name": "Sentiment_analysis.ipynb",
      "provenance": [],
      "collapsed_sections": [],
      "mount_file_id": "1SR-3i9Wrab9mlb7RdoAnO_79DAVvlJaf",
      "authorship_tag": "ABX9TyNs2HUGg3CUHg4++pGElfS/",
      "include_colab_link": true
    },
    "kernelspec": {
      "name": "python3",
      "display_name": "Python 3"
    },
    "language_info": {
      "name": "python"
    }
  },
  "cells": [
    {
      "cell_type": "markdown",
      "metadata": {
        "id": "view-in-github",
        "colab_type": "text"
      },
      "source": [
        "<a href=\"https://colab.research.google.com/github/gmoraissc/Projetos_de_Data_Science/blob/main/Sentiment_analysis.ipynb\" target=\"_parent\"><img src=\"https://colab.research.google.com/assets/colab-badge.svg\" alt=\"Open In Colab\"/></a>"
      ]
    },
    {
      "cell_type": "code",
      "execution_count": 55,
      "metadata": {
        "id": "A2De13A6eBh2"
      },
      "outputs": [],
      "source": [
        "# imports\n",
        "import pandas as pd\n",
        "import numpy as np\n",
        "import tweepy, nltk, json\n",
        "from datetime import datetime, date"
      ]
    },
    {
      "cell_type": "code",
      "source": [
        "access_token=\"590375619-tkJialGWR4R5ZoXJfWsZlx0DoLUfSDlbUi1hLATZ\"\n",
        "access_token_secret=\"cGjIJU3YM23f1qxH8LvUKd6Tm05zbOBUI9NcCDxLzJ39T\"\n",
        "bearer_token = 'AAAAAAAAAAAAAAAAAAAAAHeVYAEAAAAA9sjLNUPQJgclF6kKG0lPvLTq9nY%3DwprwxmnxRvmXpbU2CbXAoIGogKKEZCRxKwoi6xNW3au27KlCqk'\n",
        "consumer_key= 'vS7GEC5Cy7HixHoVKNpCR7cFr'\n",
        "consumer_secret=\"0cpjFY2tWCwDoWhqOwr2ZBDy6TbpNOtWnQOpU70V9V0Bwu0JNt\""
      ],
      "metadata": {
        "id": "a05ndHrKuXHr"
      },
      "execution_count": 56,
      "outputs": []
    },
    {
      "cell_type": "code",
      "source": [
        "auth = tweepy.OAuthHandler(consumer_key, consumer_secret)\n",
        "auth.set_access_token(access_token, access_token_secret)\n",
        "\n",
        "api = tweepy.API(auth)\n",
        "\n",
        "search_results_popular = api.search(q=['BBB22'],\n",
        "                            result_type='popular')\n",
        "\n",
        "search_results_recents = api.search(q=['BBB22'],\n",
        "                                    result_type='recent')"
      ],
      "metadata": {
        "id": "RL_XrvFE1GBp"
      },
      "execution_count": 57,
      "outputs": []
    },
    {
      "cell_type": "code",
      "source": [
        "popular_dict = {}\n",
        "recents_dict = {}\n",
        "d1 = date.today().strftime(\"%d/%m/%Y\")\n",
        "\n",
        "for each_json_tweet in search_results_popular:\n",
        "    if d1 not in popular_dict.keys():\n",
        "      tweet = {d1: [json.dumps(each_json_tweet._json)]}\n",
        "      popular_dict.update(tweet)\n",
        "   \n",
        "    else:\n",
        "      popular_dict[d1].append(json.dumps(each_json_tweet._json))\n",
        "\n",
        "for each_json_tweet in search_results_recents:\n",
        "  if d1 not in recents_dict.keys():\n",
        "    tweet = {d1: [json.dumps(each_json_tweet._json)]}\n",
        "    recents_dict.update(tweet)\n",
        "  else:\n",
        "    recents_dict[d1].append(json.dumps(each_json_tweet._json))"
      ],
      "metadata": {
        "id": "e7Hs09z_cCXh"
      },
      "execution_count": 80,
      "outputs": []
    },
    {
      "cell_type": "code",
      "source": [
        "popular_dict[d1][0]"
      ],
      "metadata": {
        "colab": {
          "base_uri": "https://localhost:8080/",
          "height": 140
        },
        "id": "cTyjX7yO14zI",
        "outputId": "e4f63121-d9be-48fa-aad0-60499bf522a6"
      },
      "execution_count": 81,
      "outputs": [
        {
          "output_type": "execute_result",
          "data": {
            "application/vnd.google.colaboratory.intrinsic+json": {
              "type": "string"
            },
            "text/plain": [
              "'{\"created_at\": \"Sun Jan 16 02:14:31 +0000 2022\", \"id\": 1482536715915083780, \"id_str\": \"1482536715915083780\", \"text\": \"De acordo com apura\\\\u00e7\\\\u00e3o da revista Quem, Mar\\\\u00edlia Mendon\\\\u00e7a teria se arrependido de gravar com Naiara Azevedo e n\\\\u00e3o go\\\\u2026 https://t.co/oUeKkGOwS1\", \"truncated\": true, \"entities\": {\"hashtags\": [], \"symbols\": [], \"user_mentions\": [], \"urls\": [{\"url\": \"https://t.co/oUeKkGOwS1\", \"expanded_url\": \"https://twitter.com/i/web/status/1482536715915083780\", \"display_url\": \"twitter.com/i/web/status/1\\\\u2026\", \"indices\": [117, 140]}]}, \"metadata\": {\"iso_language_code\": \"pt\", \"result_type\": \"popular\"}, \"source\": \"<a href=\\\\\"http://twitter.com/download/iphone\\\\\" rel=\\\\\"nofollow\\\\\">Twitter for iPhone</a>\", \"in_reply_to_status_id\": null, \"in_reply_to_status_id_str\": null, \"in_reply_to_user_id\": null, \"in_reply_to_user_id_str\": null, \"in_reply_to_screen_name\": null, \"user\": {\"id\": 132699857, \"id_str\": \"132699857\", \"name\": \"Tracklist #BBB22\", \"screen_name\": \"tracklist\", \"location\": \"Brasil\", \"description\": \"O melhor do entretenimento est\\\\u00e1 aqui! | Comercial \\\\ud83d\\\\udce9 contato@tracklist.com.br\", \"url\": \"https://t.co/BwtcziIQND\", \"entities\": {\"url\": {\"urls\": [{\"url\": \"https://t.co/BwtcziIQND\", \"expanded_url\": \"https://tracklist.com.br\", \"display_url\": \"tracklist.com.br\", \"indices\": [0, 23]}]}, \"description\": {\"urls\": []}}, \"protected\": false, \"followers_count\": 699120, \"friends_count\": 740, \"listed_count\": 1274, \"created_at\": \"Tue Apr 13 23:33:32 +0000 2010\", \"favourites_count\": 32770, \"utc_offset\": null, \"time_zone\": null, \"geo_enabled\": true, \"verified\": true, \"statuses_count\": 73360, \"lang\": null, \"contributors_enabled\": false, \"is_translator\": false, \"is_translation_enabled\": false, \"profile_background_color\": \"DEDEDE\", \"profile_background_image_url\": \"http://abs.twimg.com/images/themes/theme1/bg.png\", \"profile_background_image_url_https\": \"https://abs.twimg.com/images/themes/theme1/bg.png\", \"profile_background_tile\": true, \"profile_image_url\": \"http://pbs.twimg.com/profile_images/1420418040584355845/oMNy0xZA_normal.jpg\", \"profile_image_url_https\": \"https://pbs.twimg.com/profile_images/1420418040584355845/oMNy0xZA_normal.jpg\", \"profile_banner_url\": \"https://pbs.twimg.com/profile_banners/132699857/1612135865\", \"profile_link_color\": \"FF0000\", \"profile_sidebar_border_color\": \"FFFFFF\", \"profile_sidebar_fill_color\": \"B5BBFF\", \"profile_text_color\": \"050505\", \"profile_use_background_image\": true, \"has_extended_profile\": true, \"default_profile\": false, \"default_profile_image\": false, \"following\": false, \"follow_request_sent\": false, \"notifications\": false, \"translator_type\": \"none\", \"withheld_in_countries\": []}, \"geo\": null, \"coordinates\": null, \"place\": null, \"contributors\": null, \"is_quote_status\": false, \"retweet_count\": 2692, \"favorite_count\": 39209, \"favorited\": false, \"retweeted\": false, \"possibly_sensitive\": false, \"lang\": \"pt\"}'"
            ]
          },
          "metadata": {},
          "execution_count": 81
        }
      ]
    },
    {
      "cell_type": "code",
      "source": [
        "popular_dict[d1][1]"
      ],
      "metadata": {
        "colab": {
          "base_uri": "https://localhost:8080/",
          "height": 140
        },
        "id": "pO-t_Je0D8vx",
        "outputId": "c09676c4-e44f-4787-e081-ad4d47a1e7e0"
      },
      "execution_count": 82,
      "outputs": [
        {
          "output_type": "execute_result",
          "data": {
            "application/vnd.google.colaboratory.intrinsic+json": {
              "type": "string"
            },
            "text/plain": [
              "'{\"created_at\": \"Sat Jan 15 01:28:33 +0000 2022\", \"id\": 1482162756774150146, \"id_str\": \"1482162756774150146\", \"text\": \"Saudades do que nunca aconteceu\\\\u2026 #BBB22 https://t.co/xuKZYNFVme\", \"truncated\": false, \"entities\": {\"hashtags\": [{\"text\": \"BBB22\", \"indices\": [33, 39]}], \"symbols\": [], \"user_mentions\": [], \"urls\": [], \"media\": [{\"id\": 1482162749413154820, \"id_str\": \"1482162749413154820\", \"indices\": [40, 63], \"media_url\": \"http://pbs.twimg.com/media/FJGzKvIWYAQqLDI.jpg\", \"media_url_https\": \"https://pbs.twimg.com/media/FJGzKvIWYAQqLDI.jpg\", \"url\": \"https://t.co/xuKZYNFVme\", \"display_url\": \"pic.twitter.com/xuKZYNFVme\", \"expanded_url\": \"https://twitter.com/tracklist/status/1482162756774150146/photo/1\", \"type\": \"photo\", \"sizes\": {\"thumb\": {\"w\": 150, \"h\": 150, \"resize\": \"crop\"}, \"medium\": {\"w\": 750, \"h\": 919, \"resize\": \"fit\"}, \"large\": {\"w\": 750, \"h\": 919, \"resize\": \"fit\"}, \"small\": {\"w\": 555, \"h\": 680, \"resize\": \"fit\"}}}]}, \"extended_entities\": {\"media\": [{\"id\": 1482162749413154820, \"id_str\": \"1482162749413154820\", \"indices\": [40, 63], \"media_url\": \"http://pbs.twimg.com/media/FJGzKvIWYAQqLDI.jpg\", \"media_url_https\": \"https://pbs.twimg.com/media/FJGzKvIWYAQqLDI.jpg\", \"url\": \"https://t.co/xuKZYNFVme\", \"display_url\": \"pic.twitter.com/xuKZYNFVme\", \"expanded_url\": \"https://twitter.com/tracklist/status/1482162756774150146/photo/1\", \"type\": \"photo\", \"sizes\": {\"thumb\": {\"w\": 150, \"h\": 150, \"resize\": \"crop\"}, \"medium\": {\"w\": 750, \"h\": 919, \"resize\": \"fit\"}, \"large\": {\"w\": 750, \"h\": 919, \"resize\": \"fit\"}, \"small\": {\"w\": 555, \"h\": 680, \"resize\": \"fit\"}}}, {\"id\": 1482162749425737729, \"id_str\": \"1482162749425737729\", \"indices\": [40, 63], \"media_url\": \"http://pbs.twimg.com/media/FJGzKvLWYAELWRd.jpg\", \"media_url_https\": \"https://pbs.twimg.com/media/FJGzKvLWYAELWRd.jpg\", \"url\": \"https://t.co/xuKZYNFVme\", \"display_url\": \"pic.twitter.com/xuKZYNFVme\", \"expanded_url\": \"https://twitter.com/tracklist/status/1482162756774150146/photo/1\", \"type\": \"photo\", \"sizes\": {\"thumb\": {\"w\": 150, \"h\": 150, \"resize\": \"crop\"}, \"medium\": {\"w\": 750, \"h\": 921, \"resize\": \"fit\"}, \"large\": {\"w\": 750, \"h\": 921, \"resize\": \"fit\"}, \"small\": {\"w\": 554, \"h\": 680, \"resize\": \"fit\"}}}]}, \"metadata\": {\"iso_language_code\": \"pt\", \"result_type\": \"popular\"}, \"source\": \"<a href=\\\\\"http://twitter.com/download/iphone\\\\\" rel=\\\\\"nofollow\\\\\">Twitter for iPhone</a>\", \"in_reply_to_status_id\": null, \"in_reply_to_status_id_str\": null, \"in_reply_to_user_id\": null, \"in_reply_to_user_id_str\": null, \"in_reply_to_screen_name\": null, \"user\": {\"id\": 132699857, \"id_str\": \"132699857\", \"name\": \"Tracklist #BBB22\", \"screen_name\": \"tracklist\", \"location\": \"Brasil\", \"description\": \"O melhor do entretenimento est\\\\u00e1 aqui! | Comercial \\\\ud83d\\\\udce9 contato@tracklist.com.br\", \"url\": \"https://t.co/BwtcziIQND\", \"entities\": {\"url\": {\"urls\": [{\"url\": \"https://t.co/BwtcziIQND\", \"expanded_url\": \"https://tracklist.com.br\", \"display_url\": \"tracklist.com.br\", \"indices\": [0, 23]}]}, \"description\": {\"urls\": []}}, \"protected\": false, \"followers_count\": 699120, \"friends_count\": 740, \"listed_count\": 1274, \"created_at\": \"Tue Apr 13 23:33:32 +0000 2010\", \"favourites_count\": 32770, \"utc_offset\": null, \"time_zone\": null, \"geo_enabled\": true, \"verified\": true, \"statuses_count\": 73360, \"lang\": null, \"contributors_enabled\": false, \"is_translator\": false, \"is_translation_enabled\": false, \"profile_background_color\": \"DEDEDE\", \"profile_background_image_url\": \"http://abs.twimg.com/images/themes/theme1/bg.png\", \"profile_background_image_url_https\": \"https://abs.twimg.com/images/themes/theme1/bg.png\", \"profile_background_tile\": true, \"profile_image_url\": \"http://pbs.twimg.com/profile_images/1420418040584355845/oMNy0xZA_normal.jpg\", \"profile_image_url_https\": \"https://pbs.twimg.com/profile_images/1420418040584355845/oMNy0xZA_normal.jpg\", \"profile_banner_url\": \"https://pbs.twimg.com/profile_banners/132699857/1612135865\", \"profile_link_color\": \"FF0000\", \"profile_sidebar_border_color\": \"FFFFFF\", \"profile_sidebar_fill_color\": \"B5BBFF\", \"profile_text_color\": \"050505\", \"profile_use_background_image\": true, \"has_extended_profile\": true, \"default_profile\": false, \"default_profile_image\": false, \"following\": false, \"follow_request_sent\": false, \"notifications\": false, \"translator_type\": \"none\", \"withheld_in_countries\": []}, \"geo\": null, \"coordinates\": null, \"place\": null, \"contributors\": null, \"is_quote_status\": false, \"retweet_count\": 6703, \"favorite_count\": 45695, \"favorited\": false, \"retweeted\": false, \"possibly_sensitive\": false, \"lang\": \"pt\"}'"
            ]
          },
          "metadata": {},
          "execution_count": 82
        }
      ]
    },
    {
      "cell_type": "code",
      "source": [
        "popular_list = []\n",
        "\n",
        "for each_dictionary in popular_dict[d1]:\n",
        "    tweet_id = each_dictionary['id']\n",
        "    text = each_dictionary['text']\n",
        "    favorite_count = each_dictionary['favorite_count']\n",
        "    retweet_count = each_dictionary['retweet_count']\n",
        "    created_at = each_dictionary['created_at']\n",
        "    location = each_dictionary['user']['location']\n",
        "    followers_count = each_dictionary['user']['followers_count']\n",
        "    friends_count = each_dictionary['user']['friends_count']\n",
        "    verified = each_dictionary['user']['verified']\n",
        "    hashtags = each_dictionary['entities']['hashtags']\n",
        "    user_mentions = each_dictionary['entities']['user_mentions']\n",
        "    name = each_dictionary['user']['name']\n",
        "    screen_name = each_dictionary['user']['screen_name']\n",
        "\n",
        "    popular_list.append({'tweet_id': str(tweet_id),\n",
        "                          'text': str(text),\n",
        "                          'favorite_count': int(favorite_count),\n",
        "                          'retweet_count': int(retweet_count),\n",
        "                          'created_at': created_at,\n",
        "                          'location': location,\n",
        "                          'followers_count': followers_count,\n",
        "                          'friends_count': friends_count,\n",
        "                          'verified': verified,\n",
        "                          'retweet_count': retweet_count,\n",
        "                          'favorite_count': favorite_count,\n",
        "                          'hashtags': hashtags,\n",
        "                          'user_mentions': user_mentions,\n",
        "                          'name': name,\n",
        "                          'screen_name': screen_name,\n",
        "                          })\n",
        "    \n",
        "    tweet_json_popular = pd.DataFrame(my_demo_list, columns = \n",
        "                              ['tweet_id', 'text', \n",
        "                                'favorite_count', 'retweet_count', \n",
        "                                'created_at', 'location',\n",
        "                                'followers_count', 'friends_count',\n",
        "                                'verified', 'hashtags',\n",
        "                                'user_mentions', 'name',\n",
        "                                'screen_name'])"
      ],
      "metadata": {
        "id": "JJoy_A6EdH7U",
        "colab": {
          "base_uri": "https://localhost:8080/",
          "height": 235
        },
        "outputId": "0514af39-785a-4e4f-cdfa-56256c6f610e"
      },
      "execution_count": 69,
      "outputs": [
        {
          "output_type": "error",
          "ename": "TypeError",
          "evalue": "ignored",
          "traceback": [
            "\u001b[0;31m---------------------------------------------------------------------------\u001b[0m",
            "\u001b[0;31mTypeError\u001b[0m                                 Traceback (most recent call last)",
            "\u001b[0;32m<ipython-input-69-2c35307894d7>\u001b[0m in \u001b[0;36m<module>\u001b[0;34m()\u001b[0m\n\u001b[1;32m      2\u001b[0m \u001b[0;34m\u001b[0m\u001b[0m\n\u001b[1;32m      3\u001b[0m \u001b[0;32mfor\u001b[0m \u001b[0meach_dictionary\u001b[0m \u001b[0;32min\u001b[0m \u001b[0mpopular_dict\u001b[0m\u001b[0;34m[\u001b[0m\u001b[0md1\u001b[0m\u001b[0;34m]\u001b[0m\u001b[0;34m:\u001b[0m\u001b[0;34m\u001b[0m\u001b[0;34m\u001b[0m\u001b[0m\n\u001b[0;32m----> 4\u001b[0;31m     \u001b[0mtweet_id\u001b[0m \u001b[0;34m=\u001b[0m \u001b[0meach_dictionary\u001b[0m\u001b[0;34m[\u001b[0m\u001b[0;34m'id'\u001b[0m\u001b[0;34m]\u001b[0m\u001b[0;34m\u001b[0m\u001b[0;34m\u001b[0m\u001b[0m\n\u001b[0m\u001b[1;32m      5\u001b[0m     \u001b[0mtext\u001b[0m \u001b[0;34m=\u001b[0m \u001b[0meach_dictionary\u001b[0m\u001b[0;34m[\u001b[0m\u001b[0;34m'text'\u001b[0m\u001b[0;34m]\u001b[0m\u001b[0;34m\u001b[0m\u001b[0;34m\u001b[0m\u001b[0m\n\u001b[1;32m      6\u001b[0m     \u001b[0mfavorite_count\u001b[0m \u001b[0;34m=\u001b[0m \u001b[0meach_dictionary\u001b[0m\u001b[0;34m[\u001b[0m\u001b[0;34m'favorite_count'\u001b[0m\u001b[0;34m]\u001b[0m\u001b[0;34m\u001b[0m\u001b[0;34m\u001b[0m\u001b[0m\n",
            "\u001b[0;31mTypeError\u001b[0m: string indices must be integers"
          ]
        }
      ]
    },
    {
      "cell_type": "code",
      "source": [
        "recents_list = []\n",
        "\n",
        "for each_dictionary in popular_dict:\n",
        "    tweet_id = each_dictionary['id']\n",
        "    text = each_dictionary['text']\n",
        "    favorite_count = each_dictionary['favorite_count']\n",
        "    retweet_count = each_dictionary['retweet_count']\n",
        "    created_at = each_dictionary['created_at']\n",
        "    location = each_dictionary['user']['location']\n",
        "    followers_count = each_dictionary['user']['followers_count']\n",
        "    friends_count = each_dictionary['user']['friends_count']\n",
        "    verified = each_dictionary['user']['verified']\n",
        "    hashtags = each_dictionary['entities']['hashtags']\n",
        "    user_mentions = each_dictionary['entities']['user_mentions']\n",
        "    name = each_dictionary['user']['name']\n",
        "    screen_name = each_dictionary['user']['screen_name']\n",
        "\n",
        "    popular_list.append({'tweet_id': str(tweet_id),\n",
        "                          'text': str(text),\n",
        "                          'favorite_count': int(favorite_count),\n",
        "                          'retweet_count': int(retweet_count),\n",
        "                          'created_at': created_at,\n",
        "                          'location': location,\n",
        "                          'followers_count': followers_count,\n",
        "                          'friends_count': friends_count,\n",
        "                          'verified': verified,\n",
        "                          'retweet_count': retweet_count,\n",
        "                          'favorite_count': favorite_count,\n",
        "                          'hashtags': hashtags,\n",
        "                          'user_mentions': user_mentions,\n",
        "                          'name': name,\n",
        "                          'screen_name': screen_name,\n",
        "                          })\n",
        "    \n",
        "    tweet_json_popular = pd.DataFrame(my_demo_list, columns = \n",
        "                              ['tweet_id', 'text', \n",
        "                                'favorite_count', 'retweet_count', \n",
        "                                'created_at', 'location',\n",
        "                                'followers_count', 'friends_count',\n",
        "                                'verified', 'hashtags',\n",
        "                                'user_mentions', 'name',\n",
        "                                'screen_name'])"
      ],
      "metadata": {
        "id": "BEvjqNZF0Rxl"
      },
      "execution_count": null,
      "outputs": []
    },
    {
      "cell_type": "code",
      "source": [
        "calendar = {'Jan': 1, 'Feb': 2, 'Mar': 3, 'Apr': 4, 'May': 5, 'Jun': 6, \n",
        "                'Jul': 7, 'Aug': 8, 'Sep': 9, 'Oct': 10, 'Nov': 11, 'Dec': 12}\n",
        "  \n",
        "tweet_json['Week_day'] = tweet_json['created_at'].str.slice(0,3)\n",
        "tweet_json['Month_name'] = tweet_json['created_at'].str.slice(4,7)\n",
        "tweet_json['Month'] = tweet_json['Month_name'].map(calendar)\n",
        "tweet_json['Day_number'] = tweet_json['created_at'].str.slice(8,10)\n",
        "tweet_json['Tweeted_at_time'] = tweet_json['created_at'].str.slice(11,19)\n",
        "tweet_json['Year'] = tweet_json['created_at'].str.slice(26,30)"
      ],
      "metadata": {
        "id": "3J32dDMsnKgr"
      },
      "execution_count": null,
      "outputs": []
    },
    {
      "cell_type": "code",
      "source": [
        "tweet_json['Data'] = str(str(tweet_json['Day_number']) + '-' + str(tweet_json['Month']) + '-' + str(tweet_json['Year']))"
      ],
      "metadata": {
        "id": "cEKY31zyW8Xt"
      },
      "execution_count": null,
      "outputs": []
    },
    {
      "cell_type": "code",
      "source": [
        "tweet_json['Data'][0]"
      ],
      "metadata": {
        "colab": {
          "base_uri": "https://localhost:8080/",
          "height": 87
        },
        "id": "lcTmdJGfmQEJ",
        "outputId": "3d367b04-575f-4f6c-9649-c3352349e9dc"
      },
      "execution_count": null,
      "outputs": [
        {
          "output_type": "execute_result",
          "data": {
            "application/vnd.google.colaboratory.intrinsic+json": {
              "type": "string"
            },
            "text/plain": [
              "'0     15\\n1     14\\n2     14\\n3     15\\n4     14\\n5     14\\n6     15\\n7     15\\n8     14\\n9     14\\n10    15\\n11    14\\n12    14\\n13    14\\nName: Day_number, dtype: object-0     1\\n1     1\\n2     1\\n3     1\\n4     1\\n5     1\\n6     1\\n7     1\\n8     1\\n9     1\\n10    1\\n11    1\\n12    1\\n13    1\\nName: Month, dtype: int64-0     2022\\n1     2022\\n2     2022\\n3     2022\\n4     2022\\n5     2022\\n6     2022\\n7     2022\\n8     2022\\n9     2022\\n10    2022\\n11    2022\\n12    2022\\n13    2022\\nName: Year, dtype: object'"
            ]
          },
          "metadata": {},
          "execution_count": 73
        }
      ]
    },
    {
      "cell_type": "code",
      "source": [
        "# em média, quantos seguidores ganha após um tweet positivo? e quantos perde após um tweet negativo?\n",
        "# modelo de classificação baseado na popularidade do participante\n",
        "# prob de ser eliminado no paredão de acordo com o atual nível de popularidade"
      ],
      "metadata": {
        "id": "aTkkDYfUpFWI"
      },
      "execution_count": null,
      "outputs": []
    },
    {
      "cell_type": "code",
      "source": [
        ""
      ],
      "metadata": {
        "id": "zIGCqJuvpV6X"
      },
      "execution_count": null,
      "outputs": []
    }
  ]
}