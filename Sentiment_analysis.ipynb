{
  "nbformat": 4,
  "nbformat_minor": 0,
  "metadata": {
    "colab": {
      "name": "Sentiment_analysis.ipynb",
      "provenance": [],
      "collapsed_sections": [],
      "mount_file_id": "1SR-3i9Wrab9mlb7RdoAnO_79DAVvlJaf",
      "authorship_tag": "ABX9TyNKWsa1C0y+3BUVWiVKegab",
      "include_colab_link": true
    },
    "kernelspec": {
      "name": "python3",
      "display_name": "Python 3"
    },
    "language_info": {
      "name": "python"
    }
  },
  "cells": [
    {
      "cell_type": "markdown",
      "metadata": {
        "id": "view-in-github",
        "colab_type": "text"
      },
      "source": [
        "<a href=\"https://colab.research.google.com/github/gmoraissc/Projetos_de_Data_Science/blob/main/Sentiment_analysis.ipynb\" target=\"_parent\"><img src=\"https://colab.research.google.com/assets/colab-badge.svg\" alt=\"Open In Colab\"/></a>"
      ]
    },
    {
      "cell_type": "code",
      "source": [
        "pip install emoji"
      ],
      "metadata": {
        "colab": {
          "base_uri": "https://localhost:8080/"
        },
        "id": "9DV_e0ztqQxk",
        "outputId": "410bd640-4a7a-43fc-845b-ae89a84ed41d"
      },
      "execution_count": null,
      "outputs": [
        {
          "output_type": "stream",
          "name": "stdout",
          "text": [
            "Collecting emoji\n",
            "  Downloading emoji-1.6.3.tar.gz (174 kB)\n",
            "\u001b[?25l\r\u001b[K     |█▉                              | 10 kB 27.3 MB/s eta 0:00:01\r\u001b[K     |███▊                            | 20 kB 30.4 MB/s eta 0:00:01\r\u001b[K     |█████▋                          | 30 kB 18.4 MB/s eta 0:00:01\r\u001b[K     |███████▌                        | 40 kB 15.6 MB/s eta 0:00:01\r\u001b[K     |█████████▍                      | 51 kB 8.3 MB/s eta 0:00:01\r\u001b[K     |███████████▎                    | 61 kB 8.5 MB/s eta 0:00:01\r\u001b[K     |█████████████▏                  | 71 kB 8.6 MB/s eta 0:00:01\r\u001b[K     |███████████████                 | 81 kB 9.5 MB/s eta 0:00:01\r\u001b[K     |█████████████████               | 92 kB 9.7 MB/s eta 0:00:01\r\u001b[K     |██████████████████▉             | 102 kB 7.9 MB/s eta 0:00:01\r\u001b[K     |████████████████████▊           | 112 kB 7.9 MB/s eta 0:00:01\r\u001b[K     |██████████████████████▋         | 122 kB 7.9 MB/s eta 0:00:01\r\u001b[K     |████████████████████████▌       | 133 kB 7.9 MB/s eta 0:00:01\r\u001b[K     |██████████████████████████▍     | 143 kB 7.9 MB/s eta 0:00:01\r\u001b[K     |████████████████████████████▏   | 153 kB 7.9 MB/s eta 0:00:01\r\u001b[K     |██████████████████████████████  | 163 kB 7.9 MB/s eta 0:00:01\r\u001b[K     |████████████████████████████████| 174 kB 7.9 MB/s eta 0:00:01\r\u001b[K     |████████████████████████████████| 174 kB 7.9 MB/s \n",
            "\u001b[?25hBuilding wheels for collected packages: emoji\n",
            "  Building wheel for emoji (setup.py) ... \u001b[?25l\u001b[?25hdone\n",
            "  Created wheel for emoji: filename=emoji-1.6.3-py3-none-any.whl size=170298 sha256=11b811c2c887cdab147fee59f13ece905d22db910d5c8946bd32383e15dbf383\n",
            "  Stored in directory: /root/.cache/pip/wheels/03/8b/d7/ad579fbef83c287215c0caab60fb0ae0f30c4d7ce5f580eade\n",
            "Successfully built emoji\n",
            "Installing collected packages: emoji\n",
            "Successfully installed emoji-1.6.3\n"
          ]
        }
      ]
    },
    {
      "cell_type": "code",
      "source": [
        "!pip install xlsxwriter"
      ],
      "metadata": {
        "id": "bVoxFz3_T3hW",
        "colab": {
          "base_uri": "https://localhost:8080/"
        },
        "outputId": "85e15958-144b-4d06-d525-0af48a5445bd"
      },
      "execution_count": null,
      "outputs": [
        {
          "output_type": "stream",
          "name": "stdout",
          "text": [
            "Collecting xlsxwriter\n",
            "  Downloading XlsxWriter-3.0.2-py3-none-any.whl (149 kB)\n",
            "\u001b[?25l\r\u001b[K     |██▏                             | 10 kB 17.4 MB/s eta 0:00:01\r\u001b[K     |████▍                           | 20 kB 20.9 MB/s eta 0:00:01\r\u001b[K     |██████▋                         | 30 kB 20.6 MB/s eta 0:00:01\r\u001b[K     |████████▊                       | 40 kB 16.7 MB/s eta 0:00:01\r\u001b[K     |███████████                     | 51 kB 9.3 MB/s eta 0:00:01\r\u001b[K     |█████████████▏                  | 61 kB 9.2 MB/s eta 0:00:01\r\u001b[K     |███████████████▎                | 71 kB 9.4 MB/s eta 0:00:01\r\u001b[K     |█████████████████▌              | 81 kB 10.4 MB/s eta 0:00:01\r\u001b[K     |███████████████████▊            | 92 kB 10.9 MB/s eta 0:00:01\r\u001b[K     |█████████████████████▉          | 102 kB 8.6 MB/s eta 0:00:01\r\u001b[K     |████████████████████████        | 112 kB 8.6 MB/s eta 0:00:01\r\u001b[K     |██████████████████████████▎     | 122 kB 8.6 MB/s eta 0:00:01\r\u001b[K     |████████████████████████████▍   | 133 kB 8.6 MB/s eta 0:00:01\r\u001b[K     |██████████████████████████████▋ | 143 kB 8.6 MB/s eta 0:00:01\r\u001b[K     |████████████████████████████████| 149 kB 8.6 MB/s \n",
            "\u001b[?25hInstalling collected packages: xlsxwriter\n",
            "Successfully installed xlsxwriter-3.0.2\n"
          ]
        }
      ]
    },
    {
      "cell_type": "code",
      "execution_count": 1,
      "metadata": {
        "id": "A2De13A6eBh2"
      },
      "outputs": [],
      "source": [
        "# imports\n",
        "import pandas as pd\n",
        "import numpy as np\n",
        "import tweepy, nltk, json, os, csv, xlsxwriter, pytz, re\n",
        "from pandas import ExcelWriter as ExcelWriter\n",
        "from pathlib import Path\n",
        "from datetime import datetime, date, timedelta\n",
        "from csv import writer"
      ]
    },
    {
      "cell_type": "code",
      "source": [
        "class auth_twitter(object):\n",
        "  \n",
        "  def __init__(self):\n",
        "    pass\n",
        "\n",
        "  def parametros_de_acesso(self, arquivo):\n",
        "    \n",
        "    self.arquivo = arquivo\n",
        "\n",
        "    with open (arquivo, 'r') as arquivo:\n",
        "      texto = arquivo.readlines()[0].split(',')\n",
        "    \n",
        "    access_token = texto[0].split('=')[1]\n",
        "    access_token_secret = texto[1].split('=')[1]\n",
        "    bearer_token = texto[2].split('=')[1]\n",
        "    consumer_key = texto[3].split('=')[1]\n",
        "    consumer_secret = texto[4].split('=')[1]\n",
        "\n",
        "    arquivo.close()\n",
        "\n",
        "    auth = tweepy.OAuthHandler(consumer_key, consumer_secret)\n",
        "    auth.set_access_token(access_token, access_token_secret)\n",
        "    api = tweepy.API(auth, wait_on_rate_limit=True)\n",
        "    \n",
        "    return api"
      ],
      "metadata": {
        "id": "gmuNrfoS7pC-"
      },
      "execution_count": 9,
      "outputs": []
    },
    {
      "cell_type": "code",
      "source": [
        "api = auth_twitter().parametros_de_acesso('/content/drive/MyDrive/01.Instagram profissional/NLP/Sentiment Analysis/BBB22/Twitter/auth.txt')"
      ],
      "metadata": {
        "id": "af5Ep4TuZbTp"
      },
      "execution_count": 11,
      "outputs": []
    },
    {
      "cell_type": "code",
      "source": [
        "#d1 = date.today().strftime(\"%d/%m/%Y\")\n",
        "d1 = corrigir_timezone()"
      ],
      "metadata": {
        "id": "TRsXoXVSNmQF"
      },
      "execution_count": 100,
      "outputs": []
    },
    {
      "cell_type": "code",
      "source": [
        "class pesquisas_de_tweets(object):\n",
        "\n",
        "  def __init__(self):\n",
        "    pass\n",
        "\n",
        "  def pesquisar_por_termo(self, query, result_type='recent', count=int(100)):\n",
        "    \n",
        "    global api\n",
        "\n",
        "    self.query = query\n",
        "    self.result_type = result_type\n",
        "    self.count = count\n",
        "\n",
        "    resultados_da_pesquisa = []\n",
        "\n",
        "    for status in tweepy.Cursor(api.search,\n",
        "                                q=self.query,\n",
        "                                result_type=self.result_type,\n",
        "                                count=self.count).items():\n",
        "                                \n",
        "                                resultados_da_pesquisa.append(status)\n",
        "\n",
        "    return resultados_da_pesquisa, result_type\n",
        " \n",
        "  def pesquisar_por_usuario(self, participante, result_type='recent', count=int(100)):\n",
        "    \n",
        "    global api, participantes_camarote, participantes_pipoca\n",
        "\n",
        "    self.participante = participante\n",
        "    self.result_type = result_type\n",
        "    self.count = count\n",
        "    \n",
        "    tipo_participante = informacoes_de_participantes().checar_tipo_participante(participante)\n",
        "\n",
        "    resultados_da_pesquisa = []\n",
        "\n",
        "    for status in tweepy.Cursor(api.user_timeline,\n",
        "                                screen_name=self.participante,\n",
        "                                result_type=self.result_type,\n",
        "                                exclude_replies=False).items(self.count):\n",
        "                                \n",
        "                                resultados_da_pesquisa.append(status)\n",
        "\n",
        "    return resultados_da_pesquisa, result_type, tipo_participante\n",
        "\n",
        "  def pesquisar_infos_usuario(self, screen_name):\n",
        "  \n",
        "    global api\n",
        "\n",
        "    informacoes_hist_participante = []\n",
        "\n",
        "    user_results = api.get_user(screen_name)\n",
        "\n",
        "    utcmoment_naive = datetime.utcnow()\n",
        "    utcmoment = utcmoment_naive.replace(tzinfo=pytz.utc)\n",
        "    tz = 'America/Sao_Paulo'\n",
        "    extracao = utcmoment.astimezone(pytz.timezone(tz)) - timedelta(hours=0, minutes=60)\n",
        "    \n",
        "    participante = user_results.name\n",
        "    twitter = user_results.screen_name\n",
        "    seguidores = user_results.followers_count\n",
        "    seguindo = user_results.friends_count\n",
        "    numero_de_listados = user_results.listed_count\n",
        "    n_tweets_favoritados = user_results.favourites_count\n",
        "    num_de_tweets_totais = user_results.statuses_count\n",
        "    verificado = user_results.verified\n",
        "\n",
        "    informacoes_hist_participante.append({'participante': str(participante),\n",
        "                                          'twitter': str(twitter),\n",
        "                                          'n_seguidores': int(seguidores),\n",
        "                                          'n_seguindo': int(seguindo),\n",
        "                                          'n_de_listados': int(numero_de_listados),\n",
        "                                          'n_tweets_favoritados': int(n_tweets_favoritados),\n",
        "                                          'num_de_tweets_totais': int(num_de_tweets_totais),\n",
        "                                          'verificado': bool(verificado),\n",
        "                                          'data': extracao})\n",
        "    \n",
        "    return informacoes_hist_participante\n",
        "\n",
        "  def historico_infos(self, participantes):\n",
        "  \n",
        "    historico_info_participantes = []\n",
        "\n",
        "    for participante in participantes:\n",
        "      _ = self.pesquisar_infos_usuario(participante)\n",
        "      historico_info_participantes.extend(_)\n",
        "    \n",
        "    return historico_info_participantes"
      ],
      "metadata": {
        "id": "RL_XrvFE1GBp"
      },
      "execution_count": 69,
      "outputs": []
    },
    {
      "cell_type": "code",
      "source": [
        "class organizar_coletas_de_tweets(object):\n",
        "\n",
        "  def __init__(self):\n",
        "    pass\n",
        "\n",
        "  def criar_dicionario_pesquisas(self, tweets_status, tipo):\n",
        "      \n",
        "    global d1\n",
        "\n",
        "    self.tweets_status = tweets_status\n",
        "\n",
        "    dicionario = {}\n",
        "\n",
        "    for each_json_tweet in tweets_status:\n",
        "      _ = json.dumps(each_json_tweet._json)\n",
        "      \n",
        "      if d1 not in dicionario.keys():\n",
        "        tweet = {d1: [json.loads(_)]}\n",
        "        dicionario.update(tweet)\n",
        "        \n",
        "      else:\n",
        "        dicionario[d1].append(json.loads(_))\n",
        "      \n",
        "    return dicionario, tipo\n",
        "\n",
        "  def criar_dataframe(self, dicionario, tipo_de_pesquisa):\n",
        "    \n",
        "    self.tipo_de_pesquisa = tipo_de_pesquisa\n",
        "\n",
        "    lista = []\n",
        "\n",
        "    for i in range(0, len(dicionario[d1])):\n",
        "\n",
        "          tweet_id = dicionario[d1][i]['id']\n",
        "          text = dicionario[d1][i]['text']\n",
        "          favorite_count = dicionario[d1][i]['favorite_count']\n",
        "          retweet_count = dicionario[d1][i]['retweet_count']\n",
        "          created_at = dicionario[d1][i]['created_at']\n",
        "          location = dicionario[d1][i]['user']['location']\n",
        "          verified = dicionario[d1][i]['user']['verified']\n",
        "          hashtags = dicionario[d1][i]['entities']['hashtags']\n",
        "          user_mentions = dicionario[d1][i]['entities']['user_mentions']\n",
        "          name = dicionario[d1][i]['user']['name']\n",
        "          screen_name = dicionario[d1][i]['user']['screen_name']\n",
        "\n",
        "          lista.append({'tweet_id': str(tweet_id),\n",
        "                        'text': str(text),\n",
        "                        'favorite_count': int(favorite_count),\n",
        "                        'retweet_count': int(retweet_count),\n",
        "                        'created_at': created_at,\n",
        "                        'location': location,\n",
        "                        'verified': verified,\n",
        "                        'hashtags': hashtags,\n",
        "                        'user_mentions': user_mentions,\n",
        "                        'name': name,\n",
        "                        'screen_name': screen_name})\n",
        "          \n",
        "    tweet_json_ = pd.DataFrame(lista, columns = \n",
        "                              ['tweet_id', 'text', \n",
        "                                'favorite_count', 'retweet_count', \n",
        "                                'created_at', 'location',\n",
        "                                'verified', 'hashtags',\n",
        "                                'user_mentions', 'name',\n",
        "                                'screen_name'])\n",
        "          \n",
        "    tipo_participante = informacoes_de_participantes().checar_tipo_participante(screen_name)\n",
        "          \n",
        "    return tweet_json_, tipo_participante, tipo_de_pesquisa\n",
        "\n",
        "  def salvar_csvs_no_diretorio(self, tipo_participante, tipo_pesquisa, dataframe):\n",
        "    \n",
        "    dir_csvs = f'/content/drive/MyDrive/01.Instagram profissional/NLP/Sentiment Analysis/BBB22/Twitter/DataFrames'\n",
        "    data_extracao = corrigir_timezone()\n",
        "    file_variable = dir_csvs + \"/\" + tipo_participante  + \"/\" + tipo_pesquisa + \"/\" + data_extracao\n",
        "    file_name = tipo_participante[0:3] + \"_\" + tipo_pesquisa[0:3] + \"_\" + data_extracao + '.csv'\n",
        "    file_path = file_variable + \"/\" + file_name\n",
        "\n",
        "    if not os.path.exists(file_variable):\n",
        "      os.makedirs(file_variable)\n",
        "      dataframe.to_csv(file_path, index=False)\n",
        "\n",
        "    else:\n",
        "      with open(file_path, 'a') as f_object:\n",
        "        writer_object = writer(f_object, delimiter=',')\n",
        "        linhas = []\n",
        "        \n",
        "        for row in range(0, len(dataframe)):\n",
        "          linhas.append([row for row in dataframe.iloc[row]])\n",
        "          writer_object.writerow(linhas[row])\n",
        "\n",
        "        f_object.close()\n",
        "\n",
        "  def salvar_historico(self, dataframe):\n",
        "    \n",
        "    dir_csvs = f'/content/drive/MyDrive/01.Instagram profissional/NLP/Sentiment Analysis/BBB22/Twitter/DataFrames/Participantes'\n",
        "    data_extracao = corrigir_timezone()\n",
        "    file_variable = dir_csvs + \"/\" + data_extracao\n",
        "    file_name = 'historico.csv'\n",
        "    file_path = file_variable + \"/\" + file_name\n",
        "\n",
        "    if not os.path.exists(file_variable):\n",
        "      os.makedirs(file_variable)\n",
        "      dataframe.to_csv(file_path, index=False)\n",
        "\n",
        "    else:\n",
        "      with open(file_path, 'a') as f_object:\n",
        "        writer_object = writer(f_object, delimiter=',')\n",
        "        linhas = []\n",
        "        \n",
        "        for row in range(0, len(dataframe)):\n",
        "          linhas.append([row for row in dataframe.iloc[row]])\n",
        "          writer_object.writerow(linhas[row])\n",
        "\n",
        "        f_object.close()\n",
        "\n",
        "  def dataframe_dos_participantes(self, informacoes_hist_participante):\n",
        "\n",
        "      self.informacoes_hist_participante = informacoes_hist_participante\n",
        "\n",
        "      dados_participantes = pd.DataFrame(informacoes_hist_participante, columns = \n",
        "                                      ['participante', 'twitter', 'n_seguidores', \n",
        "                                      'n_seguindo','n_de_listados', 'n_tweets_favoritados',\n",
        "                                      'num_de_tweets_totais', 'verificado', 'data'])\n",
        "      \n",
        "      return dados_participantes"
      ],
      "metadata": {
        "id": "VUzJV9SfHLw5"
      },
      "execution_count": 128,
      "outputs": []
    },
    {
      "cell_type": "code",
      "source": [
        "# metodo para adicionar termos mais relevantes para o modelo *publico e por participante, exemplo, memes\n",
        "#termos mais frequentes para determinado participante\n",
        "\n",
        "termos_de_pesquisa_BBB = ('BBB OR BBB22 OR BIG BROTHER BRASIL OR BIG BROTHER BRASIL 2022 OR OR #REDEBBB OR BIGBROTHER OR #BIGBROTHER OR #BBB OR #BBB22')\n",
        "\n",
        "termos_de_pesquisa_participantes = {'Arthur': ['Arthur', 'Artur', 'Aguiar', 'Arthur Aguiar', '\\u2747\\ufe0f', '#TeamAguiar', '#TeamArthurAguiar'],\n",
        "                                    'Naiara Azevedo': ['Naiara', 'Azevedo', '1f4b8', '#TeamNaiara', 'Nai', 'cantora'],\n",
        "                                    'Pedro Scooby': ['Pedro', 'Scooby', '1f30a', '#TeamScooby', '#TimeScooby', '1f499'],\n",
        "                                    'Brunna Gonçalves': ['Brunna', 'Gonçalves', '1f984', '#BBBRUNNA', 'BBBrunna', ''],\n",
        "                                    'Paulo André': ['Paulo', 'André', '1f3c1', '#TeamPauloAndré', 'TeamPauloAndre'],\n",
        "                                    'Maria': ['Maria', '1f40d\t', '#TEAMMARIA', 'TIME MARIA', 'MARICONAS', ''],\n",
        "                                    'Jade Picon': ['Jade', 'Picon', '1f32a\\ufe0f', 'furacão', '#TeamJade', 'Picão', 'KdJade', 'Picões', 'Furacao'],\n",
        "                                    'Douglas Silva': ['Douglas', 'Silva', '1f3b2', 'dado', 'dadinho',\n",
        "                                    '#TeamDouglasSilva', '1f44a\\U0001f3ff'],\n",
        "                                    'Linn da Quebrada': ['Linn', 'Quebrada', '1f9dc\\u200d\\u2640\\ufe0f', '1f9dc\\U0001f3ff\\u200d\\u2640\\ufe0f',\n",
        "                                    '1f9dc\\U0001f3fb\\u200d\\u2640\\ufe0f', '1f9dc\\U0001f3fe\\u200d\\u2640\\ufe0f', '1f9dc\\U0001f3fc\\u200d\\u2640\\ufe0f',\n",
        "                                    '1f9dc\\U0001f3fd\\u200d\\u2640\\ufe0f', '1f9dc', '1f9dc\\U0001f3ff', '1f9dc\\U0001f3fb', '1f9dc\\U0001f3fe',\n",
        "                                    '1f9dc\\U0001f3fc', '1f9dc\\U0001f3fd', '#TeamLinn', '#linndonas', '#LinnDonas'],\n",
        "                                    'Tiago Abravanel': ['Tiago', 'Abravanel', '1f43b', '#TeamAbrava', '#TeamAbravanel', '1f9f8'],\n",
        "                                    'Laís Caldas': ['Laís', 'Caldas', '1f462', '#TeamLais', '#TeamLaís', 'Time Lais', '1f49a'],\n",
        "                                    'Luciano Estevan': ['Luciano', 'Estevan', '1f981', '#TeamLucianoEstevan', 'Lu', '1f346'],\n",
        "                                    'Jessilane': ['Jessilane', '1f9ec', 'Jessi', '#TeamJessi', '#TimeJessi', '1f49c', 'Charmanders', ''],\n",
        "                                    'Eliezer': ['Eliezer', '1F437', 'Eli', '#TeamEli', '1F953', '1F416', '1F43D'],\n",
        "                                    'Eslovênia Marques': ['Eslovênia', 'Eslováquia', 'Marques', 'Eslô', '1f1f8\\U0001f1ee',\n",
        "                                                          'Time Eslo', 'Team Eslo', '#TimeEslô', '#TeamEslô',\n",
        "                                                          'Eslovenia'],\n",
        "                                    'Bábara Heck': ['Bárbara', 'Heck', '1f980', '#TeamBá', 'TeamBá', 'TimeBá',\n",
        "                                                    'TimeBa', 'TeamBa', 'TeamBah', 'BBBah', 'Bá', 'Ba', '1f9a6'],\n",
        "                                    'Rodrigo Mussi': ['Rodrigo Mussi', 'Mussi', 'Rodrigo', 'TEAM MUSSI', '#TeamMussi',\n",
        "                                                      '#TimeMussi', '1f977\\U0001f3ff', '1f977', '1f977\\U0001f3fb',\n",
        "                                                      '1f977\\U0001f3fe', '1f977\\U0001f3fc', '1f977\\U0001f3fd', 'ninja', 'ninjas',\n",
        "                                                      'TEAM NINJA', ''],\n",
        "                                    'Natália Deodato': ['Natália', 'Deodato', '#TeamNaty', '#TimeNaty', 'Naty', 'vitilindos',\n",
        "                                                        '1f483', '1f483\\U0001f3ff', '1f483\\U0001f3fb',\n",
        "                                                        '1f483\\U0001f3fe', '1f483\\U0001f3fc',\n",
        "                                                        '1f483\\U0001f3fd'],\n",
        "                                    'Vinicius': ['Vinicius', 'TeamVyni', '#TimeVyni', '#TeamVyni', '1f4a1'],\n",
        "                                    'Lucas Bissoli': ['Lucas', 'Bissoli', '#TimeBissoli', '#TeamBissoli', \n",
        "                                                      '1f3c4\\u200d\\u2642\\ufe0f', '1f3c4\\U0001f3ff\\u200d\\u2642\\ufe0f', \n",
        "                                                      '1f3c4\\U0001f3fb\\u200d\\u2642\\ufe0f', '1f3c4\\U0001f3fe\\u200d\\u2642\\ufe0f',\n",
        "                                                      '1f3c4\\U0001f3fc\\u200d\\u2642\\ufe0f', '1f3c4\\U0001f3fd\\u200d\\u2642\\ufe0f',\n",
        "                                                      '1f3c4', '1f3c4\\U0001f3ff', '1f3c4\\U0001f3fb', '1f3c4\\U0001f3fe',\n",
        "                                                      '1f3c4\\U0001f3fc', '1f3c4\\U0001f3fd', '1f3c4\\u200d\\u2640\\ufe0f',\n",
        "                                                      '1f3c4\\U0001f3ff\\u200d\\u2640\\ufe0f', '1f3c4\\U0001f3fb\\u200d\\u2640\\ufe0f',\n",
        "                                                      '1f3c4\\U0001f3fe\\u200d\\u2640\\ufe0f', '1f3c4\\U0001f3fc\\u200d\\u2640\\ufe0f',\n",
        "                                                      '1f3c4\\U0001f3fd\\u200d\\u2640\\ufe0f']}\n",
        "                                    \n",
        "dicionario_participantes = {'@Aguiarthur': 'Arthur Aguiar', \n",
        "                            '@Naiarazevedo': 'Naiara Azevedo',\n",
        "                            '@PedroScooby': 'Pedro Scooby',\n",
        "                            '@brunnagoncalves': 'Bruna Gonçalves',\n",
        "                            '@iampauloandre': 'Paulo André',\n",
        "                            '@eumaria': 'Maria',\n",
        "                            '@jadepicon': 'Jade Picon',\n",
        "                            '@Silva_DG': 'Douglas Silva',\n",
        "                            '@linndaquebrada': 'Linn da Quebrada',\n",
        "                            '@TiagoAbravanel': 'Tiago Abravanel',\n",
        "                            '@Dra_laiscaldass': 'Laís Caldas',\n",
        "                            '@LucianoEstevan': 'Luciano Estevan',\n",
        "                            '@a_jessilane': 'Jessilane',\n",
        "                            '@eusouoeli': 'Eliezer',\n",
        "                            '@eslomarques': 'Eslovênia Maques',\n",
        "                            '@bbaheck': 'Bábara Heck',\n",
        "                            '@oficialmussi': 'Rodrigo Mussi',\n",
        "                            '@oficial_deodato': 'Natália Deodato',\n",
        "                            '@vyniof': 'Vinicius',\n",
        "                            '@LucasBissoli_': 'Lucas Bissoli'}\n",
        "\n",
        "participantes_camarote = ['Aguiarthur', 'Naiarazevedo', 'PedroScooby', 'brunnagoncalves', \n",
        "                          'iampauloandre', 'eumaria', 'jadepicon', 'Silva_DG', 'linndaquebrada', 'TiagoAbravanel']\n",
        "\n",
        "participantes_pipoca = ['Dra_laiscaldass', 'LucianoEstevan', 'a_jessilane', 'Eli', 'eslomarques', \n",
        "                        'bbaheck', 'oficialmussi', 'oficial_deodato', 'vyniof', 'LucasBissoli_']\n",
        "\n",
        "participantes_camarote_twitter = ['@Aguiarthur', '@Naiarazevedo', '@PedroScooby', '@brunnagoncalves', \n",
        "                          '@iampauloandre', '@eumaria', '@jadepicon', '@Silva_DG', '@linndaquebrada', '@TiagoAbravanel']\n",
        "\n",
        "participantes_pipoca_twitter = ['@Dra_laiscaldass', '@LucianoEstevan', '@a_jessilane', '@eusouoeli', '@eslomarques', \n",
        "                        '@bbaheck', '@oficialmussi', '@oficial_deodato', '@vyniof', '@LucasBissoli_']\n",
        "\n",
        "participantes_total = []\n",
        "participantes_total.extend(participantes_pipoca)\n",
        "participantes_total.extend(participantes_camarote)"
      ],
      "metadata": {
        "id": "SbQrOBweyleK"
      },
      "execution_count": 17,
      "outputs": []
    },
    {
      "cell_type": "code",
      "source": [
        "class informacoes_de_participantes(object):\n",
        "\n",
        "  def __init__(self):\n",
        "    pass\n",
        "\n",
        "  @staticmethod\n",
        "  def checar_tipo_participante(usuario):\n",
        "      if usuario in participantes_camarote:\n",
        "        return 'Camarote'\n",
        "      elif usuario in participantes_pipoca:\n",
        "        return 'Pipoca'\n",
        "      else:\n",
        "        return 'Publico'"
      ],
      "metadata": {
        "id": "Lu2x5fyPALbL"
      },
      "execution_count": 36,
      "outputs": []
    },
    {
      "cell_type": "code",
      "source": [
        "@abstractmethod\n",
        "def corrigir_timezone():\n",
        "  utcmoment_naive = datetime.utcnow()\n",
        "  utcmoment = utcmoment_naive.replace(tzinfo=pytz.utc)\n",
        "  tz = 'America/Sao_Paulo'\n",
        "  extracao = utcmoment.astimezone(pytz.timezone(tz)) - timedelta(hours=0, minutes=60)\n",
        "  data_de_extracao = extracao.date().strftime(\"%d%m%Y\")\n",
        "\n",
        "  return data_de_extracao"
      ],
      "metadata": {
        "id": "GUD0y5w8GKlH"
      },
      "execution_count": 95,
      "outputs": []
    },
    {
      "cell_type": "markdown",
      "source": [
        "TESTES"
      ],
      "metadata": {
        "id": "zUaqg0LXjs8l"
      }
    },
    {
      "cell_type": "code",
      "source": [
        "tweets, tipo_de_pesquisa, tipo_participante = pesquisas_de_tweets().pesquisar_por_usuario(participante='@PedroScooby', result_type='recent')"
      ],
      "metadata": {
        "id": "uU3bWqJ3RBzB"
      },
      "execution_count": 131,
      "outputs": []
    },
    {
      "cell_type": "code",
      "source": [
        "dicionario, tipo_de_pesquisa = organizar_coletas_de_tweets().criar_dicionario_pesquisas(tweets, tipo_de_pesquisa)"
      ],
      "metadata": {
        "id": "S3ZGpu7K6jLg"
      },
      "execution_count": 132,
      "outputs": []
    },
    {
      "cell_type": "code",
      "source": [
        "dataframe, tipo_participante, tipo_de_pesquisa = organizar_coletas_de_tweets().criar_dataframe(dicionario, tipo_de_pesquisa)"
      ],
      "metadata": {
        "id": "FiwvS3FgjrNR"
      },
      "execution_count": 133,
      "outputs": []
    },
    {
      "cell_type": "code",
      "source": [
        "organizar_coletas_de_tweets().salvar_csvs_no_diretorio(tipo_participante, tipo_de_pesquisa, dataframe)"
      ],
      "metadata": {
        "id": "8pX0iQXnJjn3"
      },
      "execution_count": 135,
      "outputs": []
    },
    {
      "cell_type": "code",
      "source": [
        "organizar_coletas_de_tweets().salvar_historico(organizar_coletas_de_tweets().dataframe_dos_participantes(pesquisas_de_tweets().historico_infos(participantes_total)))"
      ],
      "metadata": {
        "id": "ilwiR0-WvgMZ"
      },
      "execution_count": 112,
      "outputs": []
    },
    {
      "cell_type": "markdown",
      "source": [
        "NOVAS FUNCIONALIDADES"
      ],
      "metadata": {
        "id": "O7EIhyB3FjM2"
      }
    },
    {
      "cell_type": "code",
      "source": [
        "pd.read_csv(f'/content/drive/MyDrive/01.Instagram profissional/NLP/Sentiment Analysis/BBB22/Twitter/DataFrames/Camarote/recent/20012022/Cam_rec_20012022.csv')"
      ],
      "metadata": {
        "colab": {
          "base_uri": "https://localhost:8080/",
          "height": 226
        },
        "id": "EIdz58qpIWPX",
        "outputId": "c7fbabeb-d6ae-4e7e-a9fb-892996b38b40"
      },
      "execution_count": 105,
      "outputs": [
        {
          "output_type": "execute_result",
          "data": {
            "text/html": [
              "\n",
              "  <div id=\"df-c06ec72f-a6b2-42e9-a60f-60ae4d46bc79\">\n",
              "    <div class=\"colab-df-container\">\n",
              "      <div>\n",
              "<style scoped>\n",
              "    .dataframe tbody tr th:only-of-type {\n",
              "        vertical-align: middle;\n",
              "    }\n",
              "\n",
              "    .dataframe tbody tr th {\n",
              "        vertical-align: top;\n",
              "    }\n",
              "\n",
              "    .dataframe thead th {\n",
              "        text-align: right;\n",
              "    }\n",
              "</style>\n",
              "<table border=\"1\" class=\"dataframe\">\n",
              "  <thead>\n",
              "    <tr style=\"text-align: right;\">\n",
              "      <th></th>\n",
              "      <th>tweet_id</th>\n",
              "      <th>text</th>\n",
              "      <th>favorite_count</th>\n",
              "      <th>retweet_count</th>\n",
              "      <th>created_at</th>\n",
              "      <th>location</th>\n",
              "      <th>verified</th>\n",
              "      <th>hashtags</th>\n",
              "      <th>user_mentions</th>\n",
              "      <th>name</th>\n",
              "      <th>screen_name</th>\n",
              "    </tr>\n",
              "  </thead>\n",
              "  <tbody>\n",
              "    <tr>\n",
              "      <th>0</th>\n",
              "      <td>1484275264813252610</td>\n",
              "      <td>\"Se você votar em mim, cê pode ter certeza que...</td>\n",
              "      <td>13</td>\n",
              "      <td>54</td>\n",
              "      <td>Thu Jan 20 21:22:54 +0000 2022</td>\n",
              "      <td>Goiânia, Brasil</td>\n",
              "      <td>True</td>\n",
              "      <td>[]</td>\n",
              "      <td>[]</td>\n",
              "      <td>Naiara Azevedo 💸</td>\n",
              "      <td>Naiarazevedo</td>\n",
              "    </tr>\n",
              "    <tr>\n",
              "      <th>1</th>\n",
              "      <td>1484285363799703553</td>\n",
              "      <td>Pessoa: a \\nO Pedro: https://t.co/B601A7gp3J</td>\n",
              "      <td>1523</td>\n",
              "      <td>124</td>\n",
              "      <td>Thu Jan 20 22:03:02 +0000 2022</td>\n",
              "      <td>Rio de Janeiro, Brasil</td>\n",
              "      <td>True</td>\n",
              "      <td>[]</td>\n",
              "      <td>[]</td>\n",
              "      <td>Pedro Scooby 🌊</td>\n",
              "      <td>PedroScooby</td>\n",
              "    </tr>\n",
              "  </tbody>\n",
              "</table>\n",
              "</div>\n",
              "      <button class=\"colab-df-convert\" onclick=\"convertToInteractive('df-c06ec72f-a6b2-42e9-a60f-60ae4d46bc79')\"\n",
              "              title=\"Convert this dataframe to an interactive table.\"\n",
              "              style=\"display:none;\">\n",
              "        \n",
              "  <svg xmlns=\"http://www.w3.org/2000/svg\" height=\"24px\"viewBox=\"0 0 24 24\"\n",
              "       width=\"24px\">\n",
              "    <path d=\"M0 0h24v24H0V0z\" fill=\"none\"/>\n",
              "    <path d=\"M18.56 5.44l.94 2.06.94-2.06 2.06-.94-2.06-.94-.94-2.06-.94 2.06-2.06.94zm-11 1L8.5 8.5l.94-2.06 2.06-.94-2.06-.94L8.5 2.5l-.94 2.06-2.06.94zm10 10l.94 2.06.94-2.06 2.06-.94-2.06-.94-.94-2.06-.94 2.06-2.06.94z\"/><path d=\"M17.41 7.96l-1.37-1.37c-.4-.4-.92-.59-1.43-.59-.52 0-1.04.2-1.43.59L10.3 9.45l-7.72 7.72c-.78.78-.78 2.05 0 2.83L4 21.41c.39.39.9.59 1.41.59.51 0 1.02-.2 1.41-.59l7.78-7.78 2.81-2.81c.8-.78.8-2.07 0-2.86zM5.41 20L4 18.59l7.72-7.72 1.47 1.35L5.41 20z\"/>\n",
              "  </svg>\n",
              "      </button>\n",
              "      \n",
              "  <style>\n",
              "    .colab-df-container {\n",
              "      display:flex;\n",
              "      flex-wrap:wrap;\n",
              "      gap: 12px;\n",
              "    }\n",
              "\n",
              "    .colab-df-convert {\n",
              "      background-color: #E8F0FE;\n",
              "      border: none;\n",
              "      border-radius: 50%;\n",
              "      cursor: pointer;\n",
              "      display: none;\n",
              "      fill: #1967D2;\n",
              "      height: 32px;\n",
              "      padding: 0 0 0 0;\n",
              "      width: 32px;\n",
              "    }\n",
              "\n",
              "    .colab-df-convert:hover {\n",
              "      background-color: #E2EBFA;\n",
              "      box-shadow: 0px 1px 2px rgba(60, 64, 67, 0.3), 0px 1px 3px 1px rgba(60, 64, 67, 0.15);\n",
              "      fill: #174EA6;\n",
              "    }\n",
              "\n",
              "    [theme=dark] .colab-df-convert {\n",
              "      background-color: #3B4455;\n",
              "      fill: #D2E3FC;\n",
              "    }\n",
              "\n",
              "    [theme=dark] .colab-df-convert:hover {\n",
              "      background-color: #434B5C;\n",
              "      box-shadow: 0px 1px 3px 1px rgba(0, 0, 0, 0.15);\n",
              "      filter: drop-shadow(0px 1px 2px rgba(0, 0, 0, 0.3));\n",
              "      fill: #FFFFFF;\n",
              "    }\n",
              "  </style>\n",
              "\n",
              "      <script>\n",
              "        const buttonEl =\n",
              "          document.querySelector('#df-c06ec72f-a6b2-42e9-a60f-60ae4d46bc79 button.colab-df-convert');\n",
              "        buttonEl.style.display =\n",
              "          google.colab.kernel.accessAllowed ? 'block' : 'none';\n",
              "\n",
              "        async function convertToInteractive(key) {\n",
              "          const element = document.querySelector('#df-c06ec72f-a6b2-42e9-a60f-60ae4d46bc79');\n",
              "          const dataTable =\n",
              "            await google.colab.kernel.invokeFunction('convertToInteractive',\n",
              "                                                     [key], {});\n",
              "          if (!dataTable) return;\n",
              "\n",
              "          const docLinkHtml = 'Like what you see? Visit the ' +\n",
              "            '<a target=\"_blank\" href=https://colab.research.google.com/notebooks/data_table.ipynb>data table notebook</a>'\n",
              "            + ' to learn more about interactive tables.';\n",
              "          element.innerHTML = '';\n",
              "          dataTable['output_type'] = 'display_data';\n",
              "          await google.colab.output.renderOutput(dataTable, element);\n",
              "          const docLink = document.createElement('div');\n",
              "          docLink.innerHTML = docLinkHtml;\n",
              "          element.appendChild(docLink);\n",
              "        }\n",
              "      </script>\n",
              "    </div>\n",
              "  </div>\n",
              "  "
            ],
            "text/plain": [
              "              tweet_id  ...   screen_name\n",
              "0  1484275264813252610  ...  Naiarazevedo\n",
              "1  1484285363799703553  ...   PedroScooby\n",
              "\n",
              "[2 rows x 11 columns]"
            ]
          },
          "metadata": {},
          "execution_count": 105
        }
      ]
    },
    {
      "cell_type": "code",
      "source": [
        "tweet_json_recents.join(tweet_json_popular, on='tweet_id')"
      ],
      "metadata": {
        "colab": {
          "base_uri": "https://localhost:8080/",
          "height": 311
        },
        "id": "M_GiRJGrdvpV",
        "outputId": "d2c14cbf-eac1-4a29-ae11-6299e312f1d7"
      },
      "execution_count": null,
      "outputs": [
        {
          "output_type": "error",
          "ename": "ValueError",
          "evalue": "ignored",
          "traceback": [
            "\u001b[0;31m---------------------------------------------------------------------------\u001b[0m",
            "\u001b[0;31mValueError\u001b[0m                                Traceback (most recent call last)",
            "\u001b[0;32m<ipython-input-149-82e2a9b65252>\u001b[0m in \u001b[0;36m<module>\u001b[0;34m()\u001b[0m\n\u001b[0;32m----> 1\u001b[0;31m \u001b[0mtweet_json_recents\u001b[0m\u001b[0;34m.\u001b[0m\u001b[0mjoin\u001b[0m\u001b[0;34m(\u001b[0m\u001b[0mtweet_json_popular\u001b[0m\u001b[0;34m,\u001b[0m \u001b[0mon\u001b[0m\u001b[0;34m=\u001b[0m\u001b[0;34m'tweet_id'\u001b[0m\u001b[0;34m)\u001b[0m\u001b[0;34m\u001b[0m\u001b[0;34m\u001b[0m\u001b[0m\n\u001b[0m",
            "\u001b[0;32m/usr/local/lib/python3.7/dist-packages/pandas/core/frame.py\u001b[0m in \u001b[0;36mjoin\u001b[0;34m(self, other, on, how, lsuffix, rsuffix, sort)\u001b[0m\n\u001b[1;32m   7873\u001b[0m         \"\"\"\n\u001b[1;32m   7874\u001b[0m         return self._join_compat(\n\u001b[0;32m-> 7875\u001b[0;31m             \u001b[0mother\u001b[0m\u001b[0;34m,\u001b[0m \u001b[0mon\u001b[0m\u001b[0;34m=\u001b[0m\u001b[0mon\u001b[0m\u001b[0;34m,\u001b[0m \u001b[0mhow\u001b[0m\u001b[0;34m=\u001b[0m\u001b[0mhow\u001b[0m\u001b[0;34m,\u001b[0m \u001b[0mlsuffix\u001b[0m\u001b[0;34m=\u001b[0m\u001b[0mlsuffix\u001b[0m\u001b[0;34m,\u001b[0m \u001b[0mrsuffix\u001b[0m\u001b[0;34m=\u001b[0m\u001b[0mrsuffix\u001b[0m\u001b[0;34m,\u001b[0m \u001b[0msort\u001b[0m\u001b[0;34m=\u001b[0m\u001b[0msort\u001b[0m\u001b[0;34m\u001b[0m\u001b[0;34m\u001b[0m\u001b[0m\n\u001b[0m\u001b[1;32m   7876\u001b[0m         )\n\u001b[1;32m   7877\u001b[0m \u001b[0;34m\u001b[0m\u001b[0m\n",
            "\u001b[0;32m/usr/local/lib/python3.7/dist-packages/pandas/core/frame.py\u001b[0m in \u001b[0;36m_join_compat\u001b[0;34m(self, other, on, how, lsuffix, rsuffix, sort)\u001b[0m\n\u001b[1;32m   7896\u001b[0m                 \u001b[0mright_index\u001b[0m\u001b[0;34m=\u001b[0m\u001b[0;32mTrue\u001b[0m\u001b[0;34m,\u001b[0m\u001b[0;34m\u001b[0m\u001b[0;34m\u001b[0m\u001b[0m\n\u001b[1;32m   7897\u001b[0m                 \u001b[0msuffixes\u001b[0m\u001b[0;34m=\u001b[0m\u001b[0;34m(\u001b[0m\u001b[0mlsuffix\u001b[0m\u001b[0;34m,\u001b[0m \u001b[0mrsuffix\u001b[0m\u001b[0;34m)\u001b[0m\u001b[0;34m,\u001b[0m\u001b[0;34m\u001b[0m\u001b[0;34m\u001b[0m\u001b[0m\n\u001b[0;32m-> 7898\u001b[0;31m                 \u001b[0msort\u001b[0m\u001b[0;34m=\u001b[0m\u001b[0msort\u001b[0m\u001b[0;34m,\u001b[0m\u001b[0;34m\u001b[0m\u001b[0;34m\u001b[0m\u001b[0m\n\u001b[0m\u001b[1;32m   7899\u001b[0m             )\n\u001b[1;32m   7900\u001b[0m         \u001b[0;32melse\u001b[0m\u001b[0;34m:\u001b[0m\u001b[0;34m\u001b[0m\u001b[0;34m\u001b[0m\u001b[0m\n",
            "\u001b[0;32m/usr/local/lib/python3.7/dist-packages/pandas/core/reshape/merge.py\u001b[0m in \u001b[0;36mmerge\u001b[0;34m(left, right, how, on, left_on, right_on, left_index, right_index, sort, suffixes, copy, indicator, validate)\u001b[0m\n\u001b[1;32m     85\u001b[0m         \u001b[0mcopy\u001b[0m\u001b[0;34m=\u001b[0m\u001b[0mcopy\u001b[0m\u001b[0;34m,\u001b[0m\u001b[0;34m\u001b[0m\u001b[0;34m\u001b[0m\u001b[0m\n\u001b[1;32m     86\u001b[0m         \u001b[0mindicator\u001b[0m\u001b[0;34m=\u001b[0m\u001b[0mindicator\u001b[0m\u001b[0;34m,\u001b[0m\u001b[0;34m\u001b[0m\u001b[0;34m\u001b[0m\u001b[0m\n\u001b[0;32m---> 87\u001b[0;31m         \u001b[0mvalidate\u001b[0m\u001b[0;34m=\u001b[0m\u001b[0mvalidate\u001b[0m\u001b[0;34m,\u001b[0m\u001b[0;34m\u001b[0m\u001b[0;34m\u001b[0m\u001b[0m\n\u001b[0m\u001b[1;32m     88\u001b[0m     )\n\u001b[1;32m     89\u001b[0m     \u001b[0;32mreturn\u001b[0m \u001b[0mop\u001b[0m\u001b[0;34m.\u001b[0m\u001b[0mget_result\u001b[0m\u001b[0;34m(\u001b[0m\u001b[0;34m)\u001b[0m\u001b[0;34m\u001b[0m\u001b[0;34m\u001b[0m\u001b[0m\n",
            "\u001b[0;32m/usr/local/lib/python3.7/dist-packages/pandas/core/reshape/merge.py\u001b[0m in \u001b[0;36m__init__\u001b[0;34m(self, left, right, how, on, left_on, right_on, axis, left_index, right_index, sort, suffixes, copy, indicator, validate)\u001b[0m\n\u001b[1;32m    654\u001b[0m         \u001b[0;31m# validate the merge keys dtypes. We may need to coerce\u001b[0m\u001b[0;34m\u001b[0m\u001b[0;34m\u001b[0m\u001b[0;34m\u001b[0m\u001b[0m\n\u001b[1;32m    655\u001b[0m         \u001b[0;31m# to avoid incompatible dtypes\u001b[0m\u001b[0;34m\u001b[0m\u001b[0;34m\u001b[0m\u001b[0;34m\u001b[0m\u001b[0m\n\u001b[0;32m--> 656\u001b[0;31m         \u001b[0mself\u001b[0m\u001b[0;34m.\u001b[0m\u001b[0m_maybe_coerce_merge_keys\u001b[0m\u001b[0;34m(\u001b[0m\u001b[0;34m)\u001b[0m\u001b[0;34m\u001b[0m\u001b[0;34m\u001b[0m\u001b[0m\n\u001b[0m\u001b[1;32m    657\u001b[0m \u001b[0;34m\u001b[0m\u001b[0m\n\u001b[1;32m    658\u001b[0m         \u001b[0;31m# If argument passed to validate,\u001b[0m\u001b[0;34m\u001b[0m\u001b[0;34m\u001b[0m\u001b[0;34m\u001b[0m\u001b[0m\n",
            "\u001b[0;32m/usr/local/lib/python3.7/dist-packages/pandas/core/reshape/merge.py\u001b[0m in \u001b[0;36m_maybe_coerce_merge_keys\u001b[0;34m(self)\u001b[0m\n\u001b[1;32m   1163\u001b[0m                     \u001b[0minferred_right\u001b[0m \u001b[0;32min\u001b[0m \u001b[0mstring_types\u001b[0m \u001b[0;32mand\u001b[0m \u001b[0minferred_left\u001b[0m \u001b[0;32mnot\u001b[0m \u001b[0;32min\u001b[0m \u001b[0mstring_types\u001b[0m\u001b[0;34m\u001b[0m\u001b[0;34m\u001b[0m\u001b[0m\n\u001b[1;32m   1164\u001b[0m                 ):\n\u001b[0;32m-> 1165\u001b[0;31m                     \u001b[0;32mraise\u001b[0m \u001b[0mValueError\u001b[0m\u001b[0;34m(\u001b[0m\u001b[0mmsg\u001b[0m\u001b[0;34m)\u001b[0m\u001b[0;34m\u001b[0m\u001b[0;34m\u001b[0m\u001b[0m\n\u001b[0m\u001b[1;32m   1166\u001b[0m \u001b[0;34m\u001b[0m\u001b[0m\n\u001b[1;32m   1167\u001b[0m             \u001b[0;31m# datetimelikes must match exactly\u001b[0m\u001b[0;34m\u001b[0m\u001b[0;34m\u001b[0m\u001b[0;34m\u001b[0m\u001b[0m\n",
            "\u001b[0;31mValueError\u001b[0m: You are trying to merge on object and int64 columns. If you wish to proceed you should use pd.concat"
          ]
        }
      ]
    },
    {
      "cell_type": "code",
      "source": [
        "calendar = {'Jan': 1, 'Feb': 2, 'Mar': 3, 'Apr': 4, 'May': 5, 'Jun': 6, \n",
        "                'Jul': 7, 'Aug': 8, 'Sep': 9, 'Oct': 10, 'Nov': 11, 'Dec': 12}\n",
        "  \n",
        "tweet_json['Week_day'] = tweet_json['created_at'].str.slice(0,3)\n",
        "tweet_json['Month_name'] = tweet_json['created_at'].str.slice(4,7)\n",
        "tweet_json['Month'] = tweet_json['Month_name'].map(calendar)\n",
        "tweet_json['Day_number'] = tweet_json['created_at'].str.slice(8,10)\n",
        "tweet_json['Tweeted_at_time'] = tweet_json['created_at'].str.slice(11,19)\n",
        "tweet_json['Year'] = tweet_json['created_at'].str.slice(26,30)"
      ],
      "metadata": {
        "id": "3J32dDMsnKgr",
        "colab": {
          "base_uri": "https://localhost:8080/",
          "height": 235
        },
        "outputId": "0f83a6b4-5d44-40ac-db02-0c1085b6ee2c"
      },
      "execution_count": null,
      "outputs": [
        {
          "output_type": "error",
          "ename": "NameError",
          "evalue": "ignored",
          "traceback": [
            "\u001b[0;31m---------------------------------------------------------------------------\u001b[0m",
            "\u001b[0;31mNameError\u001b[0m                                 Traceback (most recent call last)",
            "\u001b[0;32m<ipython-input-143-45e9b3b9e0e3>\u001b[0m in \u001b[0;36m<module>\u001b[0;34m()\u001b[0m\n\u001b[1;32m      2\u001b[0m                 'Jul': 7, 'Aug': 8, 'Sep': 9, 'Oct': 10, 'Nov': 11, 'Dec': 12}\n\u001b[1;32m      3\u001b[0m \u001b[0;34m\u001b[0m\u001b[0m\n\u001b[0;32m----> 4\u001b[0;31m \u001b[0mtweet_json\u001b[0m\u001b[0;34m[\u001b[0m\u001b[0;34m'Week_day'\u001b[0m\u001b[0;34m]\u001b[0m \u001b[0;34m=\u001b[0m \u001b[0mtweet_json\u001b[0m\u001b[0;34m[\u001b[0m\u001b[0;34m'created_at'\u001b[0m\u001b[0;34m]\u001b[0m\u001b[0;34m.\u001b[0m\u001b[0mstr\u001b[0m\u001b[0;34m.\u001b[0m\u001b[0mslice\u001b[0m\u001b[0;34m(\u001b[0m\u001b[0;36m0\u001b[0m\u001b[0;34m,\u001b[0m\u001b[0;36m3\u001b[0m\u001b[0;34m)\u001b[0m\u001b[0;34m\u001b[0m\u001b[0;34m\u001b[0m\u001b[0m\n\u001b[0m\u001b[1;32m      5\u001b[0m \u001b[0mtweet_json\u001b[0m\u001b[0;34m[\u001b[0m\u001b[0;34m'Month_name'\u001b[0m\u001b[0;34m]\u001b[0m \u001b[0;34m=\u001b[0m \u001b[0mtweet_json\u001b[0m\u001b[0;34m[\u001b[0m\u001b[0;34m'created_at'\u001b[0m\u001b[0;34m]\u001b[0m\u001b[0;34m.\u001b[0m\u001b[0mstr\u001b[0m\u001b[0;34m.\u001b[0m\u001b[0mslice\u001b[0m\u001b[0;34m(\u001b[0m\u001b[0;36m4\u001b[0m\u001b[0;34m,\u001b[0m\u001b[0;36m7\u001b[0m\u001b[0;34m)\u001b[0m\u001b[0;34m\u001b[0m\u001b[0;34m\u001b[0m\u001b[0m\n\u001b[1;32m      6\u001b[0m \u001b[0mtweet_json\u001b[0m\u001b[0;34m[\u001b[0m\u001b[0;34m'Month'\u001b[0m\u001b[0;34m]\u001b[0m \u001b[0;34m=\u001b[0m \u001b[0mtweet_json\u001b[0m\u001b[0;34m[\u001b[0m\u001b[0;34m'Month_name'\u001b[0m\u001b[0;34m]\u001b[0m\u001b[0;34m.\u001b[0m\u001b[0mmap\u001b[0m\u001b[0;34m(\u001b[0m\u001b[0mcalendar\u001b[0m\u001b[0;34m)\u001b[0m\u001b[0;34m\u001b[0m\u001b[0;34m\u001b[0m\u001b[0m\n",
            "\u001b[0;31mNameError\u001b[0m: name 'tweet_json' is not defined"
          ]
        }
      ]
    },
    {
      "cell_type": "code",
      "source": [
        "tweet_json['Data'] = str(str(tweet_json['Day_number']) + '-' + str(tweet_json['Month']) + '-' + str(tweet_json['Year']))"
      ],
      "metadata": {
        "id": "cEKY31zyW8Xt"
      },
      "execution_count": null,
      "outputs": []
    },
    {
      "cell_type": "code",
      "source": [
        "tweet_json['Data'][0]"
      ],
      "metadata": {
        "colab": {
          "base_uri": "https://localhost:8080/",
          "height": 87
        },
        "id": "lcTmdJGfmQEJ",
        "outputId": "3d367b04-575f-4f6c-9649-c3352349e9dc"
      },
      "execution_count": null,
      "outputs": [
        {
          "output_type": "execute_result",
          "data": {
            "application/vnd.google.colaboratory.intrinsic+json": {
              "type": "string"
            },
            "text/plain": [
              "'0     15\\n1     14\\n2     14\\n3     15\\n4     14\\n5     14\\n6     15\\n7     15\\n8     14\\n9     14\\n10    15\\n11    14\\n12    14\\n13    14\\nName: Day_number, dtype: object-0     1\\n1     1\\n2     1\\n3     1\\n4     1\\n5     1\\n6     1\\n7     1\\n8     1\\n9     1\\n10    1\\n11    1\\n12    1\\n13    1\\nName: Month, dtype: int64-0     2022\\n1     2022\\n2     2022\\n3     2022\\n4     2022\\n5     2022\\n6     2022\\n7     2022\\n8     2022\\n9     2022\\n10    2022\\n11    2022\\n12    2022\\n13    2022\\nName: Year, dtype: object'"
            ]
          },
          "metadata": {},
          "execution_count": 73
        }
      ]
    },
    {
      "cell_type": "code",
      "source": [
        "# em média, quantos seguidores ganha após um tweet positivo? e quantos perde após um tweet negativo?\n",
        "# modelo de classificação baseado na popularidade do participante\n",
        "# prob de ser eliminado no paredão de acordo com o atual nível de popularidade"
      ],
      "metadata": {
        "id": "aTkkDYfUpFWI"
      },
      "execution_count": null,
      "outputs": []
    },
    {
      "cell_type": "code",
      "source": [
        "pipocas_part.head(3)"
      ],
      "metadata": {
        "colab": {
          "base_uri": "https://localhost:8080/",
          "height": 398
        },
        "id": "8TwUHb1nSaOP",
        "outputId": "bafca599-b395-4938-a9a5-abdb1d7c53b2"
      },
      "execution_count": null,
      "outputs": [
        {
          "output_type": "execute_result",
          "data": {
            "text/html": [
              "\n",
              "  <div id=\"df-0f296722-d9a8-44f3-820b-7409ecc4a5a7\">\n",
              "    <div class=\"colab-df-container\">\n",
              "      <div>\n",
              "<style scoped>\n",
              "    .dataframe tbody tr th:only-of-type {\n",
              "        vertical-align: middle;\n",
              "    }\n",
              "\n",
              "    .dataframe tbody tr th {\n",
              "        vertical-align: top;\n",
              "    }\n",
              "\n",
              "    .dataframe thead th {\n",
              "        text-align: right;\n",
              "    }\n",
              "</style>\n",
              "<table border=\"1\" class=\"dataframe\">\n",
              "  <thead>\n",
              "    <tr style=\"text-align: right;\">\n",
              "      <th></th>\n",
              "      <th>tweet_id</th>\n",
              "      <th>text</th>\n",
              "      <th>favorite_count</th>\n",
              "      <th>retweet_count</th>\n",
              "      <th>created_at</th>\n",
              "      <th>location</th>\n",
              "      <th>followers_count</th>\n",
              "      <th>friends_count</th>\n",
              "      <th>verified</th>\n",
              "      <th>hashtags</th>\n",
              "      <th>user_mentions</th>\n",
              "      <th>name</th>\n",
              "      <th>screen_name</th>\n",
              "    </tr>\n",
              "  </thead>\n",
              "  <tbody>\n",
              "    <tr>\n",
              "      <th>0</th>\n",
              "      <td>1483265947175632897</td>\n",
              "      <td>@medracital ❤️</td>\n",
              "      <td>2</td>\n",
              "      <td>0</td>\n",
              "      <td>Tue Jan 18 02:32:14 +0000 2022</td>\n",
              "      <td></td>\n",
              "      <td>3247</td>\n",
              "      <td>167</td>\n",
              "      <td>True</td>\n",
              "      <td>[]</td>\n",
              "      <td>[{'screen_name': 'medracital', 'name': 'lore 🇸...</td>\n",
              "      <td>Dra. Laís Caldas 👢</td>\n",
              "      <td>Dra_laiscaldass</td>\n",
              "    </tr>\n",
              "    <tr>\n",
              "      <th>1</th>\n",
              "      <td>1483265820528680961</td>\n",
              "      <td>@itscruella Pode encerrar viu? 😅🤍 https://t.co...</td>\n",
              "      <td>2</td>\n",
              "      <td>1</td>\n",
              "      <td>Tue Jan 18 02:31:44 +0000 2022</td>\n",
              "      <td></td>\n",
              "      <td>3247</td>\n",
              "      <td>167</td>\n",
              "      <td>True</td>\n",
              "      <td>[]</td>\n",
              "      <td>[{'screen_name': 'itscruella', 'name': 'Cruell...</td>\n",
              "      <td>Dra. Laís Caldas 👢</td>\n",
              "      <td>Dra_laiscaldass</td>\n",
              "    </tr>\n",
              "    <tr>\n",
              "      <th>2</th>\n",
              "      <td>1483265480945287169</td>\n",
              "      <td>Contem pra gente.. o que estão achando da Laís...</td>\n",
              "      <td>125</td>\n",
              "      <td>9</td>\n",
              "      <td>Tue Jan 18 02:30:23 +0000 2022</td>\n",
              "      <td></td>\n",
              "      <td>3247</td>\n",
              "      <td>167</td>\n",
              "      <td>True</td>\n",
              "      <td>[{'text': 'TeamLais', 'indices': [74, 83]}, {'...</td>\n",
              "      <td>[]</td>\n",
              "      <td>Dra. Laís Caldas 👢</td>\n",
              "      <td>Dra_laiscaldass</td>\n",
              "    </tr>\n",
              "  </tbody>\n",
              "</table>\n",
              "</div>\n",
              "      <button class=\"colab-df-convert\" onclick=\"convertToInteractive('df-0f296722-d9a8-44f3-820b-7409ecc4a5a7')\"\n",
              "              title=\"Convert this dataframe to an interactive table.\"\n",
              "              style=\"display:none;\">\n",
              "        \n",
              "  <svg xmlns=\"http://www.w3.org/2000/svg\" height=\"24px\"viewBox=\"0 0 24 24\"\n",
              "       width=\"24px\">\n",
              "    <path d=\"M0 0h24v24H0V0z\" fill=\"none\"/>\n",
              "    <path d=\"M18.56 5.44l.94 2.06.94-2.06 2.06-.94-2.06-.94-.94-2.06-.94 2.06-2.06.94zm-11 1L8.5 8.5l.94-2.06 2.06-.94-2.06-.94L8.5 2.5l-.94 2.06-2.06.94zm10 10l.94 2.06.94-2.06 2.06-.94-2.06-.94-.94-2.06-.94 2.06-2.06.94z\"/><path d=\"M17.41 7.96l-1.37-1.37c-.4-.4-.92-.59-1.43-.59-.52 0-1.04.2-1.43.59L10.3 9.45l-7.72 7.72c-.78.78-.78 2.05 0 2.83L4 21.41c.39.39.9.59 1.41.59.51 0 1.02-.2 1.41-.59l7.78-7.78 2.81-2.81c.8-.78.8-2.07 0-2.86zM5.41 20L4 18.59l7.72-7.72 1.47 1.35L5.41 20z\"/>\n",
              "  </svg>\n",
              "      </button>\n",
              "      \n",
              "  <style>\n",
              "    .colab-df-container {\n",
              "      display:flex;\n",
              "      flex-wrap:wrap;\n",
              "      gap: 12px;\n",
              "    }\n",
              "\n",
              "    .colab-df-convert {\n",
              "      background-color: #E8F0FE;\n",
              "      border: none;\n",
              "      border-radius: 50%;\n",
              "      cursor: pointer;\n",
              "      display: none;\n",
              "      fill: #1967D2;\n",
              "      height: 32px;\n",
              "      padding: 0 0 0 0;\n",
              "      width: 32px;\n",
              "    }\n",
              "\n",
              "    .colab-df-convert:hover {\n",
              "      background-color: #E2EBFA;\n",
              "      box-shadow: 0px 1px 2px rgba(60, 64, 67, 0.3), 0px 1px 3px 1px rgba(60, 64, 67, 0.15);\n",
              "      fill: #174EA6;\n",
              "    }\n",
              "\n",
              "    [theme=dark] .colab-df-convert {\n",
              "      background-color: #3B4455;\n",
              "      fill: #D2E3FC;\n",
              "    }\n",
              "\n",
              "    [theme=dark] .colab-df-convert:hover {\n",
              "      background-color: #434B5C;\n",
              "      box-shadow: 0px 1px 3px 1px rgba(0, 0, 0, 0.15);\n",
              "      filter: drop-shadow(0px 1px 2px rgba(0, 0, 0, 0.3));\n",
              "      fill: #FFFFFF;\n",
              "    }\n",
              "  </style>\n",
              "\n",
              "      <script>\n",
              "        const buttonEl =\n",
              "          document.querySelector('#df-0f296722-d9a8-44f3-820b-7409ecc4a5a7 button.colab-df-convert');\n",
              "        buttonEl.style.display =\n",
              "          google.colab.kernel.accessAllowed ? 'block' : 'none';\n",
              "\n",
              "        async function convertToInteractive(key) {\n",
              "          const element = document.querySelector('#df-0f296722-d9a8-44f3-820b-7409ecc4a5a7');\n",
              "          const dataTable =\n",
              "            await google.colab.kernel.invokeFunction('convertToInteractive',\n",
              "                                                     [key], {});\n",
              "          if (!dataTable) return;\n",
              "\n",
              "          const docLinkHtml = 'Like what you see? Visit the ' +\n",
              "            '<a target=\"_blank\" href=https://colab.research.google.com/notebooks/data_table.ipynb>data table notebook</a>'\n",
              "            + ' to learn more about interactive tables.';\n",
              "          element.innerHTML = '';\n",
              "          dataTable['output_type'] = 'display_data';\n",
              "          await google.colab.output.renderOutput(dataTable, element);\n",
              "          const docLink = document.createElement('div');\n",
              "          docLink.innerHTML = docLinkHtml;\n",
              "          element.appendChild(docLink);\n",
              "        }\n",
              "      </script>\n",
              "    </div>\n",
              "  </div>\n",
              "  "
            ],
            "text/plain": [
              "              tweet_id  ...      screen_name\n",
              "0  1483265947175632897  ...  Dra_laiscaldass\n",
              "1  1483265820528680961  ...  Dra_laiscaldass\n",
              "2  1483265480945287169  ...  Dra_laiscaldass\n",
              "\n",
              "[3 rows x 13 columns]"
            ]
          },
          "metadata": {},
          "execution_count": 111
        }
      ]
    },
    {
      "cell_type": "code",
      "source": [
        "word_tokenize(pipocas_part['text'])"
      ],
      "metadata": {
        "colab": {
          "base_uri": "https://localhost:8080/",
          "height": 165
        },
        "id": "KVAg_-DkF4dS",
        "outputId": "93f4545d-dc09-4d80-d285-75503143454e"
      },
      "execution_count": null,
      "outputs": [
        {
          "output_type": "error",
          "ename": "NameError",
          "evalue": "ignored",
          "traceback": [
            "\u001b[0;31m---------------------------------------------------------------------------\u001b[0m",
            "\u001b[0;31mNameError\u001b[0m                                 Traceback (most recent call last)",
            "\u001b[0;32m<ipython-input-112-6419b008a3ed>\u001b[0m in \u001b[0;36m<module>\u001b[0;34m()\u001b[0m\n\u001b[0;32m----> 1\u001b[0;31m \u001b[0mword_tokenize\u001b[0m\u001b[0;34m(\u001b[0m\u001b[0mpipocas_part\u001b[0m\u001b[0;34m[\u001b[0m\u001b[0;34m'text'\u001b[0m\u001b[0;34m]\u001b[0m\u001b[0;34m)\u001b[0m\u001b[0;34m\u001b[0m\u001b[0;34m\u001b[0m\u001b[0m\n\u001b[0m",
            "\u001b[0;31mNameError\u001b[0m: name 'word_tokenize' is not defined"
          ]
        }
      ]
    },
    {
      "cell_type": "code",
      "source": [
        "entrada_e_saida = {'Participante': 'a',\n",
        "                   'Entrada': data,\n",
        "                   'Eliminacao': data}"
      ],
      "metadata": {
        "id": "aGHwE1uny0Os"
      },
      "execution_count": null,
      "outputs": []
    }
  ]
}