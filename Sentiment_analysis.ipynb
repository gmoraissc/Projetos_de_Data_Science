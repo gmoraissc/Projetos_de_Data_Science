{
  "nbformat": 4,
  "nbformat_minor": 0,
  "metadata": {
    "colab": {
      "name": "Sentiment_analysis.ipynb",
      "provenance": [],
      "collapsed_sections": [],
      "mount_file_id": "1SR-3i9Wrab9mlb7RdoAnO_79DAVvlJaf",
      "authorship_tag": "ABX9TyPD5HdWa/qpU1LubAOkvFFN",
      "include_colab_link": true
    },
    "kernelspec": {
      "name": "python3",
      "display_name": "Python 3"
    },
    "language_info": {
      "name": "python"
    }
  },
  "cells": [
    {
      "cell_type": "markdown",
      "metadata": {
        "id": "view-in-github",
        "colab_type": "text"
      },
      "source": [
        "<a href=\"https://colab.research.google.com/github/gmoraissc/Projetos_de_Data_Science/blob/main/Sentiment_analysis.ipynb\" target=\"_parent\"><img src=\"https://colab.research.google.com/assets/colab-badge.svg\" alt=\"Open In Colab\"/></a>"
      ]
    },
    {
      "cell_type": "code",
      "execution_count": 55,
      "metadata": {
        "id": "A2De13A6eBh2"
      },
      "outputs": [],
      "source": [
        "# imports\n",
        "import pandas as pd\n",
        "import numpy as np\n",
        "import tweepy, nltk, json\n",
        "from datetime import datetime, date"
      ]
    },
    {
      "cell_type": "code",
      "source": [
        "access_token=\"590375619-tkJialGWR4R5ZoXJfWsZlx0DoLUfSDlbUi1hLATZ\"\n",
        "access_token_secret=\"cGjIJU3YM23f1qxH8LvUKd6Tm05zbOBUI9NcCDxLzJ39T\"\n",
        "bearer_token = 'AAAAAAAAAAAAAAAAAAAAAHeVYAEAAAAA9sjLNUPQJgclF6kKG0lPvLTq9nY%3DwprwxmnxRvmXpbU2CbXAoIGogKKEZCRxKwoi6xNW3au27KlCqk'\n",
        "consumer_key= 'vS7GEC5Cy7HixHoVKNpCR7cFr'\n",
        "consumer_secret=\"0cpjFY2tWCwDoWhqOwr2ZBDy6TbpNOtWnQOpU70V9V0Bwu0JNt\""
      ],
      "metadata": {
        "id": "a05ndHrKuXHr"
      },
      "execution_count": 56,
      "outputs": []
    },
    {
      "cell_type": "code",
      "source": [
        "auth = tweepy.OAuthHandler(consumer_key, consumer_secret)\n",
        "auth.set_access_token(access_token, access_token_secret)\n",
        "\n",
        "api = tweepy.API(auth)\n",
        "\n",
        "search_results_popular = api.search(q=['BBB22'],\n",
        "                            result_type='popular')\n",
        "\n",
        "search_results_recents = api.search(q=['BBB22'],\n",
        "                                    result_type='recent')"
      ],
      "metadata": {
        "id": "RL_XrvFE1GBp"
      },
      "execution_count": 57,
      "outputs": []
    },
    {
      "cell_type": "code",
      "source": [
        "popular_dict = {}\n",
        "recents_dict = {}\n",
        "d1 = date.today().strftime(\"%d/%m/%Y\")\n",
        "\n",
        "for each_json_tweet in search_results_popular:\n",
        "  _ = json.dumps(each_json_tweet._json)\n",
        "    \n",
        "  if d1 not in popular_dict.keys():\n",
        "     tweet = {d1: [json.loads(_)]}\n",
        "     popular_dict.update(tweet)\n",
        "   \n",
        "  else:\n",
        "      popular_dict[d1].append(_)\n",
        "\n",
        "for each_json_tweet in search_results_recents:\n",
        "\n",
        "  _ = json.dumps(each_json_tweet._json)\n",
        "\n",
        "  if d1 not in recents_dict.keys():\n",
        "    tweet = {d1: [json.loads(_)]}\n",
        "    recents_dict.update(tweet)\n",
        "\n",
        "  else:\n",
        "    recents_dict[d1].append(_)"
      ],
      "metadata": {
        "id": "e7Hs09z_cCXh"
      },
      "execution_count": 86,
      "outputs": []
    },
    {
      "cell_type": "code",
      "source": [
        "popular_dict[d1]"
      ],
      "metadata": {
        "colab": {
          "base_uri": "https://localhost:8080/"
        },
        "id": "cTyjX7yO14zI",
        "outputId": "e2f0ce93-be13-4651-b6d6-f9cbe404ab57"
      },
      "execution_count": 92,
      "outputs": [
        {
          "output_type": "stream",
          "name": "stdout",
          "text": [
            "{'created_at': 'Sun Jan 16 02:14:31 +0000 2022', 'id': 1482536715915083780, 'id_str': '1482536715915083780', 'text': 'De acordo com apuração da revista Quem, Marília Mendonça teria se arrependido de gravar com Naiara Azevedo e não go… https://t.co/oUeKkGOwS1', 'truncated': True, 'entities': {'hashtags': [], 'symbols': [], 'user_mentions': [], 'urls': [{'url': 'https://t.co/oUeKkGOwS1', 'expanded_url': 'https://twitter.com/i/web/status/1482536715915083780', 'display_url': 'twitter.com/i/web/status/1…', 'indices': [117, 140]}]}, 'metadata': {'iso_language_code': 'pt', 'result_type': 'popular'}, 'source': '<a href=\"http://twitter.com/download/iphone\" rel=\"nofollow\">Twitter for iPhone</a>', 'in_reply_to_status_id': None, 'in_reply_to_status_id_str': None, 'in_reply_to_user_id': None, 'in_reply_to_user_id_str': None, 'in_reply_to_screen_name': None, 'user': {'id': 132699857, 'id_str': '132699857', 'name': 'Tracklist #BBB22', 'screen_name': 'tracklist', 'location': 'Brasil', 'description': 'O melhor do entretenimento está aqui! | Comercial 📩 contato@tracklist.com.br', 'url': 'https://t.co/BwtcziIQND', 'entities': {'url': {'urls': [{'url': 'https://t.co/BwtcziIQND', 'expanded_url': 'https://tracklist.com.br', 'display_url': 'tracklist.com.br', 'indices': [0, 23]}]}, 'description': {'urls': []}}, 'protected': False, 'followers_count': 699120, 'friends_count': 740, 'listed_count': 1274, 'created_at': 'Tue Apr 13 23:33:32 +0000 2010', 'favourites_count': 32770, 'utc_offset': None, 'time_zone': None, 'geo_enabled': True, 'verified': True, 'statuses_count': 73360, 'lang': None, 'contributors_enabled': False, 'is_translator': False, 'is_translation_enabled': False, 'profile_background_color': 'DEDEDE', 'profile_background_image_url': 'http://abs.twimg.com/images/themes/theme1/bg.png', 'profile_background_image_url_https': 'https://abs.twimg.com/images/themes/theme1/bg.png', 'profile_background_tile': True, 'profile_image_url': 'http://pbs.twimg.com/profile_images/1420418040584355845/oMNy0xZA_normal.jpg', 'profile_image_url_https': 'https://pbs.twimg.com/profile_images/1420418040584355845/oMNy0xZA_normal.jpg', 'profile_banner_url': 'https://pbs.twimg.com/profile_banners/132699857/1612135865', 'profile_link_color': 'FF0000', 'profile_sidebar_border_color': 'FFFFFF', 'profile_sidebar_fill_color': 'B5BBFF', 'profile_text_color': '050505', 'profile_use_background_image': True, 'has_extended_profile': True, 'default_profile': False, 'default_profile_image': False, 'following': False, 'follow_request_sent': False, 'notifications': False, 'translator_type': 'none', 'withheld_in_countries': []}, 'geo': None, 'coordinates': None, 'place': None, 'contributors': None, 'is_quote_status': False, 'retweet_count': 2692, 'favorite_count': 39209, 'favorited': False, 'retweeted': False, 'possibly_sensitive': False, 'lang': 'pt'} \n",
            "\n",
            "{\"created_at\": \"Sat Jan 15 01:28:33 +0000 2022\", \"id\": 1482162756774150146, \"id_str\": \"1482162756774150146\", \"text\": \"Saudades do que nunca aconteceu\\u2026 #BBB22 https://t.co/xuKZYNFVme\", \"truncated\": false, \"entities\": {\"hashtags\": [{\"text\": \"BBB22\", \"indices\": [33, 39]}], \"symbols\": [], \"user_mentions\": [], \"urls\": [], \"media\": [{\"id\": 1482162749413154820, \"id_str\": \"1482162749413154820\", \"indices\": [40, 63], \"media_url\": \"http://pbs.twimg.com/media/FJGzKvIWYAQqLDI.jpg\", \"media_url_https\": \"https://pbs.twimg.com/media/FJGzKvIWYAQqLDI.jpg\", \"url\": \"https://t.co/xuKZYNFVme\", \"display_url\": \"pic.twitter.com/xuKZYNFVme\", \"expanded_url\": \"https://twitter.com/tracklist/status/1482162756774150146/photo/1\", \"type\": \"photo\", \"sizes\": {\"thumb\": {\"w\": 150, \"h\": 150, \"resize\": \"crop\"}, \"medium\": {\"w\": 750, \"h\": 919, \"resize\": \"fit\"}, \"large\": {\"w\": 750, \"h\": 919, \"resize\": \"fit\"}, \"small\": {\"w\": 555, \"h\": 680, \"resize\": \"fit\"}}}]}, \"extended_entities\": {\"media\": [{\"id\": 1482162749413154820, \"id_str\": \"1482162749413154820\", \"indices\": [40, 63], \"media_url\": \"http://pbs.twimg.com/media/FJGzKvIWYAQqLDI.jpg\", \"media_url_https\": \"https://pbs.twimg.com/media/FJGzKvIWYAQqLDI.jpg\", \"url\": \"https://t.co/xuKZYNFVme\", \"display_url\": \"pic.twitter.com/xuKZYNFVme\", \"expanded_url\": \"https://twitter.com/tracklist/status/1482162756774150146/photo/1\", \"type\": \"photo\", \"sizes\": {\"thumb\": {\"w\": 150, \"h\": 150, \"resize\": \"crop\"}, \"medium\": {\"w\": 750, \"h\": 919, \"resize\": \"fit\"}, \"large\": {\"w\": 750, \"h\": 919, \"resize\": \"fit\"}, \"small\": {\"w\": 555, \"h\": 680, \"resize\": \"fit\"}}}, {\"id\": 1482162749425737729, \"id_str\": \"1482162749425737729\", \"indices\": [40, 63], \"media_url\": \"http://pbs.twimg.com/media/FJGzKvLWYAELWRd.jpg\", \"media_url_https\": \"https://pbs.twimg.com/media/FJGzKvLWYAELWRd.jpg\", \"url\": \"https://t.co/xuKZYNFVme\", \"display_url\": \"pic.twitter.com/xuKZYNFVme\", \"expanded_url\": \"https://twitter.com/tracklist/status/1482162756774150146/photo/1\", \"type\": \"photo\", \"sizes\": {\"thumb\": {\"w\": 150, \"h\": 150, \"resize\": \"crop\"}, \"medium\": {\"w\": 750, \"h\": 921, \"resize\": \"fit\"}, \"large\": {\"w\": 750, \"h\": 921, \"resize\": \"fit\"}, \"small\": {\"w\": 554, \"h\": 680, \"resize\": \"fit\"}}}]}, \"metadata\": {\"iso_language_code\": \"pt\", \"result_type\": \"popular\"}, \"source\": \"<a href=\\\"http://twitter.com/download/iphone\\\" rel=\\\"nofollow\\\">Twitter for iPhone</a>\", \"in_reply_to_status_id\": null, \"in_reply_to_status_id_str\": null, \"in_reply_to_user_id\": null, \"in_reply_to_user_id_str\": null, \"in_reply_to_screen_name\": null, \"user\": {\"id\": 132699857, \"id_str\": \"132699857\", \"name\": \"Tracklist #BBB22\", \"screen_name\": \"tracklist\", \"location\": \"Brasil\", \"description\": \"O melhor do entretenimento est\\u00e1 aqui! | Comercial \\ud83d\\udce9 contato@tracklist.com.br\", \"url\": \"https://t.co/BwtcziIQND\", \"entities\": {\"url\": {\"urls\": [{\"url\": \"https://t.co/BwtcziIQND\", \"expanded_url\": \"https://tracklist.com.br\", \"display_url\": \"tracklist.com.br\", \"indices\": [0, 23]}]}, \"description\": {\"urls\": []}}, \"protected\": false, \"followers_count\": 699120, \"friends_count\": 740, \"listed_count\": 1274, \"created_at\": \"Tue Apr 13 23:33:32 +0000 2010\", \"favourites_count\": 32770, \"utc_offset\": null, \"time_zone\": null, \"geo_enabled\": true, \"verified\": true, \"statuses_count\": 73360, \"lang\": null, \"contributors_enabled\": false, \"is_translator\": false, \"is_translation_enabled\": false, \"profile_background_color\": \"DEDEDE\", \"profile_background_image_url\": \"http://abs.twimg.com/images/themes/theme1/bg.png\", \"profile_background_image_url_https\": \"https://abs.twimg.com/images/themes/theme1/bg.png\", \"profile_background_tile\": true, \"profile_image_url\": \"http://pbs.twimg.com/profile_images/1420418040584355845/oMNy0xZA_normal.jpg\", \"profile_image_url_https\": \"https://pbs.twimg.com/profile_images/1420418040584355845/oMNy0xZA_normal.jpg\", \"profile_banner_url\": \"https://pbs.twimg.com/profile_banners/132699857/1612135865\", \"profile_link_color\": \"FF0000\", \"profile_sidebar_border_color\": \"FFFFFF\", \"profile_sidebar_fill_color\": \"B5BBFF\", \"profile_text_color\": \"050505\", \"profile_use_background_image\": true, \"has_extended_profile\": true, \"default_profile\": false, \"default_profile_image\": false, \"following\": false, \"follow_request_sent\": false, \"notifications\": false, \"translator_type\": \"none\", \"withheld_in_countries\": []}, \"geo\": null, \"coordinates\": null, \"place\": null, \"contributors\": null, \"is_quote_status\": false, \"retweet_count\": 6703, \"favorite_count\": 45695, \"favorited\": false, \"retweeted\": false, \"possibly_sensitive\": false, \"lang\": \"pt\"} \n",
            "\n",
            "{\"created_at\": \"Sat Jan 15 17:33:52 +0000 2022\", \"id\": 1482405687263178761, \"id_str\": \"1482405687263178761\", \"text\": \"Jo\\u00e3o Gustavo, irm\\u00e3o de Mar\\u00edlia Mendon\\u00e7a, se pronunciou ap\\u00f3s descobrir que Naiara Azevedo ir\\u00e1 lan\\u00e7ar uma m\\u00fasica com\\u2026 https://t.co/8yz4E3ERub\", \"truncated\": true, \"entities\": {\"hashtags\": [], \"symbols\": [], \"user_mentions\": [], \"urls\": [{\"url\": \"https://t.co/8yz4E3ERub\", \"expanded_url\": \"https://twitter.com/i/web/status/1482405687263178761\", \"display_url\": \"twitter.com/i/web/status/1\\u2026\", \"indices\": [116, 139]}]}, \"metadata\": {\"iso_language_code\": \"pt\", \"result_type\": \"popular\"}, \"source\": \"<a href=\\\"http://twitter.com/download/iphone\\\" rel=\\\"nofollow\\\">Twitter for iPhone</a>\", \"in_reply_to_status_id\": null, \"in_reply_to_status_id_str\": null, \"in_reply_to_user_id\": null, \"in_reply_to_user_id_str\": null, \"in_reply_to_screen_name\": null, \"user\": {\"id\": 132699857, \"id_str\": \"132699857\", \"name\": \"Tracklist #BBB22\", \"screen_name\": \"tracklist\", \"location\": \"Brasil\", \"description\": \"O melhor do entretenimento est\\u00e1 aqui! | Comercial \\ud83d\\udce9 contato@tracklist.com.br\", \"url\": \"https://t.co/BwtcziIQND\", \"entities\": {\"url\": {\"urls\": [{\"url\": \"https://t.co/BwtcziIQND\", \"expanded_url\": \"https://tracklist.com.br\", \"display_url\": \"tracklist.com.br\", \"indices\": [0, 23]}]}, \"description\": {\"urls\": []}}, \"protected\": false, \"followers_count\": 699120, \"friends_count\": 740, \"listed_count\": 1274, \"created_at\": \"Tue Apr 13 23:33:32 +0000 2010\", \"favourites_count\": 32770, \"utc_offset\": null, \"time_zone\": null, \"geo_enabled\": true, \"verified\": true, \"statuses_count\": 73360, \"lang\": null, \"contributors_enabled\": false, \"is_translator\": false, \"is_translation_enabled\": false, \"profile_background_color\": \"DEDEDE\", \"profile_background_image_url\": \"http://abs.twimg.com/images/themes/theme1/bg.png\", \"profile_background_image_url_https\": \"https://abs.twimg.com/images/themes/theme1/bg.png\", \"profile_background_tile\": true, \"profile_image_url\": \"http://pbs.twimg.com/profile_images/1420418040584355845/oMNy0xZA_normal.jpg\", \"profile_image_url_https\": \"https://pbs.twimg.com/profile_images/1420418040584355845/oMNy0xZA_normal.jpg\", \"profile_banner_url\": \"https://pbs.twimg.com/profile_banners/132699857/1612135865\", \"profile_link_color\": \"FF0000\", \"profile_sidebar_border_color\": \"FFFFFF\", \"profile_sidebar_fill_color\": \"B5BBFF\", \"profile_text_color\": \"050505\", \"profile_use_background_image\": true, \"has_extended_profile\": true, \"default_profile\": false, \"default_profile_image\": false, \"following\": false, \"follow_request_sent\": false, \"notifications\": false, \"translator_type\": \"none\", \"withheld_in_countries\": []}, \"geo\": null, \"coordinates\": null, \"place\": null, \"contributors\": null, \"is_quote_status\": false, \"retweet_count\": 1758, \"favorite_count\": 29220, \"favorited\": false, \"retweeted\": false, \"possibly_sensitive\": false, \"lang\": \"pt\"} \n",
            "\n",
            "{\"created_at\": \"Sat Jan 15 17:01:09 +0000 2022\", \"id\": 1482397456126128131, \"id_str\": \"1482397456126128131\", \"text\": \"Oieeee!!! Cad\\u00ea os #TeamNaiara??? \\n\\nRetweet e Favorite aqui esse tweet, vamos estar seguindo voc\\u00eas!! \\ud83d\\udcb8\\u00a0#BBB22\", \"truncated\": false, \"entities\": {\"hashtags\": [{\"text\": \"TeamNaiara\", \"indices\": [18, 29]}, {\"text\": \"BBB22\", \"indices\": [102, 108]}], \"symbols\": [], \"user_mentions\": [], \"urls\": []}, \"metadata\": {\"iso_language_code\": \"pt\", \"result_type\": \"popular\"}, \"source\": \"<a href=\\\"http://twitter.com/download/android\\\" rel=\\\"nofollow\\\">Twitter for Android</a>\", \"in_reply_to_status_id\": null, \"in_reply_to_status_id_str\": null, \"in_reply_to_user_id\": null, \"in_reply_to_user_id_str\": null, \"in_reply_to_screen_name\": null, \"user\": {\"id\": 174090201, \"id_str\": \"174090201\", \"name\": \"Naiara Azevedo \\ud83d\\udcb8\", \"screen_name\": \"Naiarazevedo\", \"location\": \"Goi\\u00e2nia, Brasil\", \"description\": \"BBB 22 - #TEAMNAIARA \\ud83d\\udcb8 | Cantora / Compositora | Contato: marketing@naiaraazevedo.com\", \"url\": \"https://t.co/UdSJ4zUGcH\", \"entities\": {\"url\": {\"urls\": [{\"url\": \"https://t.co/UdSJ4zUGcH\", \"expanded_url\": \"https://instagram.com/naiaraazevedo?utm_medium=copy_link\", \"display_url\": \"instagram.com/naiaraazevedo?\\u2026\", \"indices\": [0, 23]}]}, \"description\": {\"urls\": []}}, \"protected\": false, \"followers_count\": 144586, \"friends_count\": 1691, \"listed_count\": 228, \"created_at\": \"Tue Aug 03 02:28:02 +0000 2010\", \"favourites_count\": 5159, \"utc_offset\": null, \"time_zone\": null, \"geo_enabled\": true, \"verified\": true, \"statuses_count\": 23646, \"lang\": null, \"contributors_enabled\": false, \"is_translator\": false, \"is_translation_enabled\": false, \"profile_background_color\": \"1E0BB3\", \"profile_background_image_url\": \"http://abs.twimg.com/images/themes/theme11/bg.gif\", \"profile_background_image_url_https\": \"https://abs.twimg.com/images/themes/theme11/bg.gif\", \"profile_background_tile\": false, \"profile_image_url\": \"http://pbs.twimg.com/profile_images/1482159649860292610/Uv_Wy-zA_normal.jpg\", \"profile_image_url_https\": \"https://pbs.twimg.com/profile_images/1482159649860292610/Uv_Wy-zA_normal.jpg\", \"profile_banner_url\": \"https://pbs.twimg.com/profile_banners/174090201/1642209373\", \"profile_link_color\": \"FAB81E\", \"profile_sidebar_border_color\": \"000000\", \"profile_sidebar_fill_color\": \"E5507E\", \"profile_text_color\": \"362720\", \"profile_use_background_image\": true, \"has_extended_profile\": true, \"default_profile\": false, \"default_profile_image\": false, \"following\": false, \"follow_request_sent\": false, \"notifications\": false, \"translator_type\": \"none\", \"withheld_in_countries\": []}, \"geo\": null, \"coordinates\": null, \"place\": null, \"contributors\": null, \"is_quote_status\": false, \"retweet_count\": 814, \"favorite_count\": 4676, \"favorited\": false, \"retweeted\": false, \"lang\": \"pt\"} \n",
            "\n",
            "{\"created_at\": \"Sun Jan 16 13:32:44 +0000 2022\", \"id\": 1482707393066770434, \"id_str\": \"1482707393066770434\", \"text\": \"\\u2728 Repete comigo: AMANH\\u00c3 TEM #BBB22!  \\u2728\\n\\nA espera t\\u00e1 chegando ao fim e o jogo VEM A\\u00cd! Preparados? \\ud83d\\udc40\\n\\nFique por dentr\\u2026 https://t.co/aIyb9BqSyJ\", \"truncated\": true, \"entities\": {\"hashtags\": [{\"text\": \"BBB22\", \"indices\": [28, 34]}], \"symbols\": [], \"user_mentions\": [], \"urls\": [{\"url\": \"https://t.co/aIyb9BqSyJ\", \"expanded_url\": \"https://twitter.com/i/web/status/1482707393066770434\", \"display_url\": \"twitter.com/i/web/status/1\\u2026\", \"indices\": [117, 140]}]}, \"metadata\": {\"iso_language_code\": \"pt\", \"result_type\": \"popular\"}, \"source\": \"<a href=\\\"https://mobile.twitter.com\\\" rel=\\\"nofollow\\\">Twitter Web App</a>\", \"in_reply_to_status_id\": null, \"in_reply_to_status_id_str\": null, \"in_reply_to_user_id\": null, \"in_reply_to_user_id_str\": null, \"in_reply_to_screen_name\": null, \"user\": {\"id\": 179185127, \"id_str\": \"179185127\", \"name\": \"Big Brother Brasil\", \"screen_name\": \"bbb\", \"location\": \"\", \"description\": \"\\ud83d\\udcc5 O #BBB22 estreia dia 17 de janeiro! #RedeBBB\", \"url\": \"https://t.co/dlg2V0CB9M\", \"entities\": {\"url\": {\"urls\": [{\"url\": \"https://t.co/dlg2V0CB9M\", \"expanded_url\": \"http://gshow.com/bbb\", \"display_url\": \"gshow.com/bbb\", \"indices\": [0, 23]}]}, \"description\": {\"urls\": []}}, \"protected\": false, \"followers_count\": 5387660, \"friends_count\": 45, \"listed_count\": 3351, \"created_at\": \"Mon Aug 16 18:24:53 +0000 2010\", \"favourites_count\": 1595, \"utc_offset\": null, \"time_zone\": null, \"geo_enabled\": true, \"verified\": true, \"statuses_count\": 57268, \"lang\": null, \"contributors_enabled\": false, \"is_translator\": false, \"is_translation_enabled\": false, \"profile_background_color\": \"03051C\", \"profile_background_image_url\": \"http://abs.twimg.com/images/themes/theme1/bg.png\", \"profile_background_image_url_https\": \"https://abs.twimg.com/images/themes/theme1/bg.png\", \"profile_background_tile\": false, \"profile_image_url\": \"http://pbs.twimg.com/profile_images/1477439908432257024/BSZNjGdP_normal.jpg\", \"profile_image_url_https\": \"https://pbs.twimg.com/profile_images/1477439908432257024/BSZNjGdP_normal.jpg\", \"profile_banner_url\": \"https://pbs.twimg.com/profile_banners/179185127/1642179575\", \"profile_link_color\": \"FF691F\", \"profile_sidebar_border_color\": \"FFFFFF\", \"profile_sidebar_fill_color\": \"DDEEF6\", \"profile_text_color\": \"333333\", \"profile_use_background_image\": true, \"has_extended_profile\": false, \"default_profile\": false, \"default_profile_image\": false, \"following\": false, \"follow_request_sent\": false, \"notifications\": false, \"translator_type\": \"regular\", \"withheld_in_countries\": []}, \"geo\": null, \"coordinates\": null, \"place\": null, \"contributors\": null, \"is_quote_status\": false, \"retweet_count\": 302, \"favorite_count\": 3054, \"favorited\": false, \"retweeted\": false, \"possibly_sensitive\": false, \"lang\": \"pt\"} \n",
            "\n",
            "{\"created_at\": \"Sat Jan 15 00:47:05 +0000 2022\", \"id\": 1482152323526889473, \"id_str\": \"1482152323526889473\", \"text\": \"\\u00c9 OFICIAL! Por essa as #linndonas n\\u00e3o esperavam, n\\u00e3o \\u00e9 mesmo? \\ud83e\\udddc\\ud83c\\udffd\\u200d\\u2640\\ufe0f\\n\\nEstamos no BBB22 e contamos com o #TeamLinn pa\\u2026 https://t.co/xP4acwFNi2\", \"truncated\": true, \"entities\": {\"hashtags\": [{\"text\": \"linndonas\", \"indices\": [23, 33]}, {\"text\": \"TeamLinn\", \"indices\": [103, 112]}], \"symbols\": [], \"user_mentions\": [], \"urls\": [{\"url\": \"https://t.co/xP4acwFNi2\", \"expanded_url\": \"https://twitter.com/i/web/status/1482152323526889473\", \"display_url\": \"twitter.com/i/web/status/1\\u2026\", \"indices\": [117, 140]}]}, \"metadata\": {\"iso_language_code\": \"pt\", \"result_type\": \"popular\"}, \"source\": \"<a href=\\\"http://twitter.com/download/iphone\\\" rel=\\\"nofollow\\\">Twitter for iPhone</a>\", \"in_reply_to_status_id\": null, \"in_reply_to_status_id_str\": null, \"in_reply_to_user_id\": null, \"in_reply_to_user_id_str\": null, \"in_reply_to_screen_name\": null, \"user\": {\"id\": 808827182571286528, \"id_str\": \"808827182571286528\", \"name\": \"Linn da Quebrada \\ud83e\\udddc\\ud83c\\udffd\\u200d\\u2640\\ufe0f\", \"screen_name\": \"linndaquebrada\", \"location\": \"S\\u00e3o Paulo, Brasil\", \"description\": \"#TeamLinn BBB22 \\ud83e\\udddc\\ud83c\\udffd\\u200d\\u2640\\ufe0f\\n\\nimprensa: muniky@stampacomunicacao.com publicidade: operacoes@digia.ag shows: contato@linndaquebrada.com\", \"url\": \"https://t.co/mZd4MPvxbd\", \"entities\": {\"url\": {\"urls\": [{\"url\": \"https://t.co/mZd4MPvxbd\", \"expanded_url\": \"http://www.linndaquebrada.com/\", \"display_url\": \"linndaquebrada.com\", \"indices\": [0, 23]}]}, \"description\": {\"urls\": []}}, \"protected\": false, \"followers_count\": 243665, \"friends_count\": 1316, \"listed_count\": 331, \"created_at\": \"Wed Dec 14 00:13:22 +0000 2016\", \"favourites_count\": 74757, \"utc_offset\": null, \"time_zone\": null, \"geo_enabled\": true, \"verified\": true, \"statuses_count\": 28816, \"lang\": null, \"contributors_enabled\": false, \"is_translator\": false, \"is_translation_enabled\": false, \"profile_background_color\": \"F5F8FA\", \"profile_background_image_url\": null, \"profile_background_image_url_https\": null, \"profile_background_tile\": false, \"profile_image_url\": \"http://pbs.twimg.com/profile_images/1482151972014854147/W8I9T5BM_normal.jpg\", \"profile_image_url_https\": \"https://pbs.twimg.com/profile_images/1482151972014854147/W8I9T5BM_normal.jpg\", \"profile_banner_url\": \"https://pbs.twimg.com/profile_banners/808827182571286528/1642207543\", \"profile_link_color\": \"1DA1F2\", \"profile_sidebar_border_color\": \"C0DEED\", \"profile_sidebar_fill_color\": \"DDEEF6\", \"profile_text_color\": \"333333\", \"profile_use_background_image\": true, \"has_extended_profile\": true, \"default_profile\": true, \"default_profile_image\": false, \"following\": false, \"follow_request_sent\": false, \"notifications\": false, \"translator_type\": \"none\", \"withheld_in_countries\": []}, \"geo\": null, \"coordinates\": null, \"place\": null, \"contributors\": null, \"is_quote_status\": false, \"retweet_count\": 6607, \"favorite_count\": 55662, \"favorited\": false, \"retweeted\": false, \"possibly_sensitive\": false, \"lang\": \"pt\"} \n",
            "\n",
            "{\"created_at\": \"Sat Jan 15 20:08:44 +0000 2022\", \"id\": 1482444660807290890, \"id_str\": \"1482444660807290890\", \"text\": \"Estavam ansiosos pra conhecer mais da minha casa? \\ud83d\\ude0d Ent\\u00e3o segue o fio e vem ver as fotos de onde os brothers do\\u2026 https://t.co/4qkn6Subqp\", \"truncated\": true, \"entities\": {\"hashtags\": [], \"symbols\": [], \"user_mentions\": [], \"urls\": [{\"url\": \"https://t.co/4qkn6Subqp\", \"expanded_url\": \"https://twitter.com/i/web/status/1482444660807290890\", \"display_url\": \"twitter.com/i/web/status/1\\u2026\", \"indices\": [113, 136]}]}, \"metadata\": {\"iso_language_code\": \"pt\", \"result_type\": \"popular\"}, \"source\": \"<a href=\\\"https://mobile.twitter.com\\\" rel=\\\"nofollow\\\">Twitter Web App</a>\", \"in_reply_to_status_id\": null, \"in_reply_to_status_id_str\": null, \"in_reply_to_user_id\": null, \"in_reply_to_user_id_str\": null, \"in_reply_to_screen_name\": null, \"user\": {\"id\": 179185127, \"id_str\": \"179185127\", \"name\": \"Big Brother Brasil\", \"screen_name\": \"bbb\", \"location\": \"\", \"description\": \"\\ud83d\\udcc5 O #BBB22 estreia dia 17 de janeiro! #RedeBBB\", \"url\": \"https://t.co/dlg2V0CB9M\", \"entities\": {\"url\": {\"urls\": [{\"url\": \"https://t.co/dlg2V0CB9M\", \"expanded_url\": \"http://gshow.com/bbb\", \"display_url\": \"gshow.com/bbb\", \"indices\": [0, 23]}]}, \"description\": {\"urls\": []}}, \"protected\": false, \"followers_count\": 5387660, \"friends_count\": 45, \"listed_count\": 3351, \"created_at\": \"Mon Aug 16 18:24:53 +0000 2010\", \"favourites_count\": 1595, \"utc_offset\": null, \"time_zone\": null, \"geo_enabled\": true, \"verified\": true, \"statuses_count\": 57268, \"lang\": null, \"contributors_enabled\": false, \"is_translator\": false, \"is_translation_enabled\": false, \"profile_background_color\": \"03051C\", \"profile_background_image_url\": \"http://abs.twimg.com/images/themes/theme1/bg.png\", \"profile_background_image_url_https\": \"https://abs.twimg.com/images/themes/theme1/bg.png\", \"profile_background_tile\": false, \"profile_image_url\": \"http://pbs.twimg.com/profile_images/1477439908432257024/BSZNjGdP_normal.jpg\", \"profile_image_url_https\": \"https://pbs.twimg.com/profile_images/1477439908432257024/BSZNjGdP_normal.jpg\", \"profile_banner_url\": \"https://pbs.twimg.com/profile_banners/179185127/1642179575\", \"profile_link_color\": \"FF691F\", \"profile_sidebar_border_color\": \"FFFFFF\", \"profile_sidebar_fill_color\": \"DDEEF6\", \"profile_text_color\": \"333333\", \"profile_use_background_image\": true, \"has_extended_profile\": false, \"default_profile\": false, \"default_profile_image\": false, \"following\": false, \"follow_request_sent\": false, \"notifications\": false, \"translator_type\": \"regular\", \"withheld_in_countries\": []}, \"geo\": null, \"coordinates\": null, \"place\": null, \"contributors\": null, \"is_quote_status\": false, \"retweet_count\": 649, \"favorite_count\": 15046, \"favorited\": false, \"retweeted\": false, \"possibly_sensitive\": false, \"lang\": \"pt\"} \n",
            "\n",
            "{\"created_at\": \"Sun Jan 16 14:00:01 +0000 2022\", \"id\": 1482714259121389571, \"id_str\": \"1482714259121389571\", \"text\": \"Entrar na casa emociona demais, n\\u00e9, @juliette? \\ud83d\\ude0d Prepare-se: o #BBB22 \\u00e9 amanh\\u00e3! https://t.co/9LNfKkkufX\", \"truncated\": false, \"entities\": {\"hashtags\": [{\"text\": \"BBB22\", \"indices\": [63, 69]}], \"symbols\": [], \"user_mentions\": [{\"screen_name\": \"juliette\", \"name\": \"Juliette\", \"id\": 1351188841558913025, \"id_str\": \"1351188841558913025\", \"indices\": [36, 45]}], \"urls\": [], \"media\": [{\"id\": 1482411949786898437, \"id_str\": \"1482411949786898437\", \"indices\": [80, 103], \"media_url\": \"http://pbs.twimg.com/tweet_video_thumb/FJKV0G3XoAUvPva.jpg\", \"media_url_https\": \"https://pbs.twimg.com/tweet_video_thumb/FJKV0G3XoAUvPva.jpg\", \"url\": \"https://t.co/9LNfKkkufX\", \"display_url\": \"pic.twitter.com/9LNfKkkufX\", \"expanded_url\": \"https://twitter.com/multishow/status/1482714259121389571/photo/1\", \"type\": \"photo\", \"sizes\": {\"thumb\": {\"w\": 150, \"h\": 150, \"resize\": \"crop\"}, \"large\": {\"w\": 360, \"h\": 360, \"resize\": \"fit\"}, \"small\": {\"w\": 360, \"h\": 360, \"resize\": \"fit\"}, \"medium\": {\"w\": 360, \"h\": 360, \"resize\": \"fit\"}}}]}, \"extended_entities\": {\"media\": [{\"id\": 1482411949786898437, \"id_str\": \"1482411949786898437\", \"indices\": [80, 103], \"media_url\": \"http://pbs.twimg.com/tweet_video_thumb/FJKV0G3XoAUvPva.jpg\", \"media_url_https\": \"https://pbs.twimg.com/tweet_video_thumb/FJKV0G3XoAUvPva.jpg\", \"url\": \"https://t.co/9LNfKkkufX\", \"display_url\": \"pic.twitter.com/9LNfKkkufX\", \"expanded_url\": \"https://twitter.com/multishow/status/1482714259121389571/photo/1\", \"type\": \"animated_gif\", \"sizes\": {\"thumb\": {\"w\": 150, \"h\": 150, \"resize\": \"crop\"}, \"large\": {\"w\": 360, \"h\": 360, \"resize\": \"fit\"}, \"small\": {\"w\": 360, \"h\": 360, \"resize\": \"fit\"}, \"medium\": {\"w\": 360, \"h\": 360, \"resize\": \"fit\"}}, \"video_info\": {\"aspect_ratio\": [1, 1], \"variants\": [{\"bitrate\": 0, \"content_type\": \"video/mp4\", \"url\": \"https://video.twimg.com/tweet_video/FJKV0G3XoAUvPva.mp4\"}]}}]}, \"metadata\": {\"iso_language_code\": \"pt\", \"result_type\": \"popular\"}, \"source\": \"<a href=\\\"https://mobile.twitter.com\\\" rel=\\\"nofollow\\\">Twitter Web App</a>\", \"in_reply_to_status_id\": null, \"in_reply_to_status_id_str\": null, \"in_reply_to_user_id\": null, \"in_reply_to_user_id_str\": null, \"in_reply_to_screen_name\": null, \"user\": {\"id\": 9604032, \"id_str\": \"9604032\", \"name\": \"Multishow \\u2728\", \"screen_name\": \"multishow\", \"location\": \"\", \"description\": \"A gente se diverte!\", \"url\": \"https://t.co/eA2oDRgavF\", \"entities\": {\"url\": {\"urls\": [{\"url\": \"https://t.co/eA2oDRgavF\", \"expanded_url\": \"http://multishow.com.br\", \"display_url\": \"multishow.com.br\", \"indices\": [0, 23]}]}, \"description\": {\"urls\": []}}, \"protected\": false, \"followers_count\": 6925332, \"friends_count\": 337, \"listed_count\": 4320, \"created_at\": \"Mon Oct 22 19:08:06 +0000 2007\", \"favourites_count\": 21281, \"utc_offset\": null, \"time_zone\": null, \"geo_enabled\": true, \"verified\": true, \"statuses_count\": 347199, \"lang\": null, \"contributors_enabled\": false, \"is_translator\": false, \"is_translation_enabled\": false, \"profile_background_color\": \"7461A3\", \"profile_background_image_url\": \"http://abs.twimg.com/images/themes/theme1/bg.png\", \"profile_background_image_url_https\": \"https://abs.twimg.com/images/themes/theme1/bg.png\", \"profile_background_tile\": false, \"profile_image_url\": \"http://pbs.twimg.com/profile_images/1469012047140642817/zMRz1bqJ_normal.jpg\", \"profile_image_url_https\": \"https://pbs.twimg.com/profile_images/1469012047140642817/zMRz1bqJ_normal.jpg\", \"profile_banner_url\": \"https://pbs.twimg.com/profile_banners/9604032/1639074742\", \"profile_link_color\": \"981CEB\", \"profile_sidebar_border_color\": \"FFFFFF\", \"profile_sidebar_fill_color\": \"FCFCFC\", \"profile_text_color\": \"383838\", \"profile_use_background_image\": true, \"has_extended_profile\": true, \"default_profile\": false, \"default_profile_image\": false, \"following\": false, \"follow_request_sent\": false, \"notifications\": false, \"translator_type\": \"none\", \"withheld_in_countries\": []}, \"geo\": null, \"coordinates\": null, \"place\": null, \"contributors\": null, \"is_quote_status\": false, \"retweet_count\": 336, \"favorite_count\": 3096, \"favorited\": false, \"retweeted\": false, \"possibly_sensitive\": false, \"lang\": \"pt\"} \n",
            "\n",
            "{\"created_at\": \"Sat Jan 15 13:23:17 +0000 2022\", \"id\": 1482342625067810816, \"id_str\": \"1482342625067810816\", \"text\": \"n\\u00e3o gente, mas pera\\u00ed, a barbara (bbb22), o daniel (bbb20), o irm\\u00e3o g\\u00eameo dele, o matheus mazzafera e o bolsonaro no\\u2026 https://t.co/IWyPIKRxoz\", \"truncated\": true, \"entities\": {\"hashtags\": [], \"symbols\": [], \"user_mentions\": [], \"urls\": [{\"url\": \"https://t.co/IWyPIKRxoz\", \"expanded_url\": \"https://twitter.com/i/web/status/1482342625067810816\", \"display_url\": \"twitter.com/i/web/status/1\\u2026\", \"indices\": [117, 140]}]}, \"metadata\": {\"iso_language_code\": \"pt\", \"result_type\": \"popular\"}, \"source\": \"<a href=\\\"http://twitter.com/download/iphone\\\" rel=\\\"nofollow\\\">Twitter for iPhone</a>\", \"in_reply_to_status_id\": null, \"in_reply_to_status_id_str\": null, \"in_reply_to_user_id\": null, \"in_reply_to_user_id_str\": null, \"in_reply_to_screen_name\": null, \"user\": {\"id\": 2682908887, \"id_str\": \"2682908887\", \"name\": \"paiva em #bbb22\", \"screen_name\": \"paiva\", \"location\": \"catarinense em s\\u00e3o paulo\", \"description\": \"rela\\u00e7\\u00f5es p\\u00fablicas, tuiteiro e gay demais da conta. aquieolucas@gmail.com \\ud83d\\udce7\", \"url\": \"https://t.co/3AoDQGOqDO\", \"entities\": {\"url\": {\"urls\": [{\"url\": \"https://t.co/3AoDQGOqDO\", \"expanded_url\": \"https://www.instagram.com/eulucaspaiva/\", \"display_url\": \"instagram.com/eulucaspaiva/\", \"indices\": [0, 23]}]}, \"description\": {\"urls\": []}}, \"protected\": false, \"followers_count\": 528764, \"friends_count\": 1413, \"listed_count\": 659, \"created_at\": \"Sat Jul 26 17:49:05 +0000 2014\", \"favourites_count\": 55624, \"utc_offset\": null, \"time_zone\": null, \"geo_enabled\": true, \"verified\": true, \"statuses_count\": 70212, \"lang\": null, \"contributors_enabled\": false, \"is_translator\": false, \"is_translation_enabled\": false, \"profile_background_color\": \"FFFFFF\", \"profile_background_image_url\": \"http://abs.twimg.com/images/themes/theme1/bg.png\", \"profile_background_image_url_https\": \"https://abs.twimg.com/images/themes/theme1/bg.png\", \"profile_background_tile\": true, \"profile_image_url\": \"http://pbs.twimg.com/profile_images/1482356287643992066/SnTGeRAQ_normal.jpg\", \"profile_image_url_https\": \"https://pbs.twimg.com/profile_images/1482356287643992066/SnTGeRAQ_normal.jpg\", \"profile_banner_url\": \"https://pbs.twimg.com/profile_banners/2682908887/1620219667\", \"profile_link_color\": \"ABB8C2\", \"profile_sidebar_border_color\": \"FFFFFF\", \"profile_sidebar_fill_color\": \"DDEEF6\", \"profile_text_color\": \"333333\", \"profile_use_background_image\": true, \"has_extended_profile\": true, \"default_profile\": false, \"default_profile_image\": false, \"following\": false, \"follow_request_sent\": false, \"notifications\": false, \"translator_type\": \"regular\", \"withheld_in_countries\": []}, \"geo\": null, \"coordinates\": null, \"place\": null, \"contributors\": null, \"is_quote_status\": false, \"retweet_count\": 313, \"favorite_count\": 3999, \"favorited\": false, \"retweeted\": false, \"possibly_sensitive\": false, \"lang\": \"pt\"} \n",
            "\n",
            "{\"created_at\": \"Sun Jan 16 00:00:54 +0000 2022\", \"id\": 1482503088296574978, \"id_str\": \"1482503088296574978\", \"text\": \"Comente um \\ud83e\\udd84 se voc\\u00ea est\\u00e1 ansioso para a grande estreia do #BBB22. Faltam apenas 2 dias! \\ud83e\\udd29 #BBBrunna https://t.co/xGQdRF2OFC\", \"truncated\": false, \"entities\": {\"hashtags\": [{\"text\": \"BBB22\", \"indices\": [59, 65]}, {\"text\": \"BBBrunna\", \"indices\": [91, 100]}], \"symbols\": [], \"user_mentions\": [], \"urls\": [], \"media\": [{\"id\": 1482503080436543490, \"id_str\": \"1482503080436543490\", \"indices\": [101, 124], \"media_url\": \"http://pbs.twimg.com/media/FJLosm_XsAIRpoO.jpg\", \"media_url_https\": \"https://pbs.twimg.com/media/FJLosm_XsAIRpoO.jpg\", \"url\": \"https://t.co/xGQdRF2OFC\", \"display_url\": \"pic.twitter.com/xGQdRF2OFC\", \"expanded_url\": \"https://twitter.com/brunnagoncalves/status/1482503088296574978/photo/1\", \"type\": \"photo\", \"sizes\": {\"small\": {\"w\": 554, \"h\": 680, \"resize\": \"fit\"}, \"thumb\": {\"w\": 150, \"h\": 150, \"resize\": \"crop\"}, \"large\": {\"w\": 1042, \"h\": 1280, \"resize\": \"fit\"}, \"medium\": {\"w\": 977, \"h\": 1200, \"resize\": \"fit\"}}}]}, \"extended_entities\": {\"media\": [{\"id\": 1482503080436543490, \"id_str\": \"1482503080436543490\", \"indices\": [101, 124], \"media_url\": \"http://pbs.twimg.com/media/FJLosm_XsAIRpoO.jpg\", \"media_url_https\": \"https://pbs.twimg.com/media/FJLosm_XsAIRpoO.jpg\", \"url\": \"https://t.co/xGQdRF2OFC\", \"display_url\": \"pic.twitter.com/xGQdRF2OFC\", \"expanded_url\": \"https://twitter.com/brunnagoncalves/status/1482503088296574978/photo/1\", \"type\": \"photo\", \"sizes\": {\"small\": {\"w\": 554, \"h\": 680, \"resize\": \"fit\"}, \"thumb\": {\"w\": 150, \"h\": 150, \"resize\": \"crop\"}, \"large\": {\"w\": 1042, \"h\": 1280, \"resize\": \"fit\"}, \"medium\": {\"w\": 977, \"h\": 1200, \"resize\": \"fit\"}}}]}, \"metadata\": {\"iso_language_code\": \"pt\", \"result_type\": \"popular\"}, \"source\": \"<a href=\\\"http://twitter.com/download/iphone\\\" rel=\\\"nofollow\\\">Twitter for iPhone</a>\", \"in_reply_to_status_id\": null, \"in_reply_to_status_id_str\": null, \"in_reply_to_user_id\": null, \"in_reply_to_user_id_str\": null, \"in_reply_to_screen_name\": null, \"user\": {\"id\": 287269120, \"id_str\": \"287269120\", \"name\": \"Brunna Gon\\u00e7alves \\ud83e\\udd84\", \"screen_name\": \"brunnagoncalves\", \"location\": \"Rio de Janeiro, Brasil\", \"description\": \"\\ud83d\\udcfa Participante do #BBB22 | #BBBrunna | Sagitariana | Bailarina | Publicidade: brunna@mosagencia.com\", \"url\": \"https://t.co/pd2LY1O7g6\", \"entities\": {\"url\": {\"urls\": [{\"url\": \"https://t.co/pd2LY1O7g6\", \"expanded_url\": \"https://instagram.com/brunnagoncalves?utm_medium=copy_link\", \"display_url\": \"instagram.com/brunnagoncalve\\u2026\", \"indices\": [0, 23]}]}, \"description\": {\"urls\": []}}, \"protected\": false, \"followers_count\": 400499, \"friends_count\": 545, \"listed_count\": 136, \"created_at\": \"Sun Apr 24 17:13:26 +0000 2011\", \"favourites_count\": 4279, \"utc_offset\": null, \"time_zone\": null, \"geo_enabled\": true, \"verified\": true, \"statuses_count\": 3275, \"lang\": null, \"contributors_enabled\": false, \"is_translator\": false, \"is_translation_enabled\": false, \"profile_background_color\": \"000000\", \"profile_background_image_url\": \"http://abs.twimg.com/images/themes/theme19/bg.gif\", \"profile_background_image_url_https\": \"https://abs.twimg.com/images/themes/theme19/bg.gif\", \"profile_background_tile\": true, \"profile_image_url\": \"http://pbs.twimg.com/profile_images/1482104205703798785/lRweVzdn_normal.jpg\", \"profile_image_url_https\": \"https://pbs.twimg.com/profile_images/1482104205703798785/lRweVzdn_normal.jpg\", \"profile_banner_url\": \"https://pbs.twimg.com/profile_banners/287269120/1642196154\", \"profile_link_color\": \"D92B65\", \"profile_sidebar_border_color\": \"F2F2F2\", \"profile_sidebar_fill_color\": \"F6FFD1\", \"profile_text_color\": \"0A0A0A\", \"profile_use_background_image\": true, \"has_extended_profile\": false, \"default_profile\": false, \"default_profile_image\": false, \"following\": false, \"follow_request_sent\": false, \"notifications\": false, \"translator_type\": \"none\", \"withheld_in_countries\": []}, \"geo\": null, \"coordinates\": null, \"place\": null, \"contributors\": null, \"is_quote_status\": false, \"retweet_count\": 274, \"favorite_count\": 4801, \"favorited\": false, \"retweeted\": false, \"possibly_sensitive\": false, \"lang\": \"pt\"} \n",
            "\n"
          ]
        }
      ]
    },
    {
      "cell_type": "code",
      "source": [
        "popular_list = []\n",
        "\n",
        "for each_dictionary in popular_dict[d1]:\n",
        "    tweet_id = each_dictionary['id']\n",
        "    text = each_dictionary['text']\n",
        "    favorite_count = each_dictionary['favorite_count']\n",
        "    retweet_count = each_dictionary['retweet_count']\n",
        "    created_at = each_dictionary['created_at']\n",
        "    location = each_dictionary['user']['location']\n",
        "    followers_count = each_dictionary['user']['followers_count']\n",
        "    friends_count = each_dictionary['user']['friends_count']\n",
        "    verified = each_dictionary['user']['verified']\n",
        "    hashtags = each_dictionary['entities']['hashtags']\n",
        "    user_mentions = each_dictionary['entities']['user_mentions']\n",
        "    name = each_dictionary['user']['name']\n",
        "    screen_name = each_dictionary['user']['screen_name']\n",
        "\n",
        "    popular_list.append({'tweet_id': str(tweet_id),\n",
        "                          'text': str(text),\n",
        "                          'favorite_count': int(favorite_count),\n",
        "                          'retweet_count': int(retweet_count),\n",
        "                          'created_at': created_at,\n",
        "                          'location': location,\n",
        "                          'followers_count': followers_count,\n",
        "                          'friends_count': friends_count,\n",
        "                          'verified': verified,\n",
        "                          'retweet_count': retweet_count,\n",
        "                          'favorite_count': favorite_count,\n",
        "                          'hashtags': hashtags,\n",
        "                          'user_mentions': user_mentions,\n",
        "                          'name': name,\n",
        "                          'screen_name': screen_name,\n",
        "                          })\n",
        "    \n",
        "    tweet_json_popular = pd.DataFrame(popular_list, columns = \n",
        "                              ['tweet_id', 'text', \n",
        "                                'favorite_count', 'retweet_count', \n",
        "                                'created_at', 'location',\n",
        "                                'followers_count', 'friends_count',\n",
        "                                'verified', 'hashtags',\n",
        "                                'user_mentions', 'name',\n",
        "                                'screen_name'])"
      ],
      "metadata": {
        "id": "JJoy_A6EdH7U",
        "colab": {
          "base_uri": "https://localhost:8080/",
          "height": 235
        },
        "outputId": "2147c448-6b40-4215-c429-db5f7999d801"
      },
      "execution_count": 91,
      "outputs": [
        {
          "output_type": "error",
          "ename": "TypeError",
          "evalue": "ignored",
          "traceback": [
            "\u001b[0;31m---------------------------------------------------------------------------\u001b[0m",
            "\u001b[0;31mTypeError\u001b[0m                                 Traceback (most recent call last)",
            "\u001b[0;32m<ipython-input-91-dc21b4b6c5bd>\u001b[0m in \u001b[0;36m<module>\u001b[0;34m()\u001b[0m\n\u001b[1;32m      2\u001b[0m \u001b[0;34m\u001b[0m\u001b[0m\n\u001b[1;32m      3\u001b[0m \u001b[0;32mfor\u001b[0m \u001b[0meach_dictionary\u001b[0m \u001b[0;32min\u001b[0m \u001b[0mpopular_dict\u001b[0m\u001b[0;34m[\u001b[0m\u001b[0md1\u001b[0m\u001b[0;34m]\u001b[0m\u001b[0;34m:\u001b[0m\u001b[0;34m\u001b[0m\u001b[0;34m\u001b[0m\u001b[0m\n\u001b[0;32m----> 4\u001b[0;31m     \u001b[0mtweet_id\u001b[0m \u001b[0;34m=\u001b[0m \u001b[0meach_dictionary\u001b[0m\u001b[0;34m[\u001b[0m\u001b[0;34m'id'\u001b[0m\u001b[0;34m]\u001b[0m\u001b[0;34m\u001b[0m\u001b[0;34m\u001b[0m\u001b[0m\n\u001b[0m\u001b[1;32m      5\u001b[0m     \u001b[0mtext\u001b[0m \u001b[0;34m=\u001b[0m \u001b[0meach_dictionary\u001b[0m\u001b[0;34m[\u001b[0m\u001b[0;34m'text'\u001b[0m\u001b[0;34m]\u001b[0m\u001b[0;34m\u001b[0m\u001b[0;34m\u001b[0m\u001b[0m\n\u001b[1;32m      6\u001b[0m     \u001b[0mfavorite_count\u001b[0m \u001b[0;34m=\u001b[0m \u001b[0meach_dictionary\u001b[0m\u001b[0;34m[\u001b[0m\u001b[0;34m'favorite_count'\u001b[0m\u001b[0;34m]\u001b[0m\u001b[0;34m\u001b[0m\u001b[0;34m\u001b[0m\u001b[0m\n",
            "\u001b[0;31mTypeError\u001b[0m: string indices must be integers"
          ]
        }
      ]
    },
    {
      "cell_type": "code",
      "source": [
        "recents_list = []\n",
        "\n",
        "for each_dictionary in popular_dict:\n",
        "    tweet_id = each_dictionary['id']\n",
        "    text = each_dictionary['text']\n",
        "    favorite_count = each_dictionary['favorite_count']\n",
        "    retweet_count = each_dictionary['retweet_count']\n",
        "    created_at = each_dictionary['created_at']\n",
        "    location = each_dictionary['user']['location']\n",
        "    followers_count = each_dictionary['user']['followers_count']\n",
        "    friends_count = each_dictionary['user']['friends_count']\n",
        "    verified = each_dictionary['user']['verified']\n",
        "    hashtags = each_dictionary['entities']['hashtags']\n",
        "    user_mentions = each_dictionary['entities']['user_mentions']\n",
        "    name = each_dictionary['user']['name']\n",
        "    screen_name = each_dictionary['user']['screen_name']\n",
        "\n",
        "    popular_list.append({'tweet_id': str(tweet_id),\n",
        "                          'text': str(text),\n",
        "                          'favorite_count': int(favorite_count),\n",
        "                          'retweet_count': int(retweet_count),\n",
        "                          'created_at': created_at,\n",
        "                          'location': location,\n",
        "                          'followers_count': followers_count,\n",
        "                          'friends_count': friends_count,\n",
        "                          'verified': verified,\n",
        "                          'retweet_count': retweet_count,\n",
        "                          'favorite_count': favorite_count,\n",
        "                          'hashtags': hashtags,\n",
        "                          'user_mentions': user_mentions,\n",
        "                          'name': name,\n",
        "                          'screen_name': screen_name,\n",
        "                          })\n",
        "    \n",
        "    tweet_json_popular = pd.DataFrame(my_demo_list, columns = \n",
        "                              ['tweet_id', 'text', \n",
        "                                'favorite_count', 'retweet_count', \n",
        "                                'created_at', 'location',\n",
        "                                'followers_count', 'friends_count',\n",
        "                                'verified', 'hashtags',\n",
        "                                'user_mentions', 'name',\n",
        "                                'screen_name'])"
      ],
      "metadata": {
        "id": "BEvjqNZF0Rxl"
      },
      "execution_count": null,
      "outputs": []
    },
    {
      "cell_type": "code",
      "source": [
        "calendar = {'Jan': 1, 'Feb': 2, 'Mar': 3, 'Apr': 4, 'May': 5, 'Jun': 6, \n",
        "                'Jul': 7, 'Aug': 8, 'Sep': 9, 'Oct': 10, 'Nov': 11, 'Dec': 12}\n",
        "  \n",
        "tweet_json['Week_day'] = tweet_json['created_at'].str.slice(0,3)\n",
        "tweet_json['Month_name'] = tweet_json['created_at'].str.slice(4,7)\n",
        "tweet_json['Month'] = tweet_json['Month_name'].map(calendar)\n",
        "tweet_json['Day_number'] = tweet_json['created_at'].str.slice(8,10)\n",
        "tweet_json['Tweeted_at_time'] = tweet_json['created_at'].str.slice(11,19)\n",
        "tweet_json['Year'] = tweet_json['created_at'].str.slice(26,30)"
      ],
      "metadata": {
        "id": "3J32dDMsnKgr"
      },
      "execution_count": null,
      "outputs": []
    },
    {
      "cell_type": "code",
      "source": [
        "tweet_json['Data'] = str(str(tweet_json['Day_number']) + '-' + str(tweet_json['Month']) + '-' + str(tweet_json['Year']))"
      ],
      "metadata": {
        "id": "cEKY31zyW8Xt"
      },
      "execution_count": null,
      "outputs": []
    },
    {
      "cell_type": "code",
      "source": [
        "tweet_json['Data'][0]"
      ],
      "metadata": {
        "colab": {
          "base_uri": "https://localhost:8080/",
          "height": 87
        },
        "id": "lcTmdJGfmQEJ",
        "outputId": "3d367b04-575f-4f6c-9649-c3352349e9dc"
      },
      "execution_count": null,
      "outputs": [
        {
          "output_type": "execute_result",
          "data": {
            "application/vnd.google.colaboratory.intrinsic+json": {
              "type": "string"
            },
            "text/plain": [
              "'0     15\\n1     14\\n2     14\\n3     15\\n4     14\\n5     14\\n6     15\\n7     15\\n8     14\\n9     14\\n10    15\\n11    14\\n12    14\\n13    14\\nName: Day_number, dtype: object-0     1\\n1     1\\n2     1\\n3     1\\n4     1\\n5     1\\n6     1\\n7     1\\n8     1\\n9     1\\n10    1\\n11    1\\n12    1\\n13    1\\nName: Month, dtype: int64-0     2022\\n1     2022\\n2     2022\\n3     2022\\n4     2022\\n5     2022\\n6     2022\\n7     2022\\n8     2022\\n9     2022\\n10    2022\\n11    2022\\n12    2022\\n13    2022\\nName: Year, dtype: object'"
            ]
          },
          "metadata": {},
          "execution_count": 73
        }
      ]
    },
    {
      "cell_type": "code",
      "source": [
        "# em média, quantos seguidores ganha após um tweet positivo? e quantos perde após um tweet negativo?\n",
        "# modelo de classificação baseado na popularidade do participante\n",
        "# prob de ser eliminado no paredão de acordo com o atual nível de popularidade"
      ],
      "metadata": {
        "id": "aTkkDYfUpFWI"
      },
      "execution_count": null,
      "outputs": []
    },
    {
      "cell_type": "code",
      "source": [
        ""
      ],
      "metadata": {
        "id": "zIGCqJuvpV6X"
      },
      "execution_count": null,
      "outputs": []
    }
  ]
}