{
  "nbformat": 4,
  "nbformat_minor": 0,
  "metadata": {
    "colab": {
      "name": "Sentiment_analysis.ipynb",
      "provenance": [],
      "collapsed_sections": [],
      "mount_file_id": "1SR-3i9Wrab9mlb7RdoAnO_79DAVvlJaf",
      "authorship_tag": "ABX9TyN9ZyY/XqM7v9s83plAEPKu",
      "include_colab_link": true
    },
    "kernelspec": {
      "name": "python3",
      "display_name": "Python 3"
    },
    "language_info": {
      "name": "python"
    }
  },
  "cells": [
    {
      "cell_type": "markdown",
      "metadata": {
        "id": "view-in-github",
        "colab_type": "text"
      },
      "source": [
        "<a href=\"https://colab.research.google.com/github/gmoraissc/Projetos_de_Data_Science/blob/main/Sentiment_analysis.ipynb\" target=\"_parent\"><img src=\"https://colab.research.google.com/assets/colab-badge.svg\" alt=\"Open In Colab\"/></a>"
      ]
    },
    {
      "cell_type": "code",
      "execution_count": 55,
      "metadata": {
        "id": "A2De13A6eBh2"
      },
      "outputs": [],
      "source": [
        "# imports\n",
        "import pandas as pd\n",
        "import numpy as np\n",
        "import tweepy, nltk, json\n",
        "from datetime import datetime, date"
      ]
    },
    {
      "cell_type": "code",
      "source": [
        "access_token=\"590375619-tkJialGWR4R5ZoXJfWsZlx0DoLUfSDlbUi1hLATZ\"\n",
        "access_token_secret=\"cGjIJU3YM23f1qxH8LvUKd6Tm05zbOBUI9NcCDxLzJ39T\"\n",
        "bearer_token = 'AAAAAAAAAAAAAAAAAAAAAHeVYAEAAAAA9sjLNUPQJgclF6kKG0lPvLTq9nY%3DwprwxmnxRvmXpbU2CbXAoIGogKKEZCRxKwoi6xNW3au27KlCqk'\n",
        "consumer_key= 'vS7GEC5Cy7HixHoVKNpCR7cFr'\n",
        "consumer_secret=\"0cpjFY2tWCwDoWhqOwr2ZBDy6TbpNOtWnQOpU70V9V0Bwu0JNt\""
      ],
      "metadata": {
        "id": "a05ndHrKuXHr"
      },
      "execution_count": 56,
      "outputs": []
    },
    {
      "cell_type": "code",
      "source": [
        "auth = tweepy.OAuthHandler(consumer_key, consumer_secret)\n",
        "auth.set_access_token(access_token, access_token_secret)\n",
        "\n",
        "api = tweepy.API(auth)\n",
        "\n",
        "search_results_popular = api.search(q=['BBB22'],\n",
        "                            result_type='popular')\n",
        "\n",
        "search_results_recents = api.search(q=['BBB22'],\n",
        "                                    result_type='recent')"
      ],
      "metadata": {
        "id": "RL_XrvFE1GBp"
      },
      "execution_count": 57,
      "outputs": []
    },
    {
      "cell_type": "code",
      "source": [
        "popular_dict = {}\n",
        "recents_dict = {}\n",
        "d1 = date.today().strftime(\"%d/%m/%Y\")\n",
        "\n",
        "for each_json_tweet in search_results_popular:\n",
        "  _ = json.dumps(each_json_tweet._json)\n",
        "    \n",
        "  if d1 not in popular_dict.keys():\n",
        "     tweet = {d1: [json.loads(_)]}\n",
        "     popular_dict.update(tweet)\n",
        "   \n",
        "  else:\n",
        "      popular_dict[d1].append(json.loads(_))\n",
        "\n",
        "for each_json_tweet in search_results_recents:\n",
        "\n",
        "  _ = json.dumps(each_json_tweet._json)\n",
        "\n",
        "  if d1 not in recents_dict.keys():\n",
        "    tweet = {d1: [json.loads(_)]}\n",
        "    recents_dict.update(tweet)\n",
        "\n",
        "  else:\n",
        "    recents_dict[d1].append(json.loads(_))"
      ],
      "metadata": {
        "id": "e7Hs09z_cCXh"
      },
      "execution_count": 112,
      "outputs": []
    },
    {
      "cell_type": "code",
      "source": [
        "popular_list = []\n",
        "\n",
        "for i in range(0, len(popular_dict[d1])):\n",
        "\n",
        "      tweet_id = popular_dict[d1][i]['id']\n",
        "      text = popular_dict[d1][i]['text']\n",
        "      favorite_count = popular_dict[d1][i]['favorite_count']\n",
        "      retweet_count = popular_dict[d1][i]['retweet_count']\n",
        "      created_at = popular_dict[d1][i]['created_at']\n",
        "      location = popular_dict[d1][i]['user']['location']\n",
        "      followers_count = popular_dict[d1][i]['user']['followers_count']\n",
        "      friends_count = popular_dict[d1][i]['user']['friends_count']\n",
        "      verified = popular_dict[d1][i]['user']['verified']\n",
        "      hashtags = popular_dict[d1][i]['entities']['hashtags']\n",
        "      user_mentions = popular_dict[d1][i]['entities']['user_mentions']\n",
        "      name = popular_dict[d1][i]['user']['name']\n",
        "      screen_name = popular_dict[d1][i]['user']['screen_name']\n",
        "\n",
        "      popular_list.append({'tweet_id': str(tweet_id),\n",
        "                            'text': str(text),\n",
        "                            'favorite_count': int(favorite_count),\n",
        "                            'retweet_count': int(retweet_count),\n",
        "                            'created_at': created_at,\n",
        "                            'location': location,\n",
        "                            'followers_count': followers_count,\n",
        "                            'friends_count': friends_count,\n",
        "                            'verified': verified,\n",
        "                            'retweet_count': retweet_count,\n",
        "                            'favorite_count': favorite_count,\n",
        "                            'hashtags': hashtags,\n",
        "                            'user_mentions': user_mentions,\n",
        "                            'name': name,\n",
        "                            'screen_name': screen_name,\n",
        "                            })\n",
        "      \n",
        "      tweet_json_popular = pd.DataFrame(popular_list, columns = \n",
        "                                ['tweet_id', 'text', \n",
        "                                  'favorite_count', 'retweet_count', \n",
        "                                  'created_at', 'location',\n",
        "                                  'followers_count', 'friends_count',\n",
        "                                  'verified', 'hashtags',\n",
        "                                  'user_mentions', 'name',\n",
        "                                  'screen_name'])"
      ],
      "metadata": {
        "id": "JJoy_A6EdH7U"
      },
      "execution_count": 122,
      "outputs": []
    },
    {
      "cell_type": "code",
      "source": [
        "recents_list = []\n",
        "\n",
        "for i in range(0, len(recents_dict[d1])):\n",
        "\n",
        "      tweet_id = recents_dict[d1][i]['id']\n",
        "      text = popular_dict[d1][i]['text']\n",
        "      favorite_count = popular_dict[d1][i]['favorite_count']\n",
        "      retweet_count = popular_dict[d1][i]['retweet_count']\n",
        "      created_at = popular_dict[d1][i]['created_at']\n",
        "      location = popular_dict[d1][i]['user']['location']\n",
        "      followers_count = popular_dict[d1][i]['user']['followers_count']\n",
        "      friends_count = popular_dict[d1][i]['user']['friends_count']\n",
        "      verified = popular_dict[d1][i]['user']['verified']\n",
        "      hashtags = popular_dict[d1][i]['entities']['hashtags']\n",
        "      user_mentions = popular_dict[d1][i]['entities']['user_mentions']\n",
        "      name = popular_dict[d1][i]['user']['name']\n",
        "      screen_name = popular_dict[d1][i]['user']['screen_name']\n",
        "\n",
        "      recents_list.append({'tweet_id': str(tweet_id),\n",
        "                            'text': str(text),\n",
        "                            'favorite_count': int(favorite_count),\n",
        "                            'retweet_count': int(retweet_count),\n",
        "                            'created_at': created_at,\n",
        "                            'location': location,\n",
        "                            'followers_count': followers_count,\n",
        "                            'friends_count': friends_count,\n",
        "                            'verified': verified,\n",
        "                            'retweet_count': retweet_count,\n",
        "                            'favorite_count': favorite_count,\n",
        "                            'hashtags': hashtags,\n",
        "                            'user_mentions': user_mentions,\n",
        "                            'name': name,\n",
        "                            'screen_name': screen_name,\n",
        "                            })\n",
        "      \n",
        "      tweet_json_popular = pd.DataFrame(recents_list, columns = \n",
        "                                ['tweet_id', 'text', \n",
        "                                  'favorite_count', 'retweet_count', \n",
        "                                  'created_at', 'location',\n",
        "                                  'followers_count', 'friends_count',\n",
        "                                  'verified', 'hashtags',\n",
        "                                  'user_mentions', 'name',\n",
        "                                  'screen_name'])"
      ],
      "metadata": {
        "id": "BEvjqNZF0Rxl"
      },
      "execution_count": null,
      "outputs": []
    },
    {
      "cell_type": "code",
      "source": [
        "calendar = {'Jan': 1, 'Feb': 2, 'Mar': 3, 'Apr': 4, 'May': 5, 'Jun': 6, \n",
        "                'Jul': 7, 'Aug': 8, 'Sep': 9, 'Oct': 10, 'Nov': 11, 'Dec': 12}\n",
        "  \n",
        "tweet_json['Week_day'] = tweet_json['created_at'].str.slice(0,3)\n",
        "tweet_json['Month_name'] = tweet_json['created_at'].str.slice(4,7)\n",
        "tweet_json['Month'] = tweet_json['Month_name'].map(calendar)\n",
        "tweet_json['Day_number'] = tweet_json['created_at'].str.slice(8,10)\n",
        "tweet_json['Tweeted_at_time'] = tweet_json['created_at'].str.slice(11,19)\n",
        "tweet_json['Year'] = tweet_json['created_at'].str.slice(26,30)"
      ],
      "metadata": {
        "id": "3J32dDMsnKgr"
      },
      "execution_count": null,
      "outputs": []
    },
    {
      "cell_type": "code",
      "source": [
        "tweet_json['Data'] = str(str(tweet_json['Day_number']) + '-' + str(tweet_json['Month']) + '-' + str(tweet_json['Year']))"
      ],
      "metadata": {
        "id": "cEKY31zyW8Xt"
      },
      "execution_count": null,
      "outputs": []
    },
    {
      "cell_type": "code",
      "source": [
        "tweet_json['Data'][0]"
      ],
      "metadata": {
        "colab": {
          "base_uri": "https://localhost:8080/",
          "height": 87
        },
        "id": "lcTmdJGfmQEJ",
        "outputId": "3d367b04-575f-4f6c-9649-c3352349e9dc"
      },
      "execution_count": null,
      "outputs": [
        {
          "output_type": "execute_result",
          "data": {
            "application/vnd.google.colaboratory.intrinsic+json": {
              "type": "string"
            },
            "text/plain": [
              "'0     15\\n1     14\\n2     14\\n3     15\\n4     14\\n5     14\\n6     15\\n7     15\\n8     14\\n9     14\\n10    15\\n11    14\\n12    14\\n13    14\\nName: Day_number, dtype: object-0     1\\n1     1\\n2     1\\n3     1\\n4     1\\n5     1\\n6     1\\n7     1\\n8     1\\n9     1\\n10    1\\n11    1\\n12    1\\n13    1\\nName: Month, dtype: int64-0     2022\\n1     2022\\n2     2022\\n3     2022\\n4     2022\\n5     2022\\n6     2022\\n7     2022\\n8     2022\\n9     2022\\n10    2022\\n11    2022\\n12    2022\\n13    2022\\nName: Year, dtype: object'"
            ]
          },
          "metadata": {},
          "execution_count": 73
        }
      ]
    },
    {
      "cell_type": "code",
      "source": [
        "# em média, quantos seguidores ganha após um tweet positivo? e quantos perde após um tweet negativo?\n",
        "# modelo de classificação baseado na popularidade do participante\n",
        "# prob de ser eliminado no paredão de acordo com o atual nível de popularidade"
      ],
      "metadata": {
        "id": "aTkkDYfUpFWI"
      },
      "execution_count": null,
      "outputs": []
    },
    {
      "cell_type": "code",
      "source": [
        ""
      ],
      "metadata": {
        "id": "zIGCqJuvpV6X"
      },
      "execution_count": null,
      "outputs": []
    }
  ]
}