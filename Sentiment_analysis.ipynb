{
  "nbformat": 4,
  "nbformat_minor": 0,
  "metadata": {
    "colab": {
      "name": "Sentiment_analysis.ipynb",
      "provenance": [],
      "collapsed_sections": [],
      "mount_file_id": "1SR-3i9Wrab9mlb7RdoAnO_79DAVvlJaf",
      "authorship_tag": "ABX9TyPXCCDkw9q6AFZpOtu5iQTu",
      "include_colab_link": true
    },
    "kernelspec": {
      "name": "python3",
      "display_name": "Python 3"
    },
    "language_info": {
      "name": "python"
    }
  },
  "cells": [
    {
      "cell_type": "markdown",
      "metadata": {
        "id": "view-in-github",
        "colab_type": "text"
      },
      "source": [
        "<a href=\"https://colab.research.google.com/github/gmoraissc/Projetos_de_Data_Science/blob/main/Sentiment_analysis.ipynb\" target=\"_parent\"><img src=\"https://colab.research.google.com/assets/colab-badge.svg\" alt=\"Open In Colab\"/></a>"
      ]
    },
    {
      "cell_type": "code",
      "execution_count": 55,
      "metadata": {
        "id": "A2De13A6eBh2"
      },
      "outputs": [],
      "source": [
        "# imports\n",
        "import pandas as pd\n",
        "import numpy as np\n",
        "import tweepy, nltk, json\n",
        "from datetime import datetime, date"
      ]
    },
    {
      "cell_type": "code",
      "source": [
        "access_token=\"590375619-tkJialGWR4R5ZoXJfWsZlx0DoLUfSDlbUi1hLATZ\"\n",
        "access_token_secret=\"cGjIJU3YM23f1qxH8LvUKd6Tm05zbOBUI9NcCDxLzJ39T\"\n",
        "bearer_token = 'AAAAAAAAAAAAAAAAAAAAAHeVYAEAAAAA9sjLNUPQJgclF6kKG0lPvLTq9nY%3DwprwxmnxRvmXpbU2CbXAoIGogKKEZCRxKwoi6xNW3au27KlCqk'\n",
        "consumer_key= 'vS7GEC5Cy7HixHoVKNpCR7cFr'\n",
        "consumer_secret=\"0cpjFY2tWCwDoWhqOwr2ZBDy6TbpNOtWnQOpU70V9V0Bwu0JNt\""
      ],
      "metadata": {
        "id": "a05ndHrKuXHr"
      },
      "execution_count": 56,
      "outputs": []
    },
    {
      "cell_type": "code",
      "source": [
        "auth = tweepy.OAuthHandler(consumer_key, consumer_secret)\n",
        "auth.set_access_token(access_token, access_token_secret)\n",
        "\n",
        "api = tweepy.API(auth)\n",
        "\n",
        "search_results_popular = api.search(q=['BBB22'],\n",
        "                            result_type='popular')\n",
        "\n",
        "search_results_recents = api.search(q=['BBB22'],\n",
        "                                    result_type='recent')"
      ],
      "metadata": {
        "id": "RL_XrvFE1GBp"
      },
      "execution_count": 57,
      "outputs": []
    },
    {
      "cell_type": "code",
      "source": [
        "popular_dict = {}\n",
        "recents_dict = {}\n",
        "d1 = date.today().strftime(\"%d/%m/%Y\")\n",
        "\n",
        "for each_json_tweet in search_results_popular:\n",
        "  _ = json.dumps(each_json_tweet._json)\n",
        "    \n",
        "  if d1 not in popular_dict.keys():\n",
        "     tweet = {d1: [json.loads(_)]}\n",
        "     popular_dict.update(tweet)\n",
        "   \n",
        "  else:\n",
        "      popular_dict[d1].append(json.loads(_))\n",
        "\n",
        "for each_json_tweet in search_results_recents:\n",
        "\n",
        "  _ = json.dumps(each_json_tweet._json)\n",
        "\n",
        "  if d1 not in recents_dict.keys():\n",
        "    tweet = {d1: [json.loads(_)]}\n",
        "    recents_dict.update(tweet)\n",
        "\n",
        "  else:\n",
        "    recents_dict[d1].append(json.loads(_))"
      ],
      "metadata": {
        "id": "e7Hs09z_cCXh"
      },
      "execution_count": 112,
      "outputs": []
    },
    {
      "cell_type": "code",
      "source": [
        "popular_dict[d1][0]['favorite_count']"
      ],
      "metadata": {
        "colab": {
          "base_uri": "https://localhost:8080/"
        },
        "id": "8FM9F4DTLDiV",
        "outputId": "1b7343d2-ce83-496b-ef32-0c25e8223188"
      },
      "execution_count": 121,
      "outputs": [
        {
          "output_type": "execute_result",
          "data": {
            "text/plain": [
              "39209"
            ]
          },
          "metadata": {},
          "execution_count": 121
        }
      ]
    },
    {
      "cell_type": "code",
      "source": [
        "popular_list = []\n",
        "\n",
        "for i in range(0, len(popular_dict[d1])):\n",
        "\n",
        "      tweet_id = popular_dict[d1][i]['id']\n",
        "      text = popular_dict[d1][i]['text']\n",
        "      favorite_count = popular_dict[d1][i]['favorite_count']\n",
        "      retweet_count = popular_dict[d1][i]['retweet_count']\n",
        "      created_at = popular_dict[d1][i]['created_at']\n",
        "      location = popular_dict[d1][i]['user']['location']\n",
        "      followers_count = popular_dict[d1][i]['user']['followers_count']\n",
        "      friends_count = popular_dict[d1][i]['user']['friends_count']\n",
        "      verified = popular_dict[d1][i]['user']['verified']\n",
        "      hashtags = popular_dict[d1][i]['entities']['hashtags']\n",
        "      user_mentions = popular_dict[d1][i]['entities']['user_mentions']\n",
        "      name = popular_dict[d1][i]['user']['name']\n",
        "      screen_name = popular_dict[d1][i]['user']['screen_name']\n",
        "\n",
        "      popular_list.append({'tweet_id': str(tweet_id),\n",
        "                            'text': str(text),\n",
        "                            'favorite_count': int(favorite_count),\n",
        "                            'retweet_count': int(retweet_count),\n",
        "                            'created_at': created_at,\n",
        "                            'location': location,\n",
        "                            'followers_count': followers_count,\n",
        "                            'friends_count': friends_count,\n",
        "                            'verified': verified,\n",
        "                            'retweet_count': retweet_count,\n",
        "                            'favorite_count': favorite_count,\n",
        "                            'hashtags': hashtags,\n",
        "                            'user_mentions': user_mentions,\n",
        "                            'name': name,\n",
        "                            'screen_name': screen_name,\n",
        "                            })\n",
        "      \n",
        "      tweet_json_popular = pd.DataFrame(popular_list, columns = \n",
        "                                ['tweet_id', 'text', \n",
        "                                  'favorite_count', 'retweet_count', \n",
        "                                  'created_at', 'location',\n",
        "                                  'followers_count', 'friends_count',\n",
        "                                  'verified', 'hashtags',\n",
        "                                  'user_mentions', 'name',\n",
        "                                  'screen_name'])"
      ],
      "metadata": {
        "id": "JJoy_A6EdH7U"
      },
      "execution_count": 122,
      "outputs": []
    },
    {
      "cell_type": "code",
      "source": [
        "tweet_json_popular"
      ],
      "metadata": {
        "colab": {
          "base_uri": "https://localhost:8080/",
          "height": 948
        },
        "id": "Xl6WxFrMM_D8",
        "outputId": "ac07ba83-ffc5-405e-d144-48be02378b85"
      },
      "execution_count": 123,
      "outputs": [
        {
          "output_type": "execute_result",
          "data": {
            "text/html": [
              "\n",
              "  <div id=\"df-9df881f7-a4b2-4492-8015-b4a81a825884\">\n",
              "    <div class=\"colab-df-container\">\n",
              "      <div>\n",
              "<style scoped>\n",
              "    .dataframe tbody tr th:only-of-type {\n",
              "        vertical-align: middle;\n",
              "    }\n",
              "\n",
              "    .dataframe tbody tr th {\n",
              "        vertical-align: top;\n",
              "    }\n",
              "\n",
              "    .dataframe thead th {\n",
              "        text-align: right;\n",
              "    }\n",
              "</style>\n",
              "<table border=\"1\" class=\"dataframe\">\n",
              "  <thead>\n",
              "    <tr style=\"text-align: right;\">\n",
              "      <th></th>\n",
              "      <th>tweet_id</th>\n",
              "      <th>text</th>\n",
              "      <th>favorite_count</th>\n",
              "      <th>retweet_count</th>\n",
              "      <th>created_at</th>\n",
              "      <th>location</th>\n",
              "      <th>followers_count</th>\n",
              "      <th>friends_count</th>\n",
              "      <th>verified</th>\n",
              "      <th>hashtags</th>\n",
              "      <th>user_mentions</th>\n",
              "      <th>name</th>\n",
              "      <th>screen_name</th>\n",
              "    </tr>\n",
              "  </thead>\n",
              "  <tbody>\n",
              "    <tr>\n",
              "      <th>0</th>\n",
              "      <td>1482536715915083780</td>\n",
              "      <td>De acordo com apuração da revista Quem, Maríli...</td>\n",
              "      <td>39209</td>\n",
              "      <td>2692</td>\n",
              "      <td>Sun Jan 16 02:14:31 +0000 2022</td>\n",
              "      <td>Brasil</td>\n",
              "      <td>699120</td>\n",
              "      <td>740</td>\n",
              "      <td>True</td>\n",
              "      <td>[]</td>\n",
              "      <td>[]</td>\n",
              "      <td>Tracklist #BBB22</td>\n",
              "      <td>tracklist</td>\n",
              "    </tr>\n",
              "    <tr>\n",
              "      <th>1</th>\n",
              "      <td>1482162756774150146</td>\n",
              "      <td>Saudades do que nunca aconteceu… #BBB22 https:...</td>\n",
              "      <td>45695</td>\n",
              "      <td>6703</td>\n",
              "      <td>Sat Jan 15 01:28:33 +0000 2022</td>\n",
              "      <td>Brasil</td>\n",
              "      <td>699120</td>\n",
              "      <td>740</td>\n",
              "      <td>True</td>\n",
              "      <td>[{'text': 'BBB22', 'indices': [33, 39]}]</td>\n",
              "      <td>[]</td>\n",
              "      <td>Tracklist #BBB22</td>\n",
              "      <td>tracklist</td>\n",
              "    </tr>\n",
              "    <tr>\n",
              "      <th>2</th>\n",
              "      <td>1482405687263178761</td>\n",
              "      <td>João Gustavo, irmão de Marília Mendonça, se pr...</td>\n",
              "      <td>29220</td>\n",
              "      <td>1758</td>\n",
              "      <td>Sat Jan 15 17:33:52 +0000 2022</td>\n",
              "      <td>Brasil</td>\n",
              "      <td>699120</td>\n",
              "      <td>740</td>\n",
              "      <td>True</td>\n",
              "      <td>[]</td>\n",
              "      <td>[]</td>\n",
              "      <td>Tracklist #BBB22</td>\n",
              "      <td>tracklist</td>\n",
              "    </tr>\n",
              "    <tr>\n",
              "      <th>3</th>\n",
              "      <td>1482397456126128131</td>\n",
              "      <td>Oieeee!!! Cadê os #TeamNaiara??? \\n\\nRetweet e...</td>\n",
              "      <td>4676</td>\n",
              "      <td>814</td>\n",
              "      <td>Sat Jan 15 17:01:09 +0000 2022</td>\n",
              "      <td>Goiânia, Brasil</td>\n",
              "      <td>144586</td>\n",
              "      <td>1691</td>\n",
              "      <td>True</td>\n",
              "      <td>[{'text': 'TeamNaiara', 'indices': [18, 29]}, ...</td>\n",
              "      <td>[]</td>\n",
              "      <td>Naiara Azevedo 💸</td>\n",
              "      <td>Naiarazevedo</td>\n",
              "    </tr>\n",
              "    <tr>\n",
              "      <th>4</th>\n",
              "      <td>1482707393066770434</td>\n",
              "      <td>✨ Repete comigo: AMANHÃ TEM #BBB22!  ✨\\n\\nA es...</td>\n",
              "      <td>3054</td>\n",
              "      <td>302</td>\n",
              "      <td>Sun Jan 16 13:32:44 +0000 2022</td>\n",
              "      <td></td>\n",
              "      <td>5387660</td>\n",
              "      <td>45</td>\n",
              "      <td>True</td>\n",
              "      <td>[{'text': 'BBB22', 'indices': [28, 34]}]</td>\n",
              "      <td>[]</td>\n",
              "      <td>Big Brother Brasil</td>\n",
              "      <td>bbb</td>\n",
              "    </tr>\n",
              "    <tr>\n",
              "      <th>5</th>\n",
              "      <td>1482152323526889473</td>\n",
              "      <td>É OFICIAL! Por essa as #linndonas não esperava...</td>\n",
              "      <td>55662</td>\n",
              "      <td>6607</td>\n",
              "      <td>Sat Jan 15 00:47:05 +0000 2022</td>\n",
              "      <td>São Paulo, Brasil</td>\n",
              "      <td>243665</td>\n",
              "      <td>1316</td>\n",
              "      <td>True</td>\n",
              "      <td>[{'text': 'linndonas', 'indices': [23, 33]}, {...</td>\n",
              "      <td>[]</td>\n",
              "      <td>Linn da Quebrada 🧜🏽‍♀️</td>\n",
              "      <td>linndaquebrada</td>\n",
              "    </tr>\n",
              "    <tr>\n",
              "      <th>6</th>\n",
              "      <td>1482444660807290890</td>\n",
              "      <td>Estavam ansiosos pra conhecer mais da minha ca...</td>\n",
              "      <td>15046</td>\n",
              "      <td>649</td>\n",
              "      <td>Sat Jan 15 20:08:44 +0000 2022</td>\n",
              "      <td></td>\n",
              "      <td>5387660</td>\n",
              "      <td>45</td>\n",
              "      <td>True</td>\n",
              "      <td>[]</td>\n",
              "      <td>[]</td>\n",
              "      <td>Big Brother Brasil</td>\n",
              "      <td>bbb</td>\n",
              "    </tr>\n",
              "    <tr>\n",
              "      <th>7</th>\n",
              "      <td>1482714259121389571</td>\n",
              "      <td>Entrar na casa emociona demais, né, @juliette?...</td>\n",
              "      <td>3096</td>\n",
              "      <td>336</td>\n",
              "      <td>Sun Jan 16 14:00:01 +0000 2022</td>\n",
              "      <td></td>\n",
              "      <td>6925332</td>\n",
              "      <td>337</td>\n",
              "      <td>True</td>\n",
              "      <td>[{'text': 'BBB22', 'indices': [63, 69]}]</td>\n",
              "      <td>[{'screen_name': 'juliette', 'name': 'Juliette...</td>\n",
              "      <td>Multishow ✨</td>\n",
              "      <td>multishow</td>\n",
              "    </tr>\n",
              "    <tr>\n",
              "      <th>8</th>\n",
              "      <td>1482342625067810816</td>\n",
              "      <td>não gente, mas peraí, a barbara (bbb22), o dan...</td>\n",
              "      <td>3999</td>\n",
              "      <td>313</td>\n",
              "      <td>Sat Jan 15 13:23:17 +0000 2022</td>\n",
              "      <td>catarinense em são paulo</td>\n",
              "      <td>528764</td>\n",
              "      <td>1413</td>\n",
              "      <td>True</td>\n",
              "      <td>[]</td>\n",
              "      <td>[]</td>\n",
              "      <td>paiva em #bbb22</td>\n",
              "      <td>paiva</td>\n",
              "    </tr>\n",
              "    <tr>\n",
              "      <th>9</th>\n",
              "      <td>1482503088296574978</td>\n",
              "      <td>Comente um 🦄 se você está ansioso para a grand...</td>\n",
              "      <td>4801</td>\n",
              "      <td>274</td>\n",
              "      <td>Sun Jan 16 00:00:54 +0000 2022</td>\n",
              "      <td>Rio de Janeiro, Brasil</td>\n",
              "      <td>400499</td>\n",
              "      <td>545</td>\n",
              "      <td>True</td>\n",
              "      <td>[{'text': 'BBB22', 'indices': [59, 65]}, {'tex...</td>\n",
              "      <td>[]</td>\n",
              "      <td>Brunna Gonçalves 🦄</td>\n",
              "      <td>brunnagoncalves</td>\n",
              "    </tr>\n",
              "  </tbody>\n",
              "</table>\n",
              "</div>\n",
              "      <button class=\"colab-df-convert\" onclick=\"convertToInteractive('df-9df881f7-a4b2-4492-8015-b4a81a825884')\"\n",
              "              title=\"Convert this dataframe to an interactive table.\"\n",
              "              style=\"display:none;\">\n",
              "        \n",
              "  <svg xmlns=\"http://www.w3.org/2000/svg\" height=\"24px\"viewBox=\"0 0 24 24\"\n",
              "       width=\"24px\">\n",
              "    <path d=\"M0 0h24v24H0V0z\" fill=\"none\"/>\n",
              "    <path d=\"M18.56 5.44l.94 2.06.94-2.06 2.06-.94-2.06-.94-.94-2.06-.94 2.06-2.06.94zm-11 1L8.5 8.5l.94-2.06 2.06-.94-2.06-.94L8.5 2.5l-.94 2.06-2.06.94zm10 10l.94 2.06.94-2.06 2.06-.94-2.06-.94-.94-2.06-.94 2.06-2.06.94z\"/><path d=\"M17.41 7.96l-1.37-1.37c-.4-.4-.92-.59-1.43-.59-.52 0-1.04.2-1.43.59L10.3 9.45l-7.72 7.72c-.78.78-.78 2.05 0 2.83L4 21.41c.39.39.9.59 1.41.59.51 0 1.02-.2 1.41-.59l7.78-7.78 2.81-2.81c.8-.78.8-2.07 0-2.86zM5.41 20L4 18.59l7.72-7.72 1.47 1.35L5.41 20z\"/>\n",
              "  </svg>\n",
              "      </button>\n",
              "      \n",
              "  <style>\n",
              "    .colab-df-container {\n",
              "      display:flex;\n",
              "      flex-wrap:wrap;\n",
              "      gap: 12px;\n",
              "    }\n",
              "\n",
              "    .colab-df-convert {\n",
              "      background-color: #E8F0FE;\n",
              "      border: none;\n",
              "      border-radius: 50%;\n",
              "      cursor: pointer;\n",
              "      display: none;\n",
              "      fill: #1967D2;\n",
              "      height: 32px;\n",
              "      padding: 0 0 0 0;\n",
              "      width: 32px;\n",
              "    }\n",
              "\n",
              "    .colab-df-convert:hover {\n",
              "      background-color: #E2EBFA;\n",
              "      box-shadow: 0px 1px 2px rgba(60, 64, 67, 0.3), 0px 1px 3px 1px rgba(60, 64, 67, 0.15);\n",
              "      fill: #174EA6;\n",
              "    }\n",
              "\n",
              "    [theme=dark] .colab-df-convert {\n",
              "      background-color: #3B4455;\n",
              "      fill: #D2E3FC;\n",
              "    }\n",
              "\n",
              "    [theme=dark] .colab-df-convert:hover {\n",
              "      background-color: #434B5C;\n",
              "      box-shadow: 0px 1px 3px 1px rgba(0, 0, 0, 0.15);\n",
              "      filter: drop-shadow(0px 1px 2px rgba(0, 0, 0, 0.3));\n",
              "      fill: #FFFFFF;\n",
              "    }\n",
              "  </style>\n",
              "\n",
              "      <script>\n",
              "        const buttonEl =\n",
              "          document.querySelector('#df-9df881f7-a4b2-4492-8015-b4a81a825884 button.colab-df-convert');\n",
              "        buttonEl.style.display =\n",
              "          google.colab.kernel.accessAllowed ? 'block' : 'none';\n",
              "\n",
              "        async function convertToInteractive(key) {\n",
              "          const element = document.querySelector('#df-9df881f7-a4b2-4492-8015-b4a81a825884');\n",
              "          const dataTable =\n",
              "            await google.colab.kernel.invokeFunction('convertToInteractive',\n",
              "                                                     [key], {});\n",
              "          if (!dataTable) return;\n",
              "\n",
              "          const docLinkHtml = 'Like what you see? Visit the ' +\n",
              "            '<a target=\"_blank\" href=https://colab.research.google.com/notebooks/data_table.ipynb>data table notebook</a>'\n",
              "            + ' to learn more about interactive tables.';\n",
              "          element.innerHTML = '';\n",
              "          dataTable['output_type'] = 'display_data';\n",
              "          await google.colab.output.renderOutput(dataTable, element);\n",
              "          const docLink = document.createElement('div');\n",
              "          docLink.innerHTML = docLinkHtml;\n",
              "          element.appendChild(docLink);\n",
              "        }\n",
              "      </script>\n",
              "    </div>\n",
              "  </div>\n",
              "  "
            ],
            "text/plain": [
              "              tweet_id  ...      screen_name\n",
              "0  1482536715915083780  ...        tracklist\n",
              "1  1482162756774150146  ...        tracklist\n",
              "2  1482405687263178761  ...        tracklist\n",
              "3  1482397456126128131  ...     Naiarazevedo\n",
              "4  1482707393066770434  ...              bbb\n",
              "5  1482152323526889473  ...   linndaquebrada\n",
              "6  1482444660807290890  ...              bbb\n",
              "7  1482714259121389571  ...        multishow\n",
              "8  1482342625067810816  ...            paiva\n",
              "9  1482503088296574978  ...  brunnagoncalves\n",
              "\n",
              "[10 rows x 13 columns]"
            ]
          },
          "metadata": {},
          "execution_count": 123
        }
      ]
    },
    {
      "cell_type": "code",
      "source": [
        "recents_list = []\n",
        "\n",
        "for each_dictionary in popular_dict:\n",
        "    tweet_id = each_dictionary['id']\n",
        "    text = each_dictionary['text']\n",
        "    favorite_count = each_dictionary['favorite_count']\n",
        "    retweet_count = each_dictionary['retweet_count']\n",
        "    created_at = each_dictionary['created_at']\n",
        "    location = each_dictionary['user']['location']\n",
        "    followers_count = each_dictionary['user']['followers_count']\n",
        "    friends_count = each_dictionary['user']['friends_count']\n",
        "    verified = each_dictionary['user']['verified']\n",
        "    hashtags = each_dictionary['entities']['hashtags']\n",
        "    user_mentions = each_dictionary['entities']['user_mentions']\n",
        "    name = each_dictionary['user']['name']\n",
        "    screen_name = each_dictionary['user']['screen_name']\n",
        "\n",
        "    popular_list.append({'tweet_id': str(tweet_id),\n",
        "                          'text': str(text),\n",
        "                          'favorite_count': int(favorite_count),\n",
        "                          'retweet_count': int(retweet_count),\n",
        "                          'created_at': created_at,\n",
        "                          'location': location,\n",
        "                          'followers_count': followers_count,\n",
        "                          'friends_count': friends_count,\n",
        "                          'verified': verified,\n",
        "                          'retweet_count': retweet_count,\n",
        "                          'favorite_count': favorite_count,\n",
        "                          'hashtags': hashtags,\n",
        "                          'user_mentions': user_mentions,\n",
        "                          'name': name,\n",
        "                          'screen_name': screen_name,\n",
        "                          })\n",
        "    \n",
        "    tweet_json_popular = pd.DataFrame(my_demo_list, columns = \n",
        "                              ['tweet_id', 'text', \n",
        "                                'favorite_count', 'retweet_count', \n",
        "                                'created_at', 'location',\n",
        "                                'followers_count', 'friends_count',\n",
        "                                'verified', 'hashtags',\n",
        "                                'user_mentions', 'name',\n",
        "                                'screen_name'])"
      ],
      "metadata": {
        "id": "BEvjqNZF0Rxl"
      },
      "execution_count": null,
      "outputs": []
    },
    {
      "cell_type": "code",
      "source": [
        "calendar = {'Jan': 1, 'Feb': 2, 'Mar': 3, 'Apr': 4, 'May': 5, 'Jun': 6, \n",
        "                'Jul': 7, 'Aug': 8, 'Sep': 9, 'Oct': 10, 'Nov': 11, 'Dec': 12}\n",
        "  \n",
        "tweet_json['Week_day'] = tweet_json['created_at'].str.slice(0,3)\n",
        "tweet_json['Month_name'] = tweet_json['created_at'].str.slice(4,7)\n",
        "tweet_json['Month'] = tweet_json['Month_name'].map(calendar)\n",
        "tweet_json['Day_number'] = tweet_json['created_at'].str.slice(8,10)\n",
        "tweet_json['Tweeted_at_time'] = tweet_json['created_at'].str.slice(11,19)\n",
        "tweet_json['Year'] = tweet_json['created_at'].str.slice(26,30)"
      ],
      "metadata": {
        "id": "3J32dDMsnKgr"
      },
      "execution_count": null,
      "outputs": []
    },
    {
      "cell_type": "code",
      "source": [
        "tweet_json['Data'] = str(str(tweet_json['Day_number']) + '-' + str(tweet_json['Month']) + '-' + str(tweet_json['Year']))"
      ],
      "metadata": {
        "id": "cEKY31zyW8Xt"
      },
      "execution_count": null,
      "outputs": []
    },
    {
      "cell_type": "code",
      "source": [
        "tweet_json['Data'][0]"
      ],
      "metadata": {
        "colab": {
          "base_uri": "https://localhost:8080/",
          "height": 87
        },
        "id": "lcTmdJGfmQEJ",
        "outputId": "3d367b04-575f-4f6c-9649-c3352349e9dc"
      },
      "execution_count": null,
      "outputs": [
        {
          "output_type": "execute_result",
          "data": {
            "application/vnd.google.colaboratory.intrinsic+json": {
              "type": "string"
            },
            "text/plain": [
              "'0     15\\n1     14\\n2     14\\n3     15\\n4     14\\n5     14\\n6     15\\n7     15\\n8     14\\n9     14\\n10    15\\n11    14\\n12    14\\n13    14\\nName: Day_number, dtype: object-0     1\\n1     1\\n2     1\\n3     1\\n4     1\\n5     1\\n6     1\\n7     1\\n8     1\\n9     1\\n10    1\\n11    1\\n12    1\\n13    1\\nName: Month, dtype: int64-0     2022\\n1     2022\\n2     2022\\n3     2022\\n4     2022\\n5     2022\\n6     2022\\n7     2022\\n8     2022\\n9     2022\\n10    2022\\n11    2022\\n12    2022\\n13    2022\\nName: Year, dtype: object'"
            ]
          },
          "metadata": {},
          "execution_count": 73
        }
      ]
    },
    {
      "cell_type": "code",
      "source": [
        "# em média, quantos seguidores ganha após um tweet positivo? e quantos perde após um tweet negativo?\n",
        "# modelo de classificação baseado na popularidade do participante\n",
        "# prob de ser eliminado no paredão de acordo com o atual nível de popularidade"
      ],
      "metadata": {
        "id": "aTkkDYfUpFWI"
      },
      "execution_count": null,
      "outputs": []
    },
    {
      "cell_type": "code",
      "source": [
        ""
      ],
      "metadata": {
        "id": "zIGCqJuvpV6X"
      },
      "execution_count": null,
      "outputs": []
    }
  ]
}