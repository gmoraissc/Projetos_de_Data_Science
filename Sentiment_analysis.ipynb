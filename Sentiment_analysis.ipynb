{
  "nbformat": 4,
  "nbformat_minor": 0,
  "metadata": {
    "colab": {
      "name": "Sentiment_analysis.ipynb",
      "provenance": [],
      "collapsed_sections": [],
      "mount_file_id": "1SR-3i9Wrab9mlb7RdoAnO_79DAVvlJaf",
      "authorship_tag": "ABX9TyNdB51Ukg685Q3e0EyZPN6o",
      "include_colab_link": true
    },
    "kernelspec": {
      "name": "python3",
      "display_name": "Python 3"
    },
    "language_info": {
      "name": "python"
    }
  },
  "cells": [
    {
      "cell_type": "markdown",
      "metadata": {
        "id": "view-in-github",
        "colab_type": "text"
      },
      "source": [
        "<a href=\"https://colab.research.google.com/github/gmoraissc/Projetos_de_Data_Science/blob/main/Sentiment_analysis.ipynb\" target=\"_parent\"><img src=\"https://colab.research.google.com/assets/colab-badge.svg\" alt=\"Open In Colab\"/></a>"
      ]
    },
    {
      "cell_type": "code",
      "execution_count": 137,
      "metadata": {
        "id": "A2De13A6eBh2"
      },
      "outputs": [],
      "source": [
        "# imports\n",
        "import pandas as pd\n",
        "import numpy as np\n",
        "import tweepy, nltk, json\n",
        "from datetime import datetime, date"
      ]
    },
    {
      "cell_type": "code",
      "source": [
        "access_token=\"590375619-tkJialGWR4R5ZoXJfWsZlx0DoLUfSDlbUi1hLATZ\"\n",
        "access_token_secret=\"cGjIJU3YM23f1qxH8LvUKd6Tm05zbOBUI9NcCDxLzJ39T\"\n",
        "bearer_token = 'AAAAAAAAAAAAAAAAAAAAAHeVYAEAAAAA9sjLNUPQJgclF6kKG0lPvLTq9nY%3DwprwxmnxRvmXpbU2CbXAoIGogKKEZCRxKwoi6xNW3au27KlCqk'\n",
        "consumer_key= 'vS7GEC5Cy7HixHoVKNpCR7cFr'\n",
        "consumer_secret=\"0cpjFY2tWCwDoWhqOwr2ZBDy6TbpNOtWnQOpU70V9V0Bwu0JNt\""
      ],
      "metadata": {
        "id": "a05ndHrKuXHr"
      },
      "execution_count": 56,
      "outputs": []
    },
    {
      "cell_type": "code",
      "source": [
        "auth = tweepy.OAuthHandler(consumer_key, consumer_secret)\n",
        "auth.set_access_token(access_token, access_token_secret)\n",
        "\n",
        "api = tweepy.API(auth)\n",
        "\n",
        "search_results_popular = api.search(q=['BBB22'],\n",
        "                            result_type='popular',\n",
        "                            count=10000)\n",
        "\n",
        "search_results_recents = api.search(q=['BBB22'],\n",
        "                                    result_type='recent',\n",
        "                                    count=10000)"
      ],
      "metadata": {
        "id": "RL_XrvFE1GBp"
      },
      "execution_count": 138,
      "outputs": []
    },
    {
      "cell_type": "code",
      "source": [
        "popular_dict = {}\n",
        "recents_dict = {}\n",
        "d1 = date.today().strftime(\"%d/%m/%Y\")\n",
        "\n",
        "for each_json_tweet in search_results_popular:\n",
        "  _ = json.dumps(each_json_tweet._json)\n",
        "    \n",
        "  if d1 not in popular_dict.keys():\n",
        "     tweet = {d1: [json.loads(_)]}\n",
        "     popular_dict.update(tweet)\n",
        "   \n",
        "  else:\n",
        "      popular_dict[d1].append(json.loads(_))\n",
        "\n",
        "for each_json_tweet in search_results_recents:\n",
        "\n",
        "  _ = json.dumps(each_json_tweet._json)\n",
        "\n",
        "  if d1 not in recents_dict.keys():\n",
        "    tweet = {d1: [json.loads(_)]}\n",
        "    recents_dict.update(tweet)\n",
        "\n",
        "  else:\n",
        "    recents_dict[d1].append(json.loads(_))"
      ],
      "metadata": {
        "id": "e7Hs09z_cCXh"
      },
      "execution_count": 139,
      "outputs": []
    },
    {
      "cell_type": "code",
      "source": [
        "popular_list = []\n",
        "\n",
        "for i in range(0, len(popular_dict[d1])):\n",
        "\n",
        "      tweet_id = popular_dict[d1][i]['id']\n",
        "      text = popular_dict[d1][i]['text']\n",
        "      favorite_count = popular_dict[d1][i]['favorite_count']\n",
        "      retweet_count = popular_dict[d1][i]['retweet_count']\n",
        "      created_at = popular_dict[d1][i]['created_at']\n",
        "      location = popular_dict[d1][i]['user']['location']\n",
        "      followers_count = popular_dict[d1][i]['user']['followers_count']\n",
        "      friends_count = popular_dict[d1][i]['user']['friends_count']\n",
        "      verified = popular_dict[d1][i]['user']['verified']\n",
        "      hashtags = popular_dict[d1][i]['entities']['hashtags']\n",
        "      user_mentions = popular_dict[d1][i]['entities']['user_mentions']\n",
        "      name = popular_dict[d1][i]['user']['name']\n",
        "      screen_name = popular_dict[d1][i]['user']['screen_name']\n",
        "\n",
        "      popular_list.append({'tweet_id': str(tweet_id),\n",
        "                            'text': str(text),\n",
        "                            'favorite_count': int(favorite_count),\n",
        "                            'retweet_count': int(retweet_count),\n",
        "                            'created_at': created_at,\n",
        "                            'location': location,\n",
        "                            'followers_count': followers_count,\n",
        "                            'friends_count': friends_count,\n",
        "                            'verified': verified,\n",
        "                            'retweet_count': retweet_count,\n",
        "                            'favorite_count': favorite_count,\n",
        "                            'hashtags': hashtags,\n",
        "                            'user_mentions': user_mentions,\n",
        "                            'name': name,\n",
        "                            'screen_name': screen_name,\n",
        "                            })\n",
        "      \n",
        "      tweet_json_popular = pd.DataFrame(popular_list, columns = \n",
        "                                ['tweet_id', 'text', \n",
        "                                  'favorite_count', 'retweet_count', \n",
        "                                  'created_at', 'location',\n",
        "                                  'followers_count', 'friends_count',\n",
        "                                  'verified', 'hashtags',\n",
        "                                  'user_mentions', 'name',\n",
        "                                  'screen_name'])"
      ],
      "metadata": {
        "id": "JJoy_A6EdH7U"
      },
      "execution_count": 140,
      "outputs": []
    },
    {
      "cell_type": "code",
      "source": [
        "recents_list = []\n",
        "\n",
        "for i in range(0, len(recents_dict[d1])):\n",
        "\n",
        "      tweet_id = recents_dict[d1][i]['id']\n",
        "      text = recents_dict[d1][i]['text']\n",
        "      favorite_count = recents_dict[d1][i]['favorite_count']\n",
        "      retweet_count = recents_dict[d1][i]['retweet_count']\n",
        "      created_at = recents_dict[d1][i]['created_at']\n",
        "      location = recents_dict[d1][i]['user']['location']\n",
        "      followers_count = recents_dict[d1][i]['user']['followers_count']\n",
        "      friends_count = recents_dict[d1][i]['user']['friends_count']\n",
        "      verified = recents_dict[d1][i]['user']['verified']\n",
        "      hashtags = recents_dict[d1][i]['entities']['hashtags']\n",
        "      user_mentions = recents_dict[d1][i]['entities']['user_mentions']\n",
        "      name = recents_dict[d1][i]['user']['name']\n",
        "      screen_name = recents_dict[d1][i]['user']['screen_name']\n",
        "\n",
        "      recents_list.append({'tweet_id': str(tweet_id),\n",
        "                            'text': str(text),\n",
        "                            'favorite_count': int(favorite_count),\n",
        "                            'retweet_count': int(retweet_count),\n",
        "                            'created_at': created_at,\n",
        "                            'location': location,\n",
        "                            'followers_count': followers_count,\n",
        "                            'friends_count': friends_count,\n",
        "                            'verified': verified,\n",
        "                            'retweet_count': retweet_count,\n",
        "                            'favorite_count': favorite_count,\n",
        "                            'hashtags': hashtags,\n",
        "                            'user_mentions': user_mentions,\n",
        "                            'name': name,\n",
        "                            'screen_name': screen_name,\n",
        "                            })\n",
        "      \n",
        "      tweet_json_recents = pd.DataFrame(recents_list, columns = \n",
        "                                ['tweet_id', 'text', \n",
        "                                  'favorite_count', 'retweet_count', \n",
        "                                  'created_at', 'location',\n",
        "                                  'followers_count', 'friends_count',\n",
        "                                  'verified', 'hashtags',\n",
        "                                  'user_mentions', 'name',\n",
        "                                  'screen_name'])"
      ],
      "metadata": {
        "id": "BEvjqNZF0Rxl"
      },
      "execution_count": 141,
      "outputs": []
    },
    {
      "cell_type": "code",
      "source": [
        "tweet_json_recents.tweet_id.dtypes, tweet_json_popular.tweet_id.dtypes"
      ],
      "metadata": {
        "colab": {
          "base_uri": "https://localhost:8080/"
        },
        "id": "MFnf8r-nZqFS",
        "outputId": "2efda790-20dc-4a8c-941b-a0fd9ee76067"
      },
      "execution_count": 152,
      "outputs": [
        {
          "output_type": "execute_result",
          "data": {
            "text/plain": [
              "(dtype('O'), dtype('O'))"
            ]
          },
          "metadata": {},
          "execution_count": 152
        }
      ]
    },
    {
      "cell_type": "code",
      "source": [
        "tweet_json_recents.join(tweet_json_popular, on='tweet_id')"
      ],
      "metadata": {
        "colab": {
          "base_uri": "https://localhost:8080/",
          "height": 311
        },
        "id": "M_GiRJGrdvpV",
        "outputId": "d2c14cbf-eac1-4a29-ae11-6299e312f1d7"
      },
      "execution_count": 149,
      "outputs": [
        {
          "output_type": "error",
          "ename": "ValueError",
          "evalue": "ignored",
          "traceback": [
            "\u001b[0;31m---------------------------------------------------------------------------\u001b[0m",
            "\u001b[0;31mValueError\u001b[0m                                Traceback (most recent call last)",
            "\u001b[0;32m<ipython-input-149-82e2a9b65252>\u001b[0m in \u001b[0;36m<module>\u001b[0;34m()\u001b[0m\n\u001b[0;32m----> 1\u001b[0;31m \u001b[0mtweet_json_recents\u001b[0m\u001b[0;34m.\u001b[0m\u001b[0mjoin\u001b[0m\u001b[0;34m(\u001b[0m\u001b[0mtweet_json_popular\u001b[0m\u001b[0;34m,\u001b[0m \u001b[0mon\u001b[0m\u001b[0;34m=\u001b[0m\u001b[0;34m'tweet_id'\u001b[0m\u001b[0;34m)\u001b[0m\u001b[0;34m\u001b[0m\u001b[0;34m\u001b[0m\u001b[0m\n\u001b[0m",
            "\u001b[0;32m/usr/local/lib/python3.7/dist-packages/pandas/core/frame.py\u001b[0m in \u001b[0;36mjoin\u001b[0;34m(self, other, on, how, lsuffix, rsuffix, sort)\u001b[0m\n\u001b[1;32m   7873\u001b[0m         \"\"\"\n\u001b[1;32m   7874\u001b[0m         return self._join_compat(\n\u001b[0;32m-> 7875\u001b[0;31m             \u001b[0mother\u001b[0m\u001b[0;34m,\u001b[0m \u001b[0mon\u001b[0m\u001b[0;34m=\u001b[0m\u001b[0mon\u001b[0m\u001b[0;34m,\u001b[0m \u001b[0mhow\u001b[0m\u001b[0;34m=\u001b[0m\u001b[0mhow\u001b[0m\u001b[0;34m,\u001b[0m \u001b[0mlsuffix\u001b[0m\u001b[0;34m=\u001b[0m\u001b[0mlsuffix\u001b[0m\u001b[0;34m,\u001b[0m \u001b[0mrsuffix\u001b[0m\u001b[0;34m=\u001b[0m\u001b[0mrsuffix\u001b[0m\u001b[0;34m,\u001b[0m \u001b[0msort\u001b[0m\u001b[0;34m=\u001b[0m\u001b[0msort\u001b[0m\u001b[0;34m\u001b[0m\u001b[0;34m\u001b[0m\u001b[0m\n\u001b[0m\u001b[1;32m   7876\u001b[0m         )\n\u001b[1;32m   7877\u001b[0m \u001b[0;34m\u001b[0m\u001b[0m\n",
            "\u001b[0;32m/usr/local/lib/python3.7/dist-packages/pandas/core/frame.py\u001b[0m in \u001b[0;36m_join_compat\u001b[0;34m(self, other, on, how, lsuffix, rsuffix, sort)\u001b[0m\n\u001b[1;32m   7896\u001b[0m                 \u001b[0mright_index\u001b[0m\u001b[0;34m=\u001b[0m\u001b[0;32mTrue\u001b[0m\u001b[0;34m,\u001b[0m\u001b[0;34m\u001b[0m\u001b[0;34m\u001b[0m\u001b[0m\n\u001b[1;32m   7897\u001b[0m                 \u001b[0msuffixes\u001b[0m\u001b[0;34m=\u001b[0m\u001b[0;34m(\u001b[0m\u001b[0mlsuffix\u001b[0m\u001b[0;34m,\u001b[0m \u001b[0mrsuffix\u001b[0m\u001b[0;34m)\u001b[0m\u001b[0;34m,\u001b[0m\u001b[0;34m\u001b[0m\u001b[0;34m\u001b[0m\u001b[0m\n\u001b[0;32m-> 7898\u001b[0;31m                 \u001b[0msort\u001b[0m\u001b[0;34m=\u001b[0m\u001b[0msort\u001b[0m\u001b[0;34m,\u001b[0m\u001b[0;34m\u001b[0m\u001b[0;34m\u001b[0m\u001b[0m\n\u001b[0m\u001b[1;32m   7899\u001b[0m             )\n\u001b[1;32m   7900\u001b[0m         \u001b[0;32melse\u001b[0m\u001b[0;34m:\u001b[0m\u001b[0;34m\u001b[0m\u001b[0;34m\u001b[0m\u001b[0m\n",
            "\u001b[0;32m/usr/local/lib/python3.7/dist-packages/pandas/core/reshape/merge.py\u001b[0m in \u001b[0;36mmerge\u001b[0;34m(left, right, how, on, left_on, right_on, left_index, right_index, sort, suffixes, copy, indicator, validate)\u001b[0m\n\u001b[1;32m     85\u001b[0m         \u001b[0mcopy\u001b[0m\u001b[0;34m=\u001b[0m\u001b[0mcopy\u001b[0m\u001b[0;34m,\u001b[0m\u001b[0;34m\u001b[0m\u001b[0;34m\u001b[0m\u001b[0m\n\u001b[1;32m     86\u001b[0m         \u001b[0mindicator\u001b[0m\u001b[0;34m=\u001b[0m\u001b[0mindicator\u001b[0m\u001b[0;34m,\u001b[0m\u001b[0;34m\u001b[0m\u001b[0;34m\u001b[0m\u001b[0m\n\u001b[0;32m---> 87\u001b[0;31m         \u001b[0mvalidate\u001b[0m\u001b[0;34m=\u001b[0m\u001b[0mvalidate\u001b[0m\u001b[0;34m,\u001b[0m\u001b[0;34m\u001b[0m\u001b[0;34m\u001b[0m\u001b[0m\n\u001b[0m\u001b[1;32m     88\u001b[0m     )\n\u001b[1;32m     89\u001b[0m     \u001b[0;32mreturn\u001b[0m \u001b[0mop\u001b[0m\u001b[0;34m.\u001b[0m\u001b[0mget_result\u001b[0m\u001b[0;34m(\u001b[0m\u001b[0;34m)\u001b[0m\u001b[0;34m\u001b[0m\u001b[0;34m\u001b[0m\u001b[0m\n",
            "\u001b[0;32m/usr/local/lib/python3.7/dist-packages/pandas/core/reshape/merge.py\u001b[0m in \u001b[0;36m__init__\u001b[0;34m(self, left, right, how, on, left_on, right_on, axis, left_index, right_index, sort, suffixes, copy, indicator, validate)\u001b[0m\n\u001b[1;32m    654\u001b[0m         \u001b[0;31m# validate the merge keys dtypes. We may need to coerce\u001b[0m\u001b[0;34m\u001b[0m\u001b[0;34m\u001b[0m\u001b[0;34m\u001b[0m\u001b[0m\n\u001b[1;32m    655\u001b[0m         \u001b[0;31m# to avoid incompatible dtypes\u001b[0m\u001b[0;34m\u001b[0m\u001b[0;34m\u001b[0m\u001b[0;34m\u001b[0m\u001b[0m\n\u001b[0;32m--> 656\u001b[0;31m         \u001b[0mself\u001b[0m\u001b[0;34m.\u001b[0m\u001b[0m_maybe_coerce_merge_keys\u001b[0m\u001b[0;34m(\u001b[0m\u001b[0;34m)\u001b[0m\u001b[0;34m\u001b[0m\u001b[0;34m\u001b[0m\u001b[0m\n\u001b[0m\u001b[1;32m    657\u001b[0m \u001b[0;34m\u001b[0m\u001b[0m\n\u001b[1;32m    658\u001b[0m         \u001b[0;31m# If argument passed to validate,\u001b[0m\u001b[0;34m\u001b[0m\u001b[0;34m\u001b[0m\u001b[0;34m\u001b[0m\u001b[0m\n",
            "\u001b[0;32m/usr/local/lib/python3.7/dist-packages/pandas/core/reshape/merge.py\u001b[0m in \u001b[0;36m_maybe_coerce_merge_keys\u001b[0;34m(self)\u001b[0m\n\u001b[1;32m   1163\u001b[0m                     \u001b[0minferred_right\u001b[0m \u001b[0;32min\u001b[0m \u001b[0mstring_types\u001b[0m \u001b[0;32mand\u001b[0m \u001b[0minferred_left\u001b[0m \u001b[0;32mnot\u001b[0m \u001b[0;32min\u001b[0m \u001b[0mstring_types\u001b[0m\u001b[0;34m\u001b[0m\u001b[0;34m\u001b[0m\u001b[0m\n\u001b[1;32m   1164\u001b[0m                 ):\n\u001b[0;32m-> 1165\u001b[0;31m                     \u001b[0;32mraise\u001b[0m \u001b[0mValueError\u001b[0m\u001b[0;34m(\u001b[0m\u001b[0mmsg\u001b[0m\u001b[0;34m)\u001b[0m\u001b[0;34m\u001b[0m\u001b[0;34m\u001b[0m\u001b[0m\n\u001b[0m\u001b[1;32m   1166\u001b[0m \u001b[0;34m\u001b[0m\u001b[0m\n\u001b[1;32m   1167\u001b[0m             \u001b[0;31m# datetimelikes must match exactly\u001b[0m\u001b[0;34m\u001b[0m\u001b[0;34m\u001b[0m\u001b[0;34m\u001b[0m\u001b[0m\n",
            "\u001b[0;31mValueError\u001b[0m: You are trying to merge on object and int64 columns. If you wish to proceed you should use pd.concat"
          ]
        }
      ]
    },
    {
      "cell_type": "code",
      "source": [
        "calendar = {'Jan': 1, 'Feb': 2, 'Mar': 3, 'Apr': 4, 'May': 5, 'Jun': 6, \n",
        "                'Jul': 7, 'Aug': 8, 'Sep': 9, 'Oct': 10, 'Nov': 11, 'Dec': 12}\n",
        "  \n",
        "tweet_json['Week_day'] = tweet_json['created_at'].str.slice(0,3)\n",
        "tweet_json['Month_name'] = tweet_json['created_at'].str.slice(4,7)\n",
        "tweet_json['Month'] = tweet_json['Month_name'].map(calendar)\n",
        "tweet_json['Day_number'] = tweet_json['created_at'].str.slice(8,10)\n",
        "tweet_json['Tweeted_at_time'] = tweet_json['created_at'].str.slice(11,19)\n",
        "tweet_json['Year'] = tweet_json['created_at'].str.slice(26,30)"
      ],
      "metadata": {
        "id": "3J32dDMsnKgr",
        "colab": {
          "base_uri": "https://localhost:8080/",
          "height": 235
        },
        "outputId": "0f83a6b4-5d44-40ac-db02-0c1085b6ee2c"
      },
      "execution_count": 143,
      "outputs": [
        {
          "output_type": "error",
          "ename": "NameError",
          "evalue": "ignored",
          "traceback": [
            "\u001b[0;31m---------------------------------------------------------------------------\u001b[0m",
            "\u001b[0;31mNameError\u001b[0m                                 Traceback (most recent call last)",
            "\u001b[0;32m<ipython-input-143-45e9b3b9e0e3>\u001b[0m in \u001b[0;36m<module>\u001b[0;34m()\u001b[0m\n\u001b[1;32m      2\u001b[0m                 'Jul': 7, 'Aug': 8, 'Sep': 9, 'Oct': 10, 'Nov': 11, 'Dec': 12}\n\u001b[1;32m      3\u001b[0m \u001b[0;34m\u001b[0m\u001b[0m\n\u001b[0;32m----> 4\u001b[0;31m \u001b[0mtweet_json\u001b[0m\u001b[0;34m[\u001b[0m\u001b[0;34m'Week_day'\u001b[0m\u001b[0;34m]\u001b[0m \u001b[0;34m=\u001b[0m \u001b[0mtweet_json\u001b[0m\u001b[0;34m[\u001b[0m\u001b[0;34m'created_at'\u001b[0m\u001b[0;34m]\u001b[0m\u001b[0;34m.\u001b[0m\u001b[0mstr\u001b[0m\u001b[0;34m.\u001b[0m\u001b[0mslice\u001b[0m\u001b[0;34m(\u001b[0m\u001b[0;36m0\u001b[0m\u001b[0;34m,\u001b[0m\u001b[0;36m3\u001b[0m\u001b[0;34m)\u001b[0m\u001b[0;34m\u001b[0m\u001b[0;34m\u001b[0m\u001b[0m\n\u001b[0m\u001b[1;32m      5\u001b[0m \u001b[0mtweet_json\u001b[0m\u001b[0;34m[\u001b[0m\u001b[0;34m'Month_name'\u001b[0m\u001b[0;34m]\u001b[0m \u001b[0;34m=\u001b[0m \u001b[0mtweet_json\u001b[0m\u001b[0;34m[\u001b[0m\u001b[0;34m'created_at'\u001b[0m\u001b[0;34m]\u001b[0m\u001b[0;34m.\u001b[0m\u001b[0mstr\u001b[0m\u001b[0;34m.\u001b[0m\u001b[0mslice\u001b[0m\u001b[0;34m(\u001b[0m\u001b[0;36m4\u001b[0m\u001b[0;34m,\u001b[0m\u001b[0;36m7\u001b[0m\u001b[0;34m)\u001b[0m\u001b[0;34m\u001b[0m\u001b[0;34m\u001b[0m\u001b[0m\n\u001b[1;32m      6\u001b[0m \u001b[0mtweet_json\u001b[0m\u001b[0;34m[\u001b[0m\u001b[0;34m'Month'\u001b[0m\u001b[0;34m]\u001b[0m \u001b[0;34m=\u001b[0m \u001b[0mtweet_json\u001b[0m\u001b[0;34m[\u001b[0m\u001b[0;34m'Month_name'\u001b[0m\u001b[0;34m]\u001b[0m\u001b[0;34m.\u001b[0m\u001b[0mmap\u001b[0m\u001b[0;34m(\u001b[0m\u001b[0mcalendar\u001b[0m\u001b[0;34m)\u001b[0m\u001b[0;34m\u001b[0m\u001b[0;34m\u001b[0m\u001b[0m\n",
            "\u001b[0;31mNameError\u001b[0m: name 'tweet_json' is not defined"
          ]
        }
      ]
    },
    {
      "cell_type": "code",
      "source": [
        "tweet_json['Data'] = str(str(tweet_json['Day_number']) + '-' + str(tweet_json['Month']) + '-' + str(tweet_json['Year']))"
      ],
      "metadata": {
        "id": "cEKY31zyW8Xt"
      },
      "execution_count": null,
      "outputs": []
    },
    {
      "cell_type": "code",
      "source": [
        "tweet_json['Data'][0]"
      ],
      "metadata": {
        "colab": {
          "base_uri": "https://localhost:8080/",
          "height": 87
        },
        "id": "lcTmdJGfmQEJ",
        "outputId": "3d367b04-575f-4f6c-9649-c3352349e9dc"
      },
      "execution_count": null,
      "outputs": [
        {
          "output_type": "execute_result",
          "data": {
            "application/vnd.google.colaboratory.intrinsic+json": {
              "type": "string"
            },
            "text/plain": [
              "'0     15\\n1     14\\n2     14\\n3     15\\n4     14\\n5     14\\n6     15\\n7     15\\n8     14\\n9     14\\n10    15\\n11    14\\n12    14\\n13    14\\nName: Day_number, dtype: object-0     1\\n1     1\\n2     1\\n3     1\\n4     1\\n5     1\\n6     1\\n7     1\\n8     1\\n9     1\\n10    1\\n11    1\\n12    1\\n13    1\\nName: Month, dtype: int64-0     2022\\n1     2022\\n2     2022\\n3     2022\\n4     2022\\n5     2022\\n6     2022\\n7     2022\\n8     2022\\n9     2022\\n10    2022\\n11    2022\\n12    2022\\n13    2022\\nName: Year, dtype: object'"
            ]
          },
          "metadata": {},
          "execution_count": 73
        }
      ]
    },
    {
      "cell_type": "code",
      "source": [
        "# em média, quantos seguidores ganha após um tweet positivo? e quantos perde após um tweet negativo?\n",
        "# modelo de classificação baseado na popularidade do participante\n",
        "# prob de ser eliminado no paredão de acordo com o atual nível de popularidade"
      ],
      "metadata": {
        "id": "aTkkDYfUpFWI"
      },
      "execution_count": null,
      "outputs": []
    },
    {
      "cell_type": "code",
      "source": [
        ""
      ],
      "metadata": {
        "id": "zIGCqJuvpV6X"
      },
      "execution_count": null,
      "outputs": []
    }
  ]
}