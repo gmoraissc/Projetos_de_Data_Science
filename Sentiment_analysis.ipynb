{
  "nbformat": 4,
  "nbformat_minor": 0,
  "metadata": {
    "colab": {
      "name": "Sentiment_analysis.ipynb",
      "provenance": [],
      "collapsed_sections": [],
      "mount_file_id": "1SR-3i9Wrab9mlb7RdoAnO_79DAVvlJaf",
      "authorship_tag": "ABX9TyPuwXZQlmYmgC5TA0xm/wP6",
      "include_colab_link": true
    },
    "kernelspec": {
      "name": "python3",
      "display_name": "Python 3"
    },
    "language_info": {
      "name": "python"
    }
  },
  "cells": [
    {
      "cell_type": "markdown",
      "metadata": {
        "id": "view-in-github",
        "colab_type": "text"
      },
      "source": [
        "<a href=\"https://colab.research.google.com/github/gmoraissc/Projetos_de_Data_Science/blob/main/Sentiment_analysis.ipynb\" target=\"_parent\"><img src=\"https://colab.research.google.com/assets/colab-badge.svg\" alt=\"Open In Colab\"/></a>"
      ]
    },
    {
      "cell_type": "code",
      "source": [
        "!pip install xlsxwriter"
      ],
      "metadata": {
        "id": "bVoxFz3_T3hW",
        "colab": {
          "base_uri": "https://localhost:8080/"
        },
        "outputId": "3f0d0509-c49a-426f-f49a-7dcd6681aeed"
      },
      "execution_count": 1,
      "outputs": [
        {
          "output_type": "stream",
          "name": "stdout",
          "text": [
            "Collecting xlsxwriter\n",
            "  Downloading XlsxWriter-3.0.2-py3-none-any.whl (149 kB)\n",
            "\u001b[?25l\r\u001b[K     |██▏                             | 10 kB 33.0 MB/s eta 0:00:01\r\u001b[K     |████▍                           | 20 kB 22.6 MB/s eta 0:00:01\r\u001b[K     |██████▋                         | 30 kB 11.0 MB/s eta 0:00:01\r\u001b[K     |████████▊                       | 40 kB 8.6 MB/s eta 0:00:01\r\u001b[K     |███████████                     | 51 kB 8.0 MB/s eta 0:00:01\r\u001b[K     |█████████████▏                  | 61 kB 7.6 MB/s eta 0:00:01\r\u001b[K     |███████████████▎                | 71 kB 7.2 MB/s eta 0:00:01\r\u001b[K     |█████████████████▌              | 81 kB 8.1 MB/s eta 0:00:01\r\u001b[K     |███████████████████▊            | 92 kB 7.1 MB/s eta 0:00:01\r\u001b[K     |█████████████████████▉          | 102 kB 7.2 MB/s eta 0:00:01\r\u001b[K     |████████████████████████        | 112 kB 7.2 MB/s eta 0:00:01\r\u001b[K     |██████████████████████████▎     | 122 kB 7.2 MB/s eta 0:00:01\r\u001b[K     |████████████████████████████▍   | 133 kB 7.2 MB/s eta 0:00:01\r\u001b[K     |██████████████████████████████▋ | 143 kB 7.2 MB/s eta 0:00:01\r\u001b[K     |████████████████████████████████| 149 kB 7.2 MB/s \n",
            "\u001b[?25hInstalling collected packages: xlsxwriter\n",
            "Successfully installed xlsxwriter-3.0.2\n"
          ]
        }
      ]
    },
    {
      "cell_type": "code",
      "execution_count": 159,
      "metadata": {
        "id": "A2De13A6eBh2"
      },
      "outputs": [],
      "source": [
        "# imports\n",
        "import pandas as pd\n",
        "import numpy as np\n",
        "import tweepy, nltk, json, os, csv, xlsxwriter\n",
        "from pandas import ExcelWriter as ExcelWriter\n",
        "from pathlib import Path\n",
        "from datetime import datetime, date\n",
        "from csv import writer"
      ]
    },
    {
      "cell_type": "code",
      "source": [
        "access_token=\"590375619-tkJialGWR4R5ZoXJfWsZlx0DoLUfSDlbUi1hLATZ\"\n",
        "access_token_secret=\"cGjIJU3YM23f1qxH8LvUKd6Tm05zbOBUI9NcCDxLzJ39T\"\n",
        "bearer_token = 'AAAAAAAAAAAAAAAAAAAAAHeVYAEAAAAA9sjLNUPQJgclF6kKG0lPvLTq9nY%3DwprwxmnxRvmXpbU2CbXAoIGogKKEZCRxKwoi6xNW3au27KlCqk'\n",
        "consumer_key= 'vS7GEC5Cy7HixHoVKNpCR7cFr'\n",
        "consumer_secret=\"0cpjFY2tWCwDoWhqOwr2ZBDy6TbpNOtWnQOpU70V9V0Bwu0JNt\""
      ],
      "metadata": {
        "id": "a05ndHrKuXHr"
      },
      "execution_count": 3,
      "outputs": []
    },
    {
      "cell_type": "code",
      "source": [
        "auth = tweepy.OAuthHandler(consumer_key, consumer_secret)\n",
        "auth.set_access_token(access_token, access_token_secret)\n",
        "\n",
        "api = tweepy.API(auth)"
      ],
      "metadata": {
        "id": "gmuNrfoS7pC-"
      },
      "execution_count": 4,
      "outputs": []
    },
    {
      "cell_type": "code",
      "source": [
        "class pesquisas_de_tweets(object):\n",
        "\n",
        "  def __init__(self):\n",
        "    pass\n",
        "\n",
        "  def pesquisar_por_termo(self, query, result_type='recent', count=int(1000)):\n",
        "    \n",
        "    global api\n",
        "\n",
        "    self.query = query\n",
        "    self.result_type = result_type\n",
        "    self.count = count\n",
        "\n",
        "    resultados_da_pesquisa = []\n",
        "\n",
        "    for status in tweepy.Cursor(api.search,\n",
        "                                q=self.query,\n",
        "                                result_type=self.result_type,\n",
        "                                count=self.count).items():\n",
        "                                \n",
        "                                resultados_da_pesquisa.append(status)\n",
        "\n",
        "    return resultados_da_pesquisa, result_type\n",
        " \n",
        "  def pesquisar_por_usuario(self, part, result_type='recent', count=int(1000)):\n",
        "    \n",
        "    global api\n",
        "\n",
        "    self.part = part\n",
        "    self.result_type = result_type\n",
        "    self.count = count\n",
        "    \n",
        "    resultados_da_pesquisa = []\n",
        "\n",
        "    for status in tweepy.Cursor(api.user_timeline,\n",
        "                                screen_name=self.part,\n",
        "                                result_type=self.result_type,\n",
        "                                count=self.count,\n",
        "                                exclude_replies=False).items():\n",
        "                                \n",
        "                                resultados_da_pesquisa.append(status)\n",
        "\n",
        "    return resultados_da_pesquisa, result_type"
      ],
      "metadata": {
        "id": "RL_XrvFE1GBp"
      },
      "execution_count": 90,
      "outputs": []
    },
    {
      "cell_type": "code",
      "source": [
        "for page in tweepy.Cursor(api.user_timeline).pages():\n",
        "    # page is a list of statuses\n",
        "    process_page(page)"
      ],
      "metadata": {
        "id": "yuiMPMCM_RX-"
      },
      "execution_count": null,
      "outputs": []
    },
    {
      "cell_type": "code",
      "source": [
        "def criar_dicionario_pesquisas(tweets_status, tipo):\n",
        "  \n",
        "  popular_dict = {}\n",
        "  recents_dict = {}\n",
        "\n",
        "  global d1\n",
        "\n",
        "  for each_json_tweet in tweets_status:\n",
        "    _ = json.dumps(each_json_tweet._json)\n",
        "\n",
        "    if tipo == 'popular':\n",
        "      \n",
        "      if d1 not in popular_dict.keys():\n",
        "        tweet = {d1: [json.loads(_)]}\n",
        "        popular_dict.update(tweet)\n",
        "    \n",
        "      else:\n",
        "        popular_dict[d1].append(json.loads(_))\n",
        "    \n",
        "      return popular_dict, 'popular_dict'\n",
        "\n",
        "    else:\n",
        "      \n",
        "      if d1 not in recents_dict.keys():\n",
        "        tweet = {d1: [json.loads(_)]}\n",
        "        recents_dict.update(tweet)\n",
        "\n",
        "      else:\n",
        "        recents_dict[d1].append(json.loads(_))\n",
        "        \n",
        "      return recents_dict, 'recents_dict'"
      ],
      "metadata": {
        "id": "VUzJV9SfHLw5"
      },
      "execution_count": 59,
      "outputs": []
    },
    {
      "cell_type": "code",
      "source": [
        "d1 = date.today().strftime(\"%d/%m/%Y\")"
      ],
      "metadata": {
        "id": "TRsXoXVSNmQF"
      },
      "execution_count": 60,
      "outputs": []
    },
    {
      "cell_type": "code",
      "source": [
        "def criar_dataframe(dicionario):\n",
        "  \n",
        "  lista = []\n",
        "\n",
        "  for i in range(0, len(dicionario[d1])):\n",
        "\n",
        "        tweet_id = dicionario[d1][i]['id']\n",
        "        text = dicionario[d1][i]['text']\n",
        "        favorite_count = dicionario[d1][i]['favorite_count']\n",
        "        retweet_count = dicionario[d1][i]['retweet_count']\n",
        "        created_at = dicionario[d1][i]['created_at']\n",
        "        location = dicionario[d1][i]['user']['location']\n",
        "        followers_count = dicionario[d1][i]['user']['followers_count']\n",
        "        friends_count = dicionario[d1][i]['user']['friends_count']\n",
        "        verified = dicionario[d1][i]['user']['verified']\n",
        "        hashtags = dicionario[d1][i]['entities']['hashtags']\n",
        "        user_mentions = dicionario[d1][i]['entities']['user_mentions']\n",
        "        name = dicionario[d1][i]['user']['name']\n",
        "        screen_name = dicionario[d1][i]['user']['screen_name']\n",
        "\n",
        "        lista.append({'tweet_id': str(tweet_id),\n",
        "                      'text': str(text),\n",
        "                      'favorite_count': int(favorite_count),\n",
        "                      'retweet_count': int(retweet_count),\n",
        "                      'created_at': created_at,\n",
        "                      'location': location,\n",
        "                      'followers_count': followers_count,\n",
        "                      'friends_count': friends_count,\n",
        "                      'verified': verified,\n",
        "                      'retweet_count': retweet_count,\n",
        "                      'favorite_count': favorite_count,\n",
        "                      'hashtags': hashtags,\n",
        "                      'user_mentions': user_mentions,\n",
        "                      'name': name,\n",
        "                      'screen_name': screen_name})\n",
        "        \n",
        "        tweet_json_ = pd.DataFrame(lista, columns = \n",
        "                                  ['tweet_id', 'text', \n",
        "                                    'favorite_count', 'retweet_count', \n",
        "                                    'created_at', 'location',\n",
        "                                    'followers_count', 'friends_count',\n",
        "                                    'verified', 'hashtags',\n",
        "                                    'user_mentions', 'name',\n",
        "                                    'screen_name'])\n",
        "        \n",
        "        return tweet_json_"
      ],
      "metadata": {
        "id": "HdPStIKAMUXK"
      },
      "execution_count": 127,
      "outputs": []
    },
    {
      "cell_type": "code",
      "source": [
        "tweets, tipo = pesquisas_de_tweets().pesquisar_por_usuario(part='@Naiarazevedo',\n",
        "                                                         result_type='popular')\n",
        "a, b = criar_dicionario_pesquisas(tweets, tipo)\n",
        "criar_dataframe(a)"
      ],
      "metadata": {
        "colab": {
          "base_uri": "https://localhost:8080/",
          "height": 197
        },
        "id": "uU3bWqJ3RBzB",
        "outputId": "e13cbc87-05c1-41b6-8b4a-dac45c856490"
      },
      "execution_count": 99,
      "outputs": [
        {
          "output_type": "execute_result",
          "data": {
            "text/html": [
              "\n",
              "  <div id=\"df-835e8dfe-5f2d-4ec0-8977-b60ae87086f3\">\n",
              "    <div class=\"colab-df-container\">\n",
              "      <div>\n",
              "<style scoped>\n",
              "    .dataframe tbody tr th:only-of-type {\n",
              "        vertical-align: middle;\n",
              "    }\n",
              "\n",
              "    .dataframe tbody tr th {\n",
              "        vertical-align: top;\n",
              "    }\n",
              "\n",
              "    .dataframe thead th {\n",
              "        text-align: right;\n",
              "    }\n",
              "</style>\n",
              "<table border=\"1\" class=\"dataframe\">\n",
              "  <thead>\n",
              "    <tr style=\"text-align: right;\">\n",
              "      <th></th>\n",
              "      <th>tweet_id</th>\n",
              "      <th>text</th>\n",
              "      <th>favorite_count</th>\n",
              "      <th>retweet_count</th>\n",
              "      <th>created_at</th>\n",
              "      <th>location</th>\n",
              "      <th>followers_count</th>\n",
              "      <th>friends_count</th>\n",
              "      <th>verified</th>\n",
              "      <th>hashtags</th>\n",
              "      <th>user_mentions</th>\n",
              "      <th>name</th>\n",
              "      <th>screen_name</th>\n",
              "    </tr>\n",
              "  </thead>\n",
              "  <tbody>\n",
              "    <tr>\n",
              "      <th>0</th>\n",
              "      <td>1483547352644345858</td>\n",
              "      <td>@contextnaiara Pode sim amor, todos são lindos...</td>\n",
              "      <td>14</td>\n",
              "      <td>0</td>\n",
              "      <td>Tue Jan 18 21:10:26 +0000 2022</td>\n",
              "      <td>Goiânia, Brasil</td>\n",
              "      <td>149737</td>\n",
              "      <td>1819</td>\n",
              "      <td>True</td>\n",
              "      <td>[]</td>\n",
              "      <td>[{'screen_name': 'contextnaiara', 'name': 'dud...</td>\n",
              "      <td>Naiara Azevedo 💸</td>\n",
              "      <td>Naiarazevedo</td>\n",
              "    </tr>\n",
              "  </tbody>\n",
              "</table>\n",
              "</div>\n",
              "      <button class=\"colab-df-convert\" onclick=\"convertToInteractive('df-835e8dfe-5f2d-4ec0-8977-b60ae87086f3')\"\n",
              "              title=\"Convert this dataframe to an interactive table.\"\n",
              "              style=\"display:none;\">\n",
              "        \n",
              "  <svg xmlns=\"http://www.w3.org/2000/svg\" height=\"24px\"viewBox=\"0 0 24 24\"\n",
              "       width=\"24px\">\n",
              "    <path d=\"M0 0h24v24H0V0z\" fill=\"none\"/>\n",
              "    <path d=\"M18.56 5.44l.94 2.06.94-2.06 2.06-.94-2.06-.94-.94-2.06-.94 2.06-2.06.94zm-11 1L8.5 8.5l.94-2.06 2.06-.94-2.06-.94L8.5 2.5l-.94 2.06-2.06.94zm10 10l.94 2.06.94-2.06 2.06-.94-2.06-.94-.94-2.06-.94 2.06-2.06.94z\"/><path d=\"M17.41 7.96l-1.37-1.37c-.4-.4-.92-.59-1.43-.59-.52 0-1.04.2-1.43.59L10.3 9.45l-7.72 7.72c-.78.78-.78 2.05 0 2.83L4 21.41c.39.39.9.59 1.41.59.51 0 1.02-.2 1.41-.59l7.78-7.78 2.81-2.81c.8-.78.8-2.07 0-2.86zM5.41 20L4 18.59l7.72-7.72 1.47 1.35L5.41 20z\"/>\n",
              "  </svg>\n",
              "      </button>\n",
              "      \n",
              "  <style>\n",
              "    .colab-df-container {\n",
              "      display:flex;\n",
              "      flex-wrap:wrap;\n",
              "      gap: 12px;\n",
              "    }\n",
              "\n",
              "    .colab-df-convert {\n",
              "      background-color: #E8F0FE;\n",
              "      border: none;\n",
              "      border-radius: 50%;\n",
              "      cursor: pointer;\n",
              "      display: none;\n",
              "      fill: #1967D2;\n",
              "      height: 32px;\n",
              "      padding: 0 0 0 0;\n",
              "      width: 32px;\n",
              "    }\n",
              "\n",
              "    .colab-df-convert:hover {\n",
              "      background-color: #E2EBFA;\n",
              "      box-shadow: 0px 1px 2px rgba(60, 64, 67, 0.3), 0px 1px 3px 1px rgba(60, 64, 67, 0.15);\n",
              "      fill: #174EA6;\n",
              "    }\n",
              "\n",
              "    [theme=dark] .colab-df-convert {\n",
              "      background-color: #3B4455;\n",
              "      fill: #D2E3FC;\n",
              "    }\n",
              "\n",
              "    [theme=dark] .colab-df-convert:hover {\n",
              "      background-color: #434B5C;\n",
              "      box-shadow: 0px 1px 3px 1px rgba(0, 0, 0, 0.15);\n",
              "      filter: drop-shadow(0px 1px 2px rgba(0, 0, 0, 0.3));\n",
              "      fill: #FFFFFF;\n",
              "    }\n",
              "  </style>\n",
              "\n",
              "      <script>\n",
              "        const buttonEl =\n",
              "          document.querySelector('#df-835e8dfe-5f2d-4ec0-8977-b60ae87086f3 button.colab-df-convert');\n",
              "        buttonEl.style.display =\n",
              "          google.colab.kernel.accessAllowed ? 'block' : 'none';\n",
              "\n",
              "        async function convertToInteractive(key) {\n",
              "          const element = document.querySelector('#df-835e8dfe-5f2d-4ec0-8977-b60ae87086f3');\n",
              "          const dataTable =\n",
              "            await google.colab.kernel.invokeFunction('convertToInteractive',\n",
              "                                                     [key], {});\n",
              "          if (!dataTable) return;\n",
              "\n",
              "          const docLinkHtml = 'Like what you see? Visit the ' +\n",
              "            '<a target=\"_blank\" href=https://colab.research.google.com/notebooks/data_table.ipynb>data table notebook</a>'\n",
              "            + ' to learn more about interactive tables.';\n",
              "          element.innerHTML = '';\n",
              "          dataTable['output_type'] = 'display_data';\n",
              "          await google.colab.output.renderOutput(dataTable, element);\n",
              "          const docLink = document.createElement('div');\n",
              "          docLink.innerHTML = docLinkHtml;\n",
              "          element.appendChild(docLink);\n",
              "        }\n",
              "      </script>\n",
              "    </div>\n",
              "  </div>\n",
              "  "
            ],
            "text/plain": [
              "              tweet_id  ...   screen_name\n",
              "0  1483547352644345858  ...  Naiarazevedo\n",
              "\n",
              "[1 rows x 13 columns]"
            ]
          },
          "metadata": {},
          "execution_count": 99
        }
      ]
    },
    {
      "cell_type": "code",
      "source": [
        "def salvar_csvs_no_diretorio(tipo_bbb, tipo_pesquisa, dataframe):\n",
        "  \n",
        "  dir_csvs = f'/content/drive/MyDrive/01.Instagram profissional/NLP/Sentiment Analysis/BBB22/Twitter/DataFrames'\n",
        "  data_extracao = d1.replace('/', '')\n",
        "  tipo_bbb = 'Camarote'\n",
        "  tipo_pesquisa = 'Popular'\n",
        "  file_variable = dir_csvs + \"/\" + tipo_bbb  + \"/\" + tipo_pesquisa + \"/\" + data_extracao\n",
        "  file_name = tipo_bbb[0:3] + \"_\" + tipo_pesquisa[0:3] + \"_\" + data_extracao + '.csv'\n",
        "  file_path = file_variable + \"/\" + file_name\n",
        "\n",
        "  if not os.path.exists(file_variable):\n",
        "    os.makedirs(file_variable)\n",
        "    dataframe.to_csv(file_path, index=False)\n",
        "\n",
        "  else:\n",
        "    with open(file_path, 'a') as f_object:\n",
        "      # Pass this file object to csv.writer()\n",
        "      # and get a writer object\n",
        "      writer_object = writer(f_object, delimiter=',')\n",
        "\n",
        "      linhas = []\n",
        "      \n",
        "      for row in range(0, len(dataframe)):\n",
        "        linhas.append([row for row in dataframe.iloc[row]])\n",
        "        # Pass the list as an argument into\n",
        "        # the writerow()\n",
        "        writer_object.writerow(linhas[row])\n",
        "    \n",
        "        #Close the file object\n",
        "      f_object.close()"
      ],
      "metadata": {
        "id": "1QY_M_Saxfjl"
      },
      "execution_count": 182,
      "outputs": []
    },
    {
      "cell_type": "code",
      "source": [
        "tweets, tipo = pesquisas_de_tweets().pesquisar_por_termo(query=('Naiara OR BBB22'),\n",
        "                                                         result_type='popular')\n",
        "a, b = criar_dicionario_pesquisas(tweets, tipo)\n",
        "c = criar_dataframe(a)"
      ],
      "metadata": {
        "id": "HN5aOjOQDVav"
      },
      "execution_count": 183,
      "outputs": []
    },
    {
      "cell_type": "code",
      "source": [
        "salvar_csvs_no_diretorio(tipo_bbb='Camarote', tipo_pesquisa='Popular', dataframe=c)"
      ],
      "metadata": {
        "id": "vw5JEx2meiCp"
      },
      "execution_count": 188,
      "outputs": []
    },
    {
      "cell_type": "code",
      "source": [
        "pip install emoji"
      ],
      "metadata": {
        "colab": {
          "base_uri": "https://localhost:8080/"
        },
        "id": "9DV_e0ztqQxk",
        "outputId": "2ab056b2-4202-4bf7-bbab-a81bde00faf2"
      },
      "execution_count": 189,
      "outputs": [
        {
          "output_type": "stream",
          "name": "stdout",
          "text": [
            "Collecting emoji\n",
            "  Downloading emoji-1.6.3.tar.gz (174 kB)\n",
            "\u001b[?25l\r\u001b[K     |█▉                              | 10 kB 34.2 MB/s eta 0:00:01\r\u001b[K     |███▊                            | 20 kB 25.1 MB/s eta 0:00:01\r\u001b[K     |█████▋                          | 30 kB 12.0 MB/s eta 0:00:01\r\u001b[K     |███████▌                        | 40 kB 9.9 MB/s eta 0:00:01\r\u001b[K     |█████████▍                      | 51 kB 7.0 MB/s eta 0:00:01\r\u001b[K     |███████████▎                    | 61 kB 7.5 MB/s eta 0:00:01\r\u001b[K     |█████████████▏                  | 71 kB 6.9 MB/s eta 0:00:01\r\u001b[K     |███████████████                 | 81 kB 7.7 MB/s eta 0:00:01\r\u001b[K     |█████████████████               | 92 kB 6.0 MB/s eta 0:00:01\r\u001b[K     |██████████████████▉             | 102 kB 6.6 MB/s eta 0:00:01\r\u001b[K     |████████████████████▊           | 112 kB 6.6 MB/s eta 0:00:01\r\u001b[K     |██████████████████████▋         | 122 kB 6.6 MB/s eta 0:00:01\r\u001b[K     |████████████████████████▌       | 133 kB 6.6 MB/s eta 0:00:01\r\u001b[K     |██████████████████████████▍     | 143 kB 6.6 MB/s eta 0:00:01\r\u001b[K     |████████████████████████████▏   | 153 kB 6.6 MB/s eta 0:00:01\r\u001b[K     |██████████████████████████████  | 163 kB 6.6 MB/s eta 0:00:01\r\u001b[K     |████████████████████████████████| 174 kB 6.6 MB/s eta 0:00:01\r\u001b[K     |████████████████████████████████| 174 kB 6.6 MB/s \n",
            "\u001b[?25hBuilding wheels for collected packages: emoji\n",
            "  Building wheel for emoji (setup.py) ... \u001b[?25l\u001b[?25hdone\n",
            "  Created wheel for emoji: filename=emoji-1.6.3-py3-none-any.whl size=170298 sha256=48f47a5c91f4714883f4cf9d5abe266c95e419eb8883edfd2bd813dba620c918\n",
            "  Stored in directory: /root/.cache/pip/wheels/03/8b/d7/ad579fbef83c287215c0caab60fb0ae0f30c4d7ce5f580eade\n",
            "Successfully built emoji\n",
            "Installing collected packages: emoji\n",
            "Successfully installed emoji-1.6.3\n"
          ]
        }
      ]
    },
    {
      "cell_type": "code",
      "source": [
        "termos_de_pesquisa_BBB = ('BBB OR BBB22 OR BIG BROTHER BRASIL OR BIG BROTHER BRASIL 2022 OR OR #REDEBBB OR BIGBROTHER OR #BIGBROTHER OR #BBB OR #BBB22')\n",
        "\n",
        "termos_de_pesquisa_participantes = {'Arthur': ['Arthur', 'Artur', 'Aguiar', 'Arthur Aguiar'],\n",
        "                                    'Naiara Azevedo': ['Naiara', 'Azevedo'],\n",
        "                                    'Pedro Scooby': ['Pedro', 'Scooby'],\n",
        "                                    'Bruna Gonçalves': ['Bruna', 'Gonçalves', ''],\n",
        "                                    'Paulo André': ['Paulo', 'André', ''],\n",
        "                                    'Maria': ['Maria'],\n",
        "                                    'Jade Picon': ['Jade', 'Picon', '1f32a\\ufe0f', 'furacão', '#TeamJade', 'Picão', 'KdJade', 'Picões', 'Furacao'],\n",
        "                                    'Douglas Silva': ['Douglas', 'Silva', '1f3b2', 'dado', 'dadinho',\n",
        "                                    '#TeamDouglasSilva', '1f44a\\U0001f3ff'],\n",
        "                                    'Linn da Quebrada': ['Linn', 'Quebrada', '1f9dc\\u200d\\u2640\\ufe0f', '1f9dc\\U0001f3ff\\u200d\\u2640\\ufe0f',\n",
        "                                    '1f9dc\\U0001f3fb\\u200d\\u2640\\ufe0f', '1f9dc\\U0001f3fe\\u200d\\u2640\\ufe0f', '1f9dc\\U0001f3fc\\u200d\\u2640\\ufe0f',\n",
        "                                    '1f9dc\\U0001f3fd\\u200d\\u2640\\ufe0f', '1f9dc', '1f9dc\\U0001f3ff', '1f9dc\\U0001f3fb', '1f9dc\\U0001f3fe',\n",
        "                                    '1f9dc\\U0001f3fc', '1f9dc\\U0001f3fd', '#TeamLinn', '#linndonas', '#LinnDonas'],\n",
        "                                    'Tiago Abravanel': ['Tiago', 'Abravanel', '1f43b', '#TeamAbrava', '#TeamAbravanel', '1f9f8'],\n",
        "                                    'Laís Caldas': ['Laís', 'Caldas', '1f462', '#TeamLais', '#TeamLaís', 'Time Lais', '1f49a'],\n",
        "                                    'Luciano Estevan': ['Luciano', 'Estevan', '1f981', '#TeamLucianoEstevan', 'Lu', '1f346'],\n",
        "                                    'Jessilane': ['Jessilane', '1f9ec', 'Jessi', '#TeamJessi', '#TimeJessi', '1f49c', 'Charmanders', ''],\n",
        "                                    'Eliezer': ['Eliezer'],\n",
        "                                    'Eslovênia Marques': ['Eslovênia', 'Eslováquia', 'Marques', 'Eslô', '1f1f8\\U0001f1ee',\n",
        "                                                          'Time Eslo', 'Team Eslo', '#TimeEslô', '#TeamEslô',\n",
        "                                                          'Eslovenia'],\n",
        "                                    'Bábara Heck': ['Bárbara', 'Heck', '1f980', '#TeamBá', 'TeamBá', 'TimeBá',\n",
        "                                                    'TimeBa', 'TeamBa', 'TeamBah', 'BBBah', 'Bá', 'Ba', '1f9a6'],\n",
        "                                    'Rodrigo Mussi': ['Rodrigo Mussi', 'Mussi', 'Rodrigo', 'TEAM MUSSI', '#TeamMussi',\n",
        "                                                      '#TimeMussi', '1f977\\U0001f3ff', '1f977', '1f977\\U0001f3fb',\n",
        "                                                      '1f977\\U0001f3fe', '1f977\\U0001f3fc', '1f977\\U0001f3fd', 'ninja', 'ninjas',\n",
        "                                                      'TEAM NINJA', ''],\n",
        "                                    'Natália Deodato': ['Natália', 'Deodato', '#TeamNaty', '#TimeNaty', 'Naty', 'vitilindos',\n",
        "                                                        '1f483', '1f483\\U0001f3ff', '1f483\\U0001f3fb',\n",
        "                                                        '1f483\\U0001f3fe', '1f483\\U0001f3fc',\n",
        "                                                        '1f483\\U0001f3fd'],\n",
        "                                    'Vinicius': ['Vinicius', 'TeamVyni', '#TimeVyni', '#TeamVyni', '1f4a1'],\n",
        "                                    'Lucas Bissoli': ['Lucas', 'Bissoli', '#TimeBissoli', '#TeamBissoli', \n",
        "                                                      '1f3c4\\u200d\\u2642\\ufe0f', '1f3c4\\U0001f3ff\\u200d\\u2642\\ufe0f', \n",
        "                                                      '1f3c4\\U0001f3fb\\u200d\\u2642\\ufe0f', '1f3c4\\U0001f3fe\\u200d\\u2642\\ufe0f',\n",
        "                                                      '1f3c4\\U0001f3fc\\u200d\\u2642\\ufe0f', '1f3c4\\U0001f3fd\\u200d\\u2642\\ufe0f',\n",
        "                                                      '1f3c4', '1f3c4\\U0001f3ff', '1f3c4\\U0001f3fb', '1f3c4\\U0001f3fe',\n",
        "                                                      '1f3c4\\U0001f3fc', '1f3c4\\U0001f3fd', '1f3c4\\u200d\\u2640\\ufe0f',\n",
        "                                                      '1f3c4\\U0001f3ff\\u200d\\u2640\\ufe0f', '1f3c4\\U0001f3fb\\u200d\\u2640\\ufe0f',\n",
        "                                                      '1f3c4\\U0001f3fe\\u200d\\u2640\\ufe0f', '1f3c4\\U0001f3fc\\u200d\\u2640\\ufe0f',\n",
        "                                                      '1f3c4\\U0001f3fd\\u200d\\u2640\\ufe0f']}\n",
        "                                    #teamlinn #emojis #timebissoli\n",
        "\n",
        "dicionario_participantes = {'@Aguiararthur': 'Arthur Aguiar', \n",
        "                            '@Naiarazevedo': 'Naiara Azevedo',\n",
        "                            '@pedroscooby_': 'Pedro Scooby',\n",
        "                            '@brunnagoncalves': 'Bruna Gonçalves',\n",
        "                            '@iampauloandre': 'Paulo André',\n",
        "                            '@eumaria': 'Maria',\n",
        "                            '@jadepicon': 'Jade Picon',\n",
        "                            '@Silva_DG': 'Douglas Silva',\n",
        "                            '@linndaquebrada': 'Linn da Quebrada',\n",
        "                            '@TiagoAbravanel': 'Tiago Abravanel',\n",
        "                            '@Dra_laiscaldass': 'Laís Caldas',\n",
        "                            '@LucianoEstevan': 'Luciano Estevan',\n",
        "                            '@a_jessilane': 'Jessilane',\n",
        "                            '@Eliezerbbb22': 'Eliezer',\n",
        "                            '@eslomarques': 'Eslovênia Maques',\n",
        "                            '@bbaheck': 'Bábara Heck',\n",
        "                            '@oficialmussi': 'Rodrigo Mussi',\n",
        "                            '@oficial_deodato': 'Natália Deodato',\n",
        "                            '@vyniof': 'Vinicius',\n",
        "                            '@LucasBissoli_': 'Lucas Bissoli'}\n",
        "\n",
        "participantes_camarote = ['@Aguiarthur', '@Naiarazevedo', '@pedroscooby_', '@brunnagoncalves', \n",
        "                          '@iampauloandre', '@eumaria', '@jadepicon', '@Silva_DG', '@linndaquebrada', '@TiagoAbravanel']\n",
        "\n",
        "participantes_pipoca = ['@Dra_laiscaldass', '@LucianoEstevan', '@a_jessilane', '@Eliezerbbb22', '@eslomarques', \n",
        "                        '@bbaheck', '@oficialmussi', '@oficial_deodato', '@vyniof', '@LucasBissoli_']"
      ],
      "metadata": {
        "id": "SbQrOBweyleK"
      },
      "execution_count": 191,
      "outputs": []
    },
    {
      "cell_type": "code",
      "source": [
        "entrada_e_saida = {'Participante': 'a',\n",
        "                   'Entrada': data,\n",
        "                   'Eliminacao': data}"
      ],
      "metadata": {
        "id": "aGHwE1uny0Os"
      },
      "execution_count": null,
      "outputs": []
    },
    {
      "cell_type": "code",
      "source": [
        "infos_part_pipoca = {}\n",
        "\n",
        "for part in participantes_pipoca:\n",
        "  \n",
        "  infos_part = api.user_timeline(screen_name=part,\n",
        "                            result_type='recent',\n",
        "                            count=100)\n",
        "  \n",
        "  for each_json_tweet in infos_part:\n",
        "    \n",
        "    _ = json.dumps(each_json_tweet._json)\n",
        "      \n",
        "    if d1 not in infos_part_pipoca.keys():\n",
        "      tweet = {d1: [json.loads(_)]}\n",
        "      infos_part_pipoca.update(tweet)\n",
        "    \n",
        "    else:\n",
        "        infos_part_pipoca[d1].append(json.loads(_))"
      ],
      "metadata": {
        "id": "_ZkWb14H6UlJ"
      },
      "execution_count": 140,
      "outputs": []
    },
    {
      "cell_type": "code",
      "source": [
        "pipocas_list = []\n",
        "\n",
        "for i in range(0, len(infos_part_pipoca[d1])):\n",
        "\n",
        "      tweet_id = infos_part_pipoca[d1][i]['id']\n",
        "      text = infos_part_pipoca[d1][i]['text']\n",
        "      favorite_count = infos_part_pipoca[d1][i]['favorite_count']\n",
        "      retweet_count = infos_part_pipoca[d1][i]['retweet_count']\n",
        "      created_at = infos_part_pipoca[d1][i]['created_at']\n",
        "      location = infos_part_pipoca[d1][i]['user']['location']\n",
        "      followers_count = infos_part_pipoca[d1][i]['user']['followers_count']\n",
        "      friends_count = infos_part_pipoca[d1][i]['user']['friends_count']\n",
        "      verified = infos_part_pipoca[d1][i]['user']['verified']\n",
        "      hashtags = infos_part_pipoca[d1][i]['entities']['hashtags']\n",
        "      user_mentions = infos_part_pipoca[d1][i]['entities']['user_mentions']\n",
        "      name = infos_part_pipoca[d1][i]['user']['name']\n",
        "      screen_name = infos_part_pipoca[d1][i]['user']['screen_name']\n",
        "\n",
        "      pipocas_list.append({'tweet_id': str(tweet_id),\n",
        "                            'text': str(text),\n",
        "                            'favorite_count': int(favorite_count),\n",
        "                            'retweet_count': int(retweet_count),\n",
        "                            'created_at': created_at,\n",
        "                            'location': location,\n",
        "                            'followers_count': followers_count,\n",
        "                            'friends_count': friends_count,\n",
        "                            'verified': verified,\n",
        "                            'retweet_count': retweet_count,\n",
        "                            'favorite_count': favorite_count,\n",
        "                            'hashtags': hashtags,\n",
        "                            'user_mentions': user_mentions,\n",
        "                            'name': name,\n",
        "                            'screen_name': screen_name,\n",
        "                            })\n",
        "      \n",
        "      pipocas_part = pd.DataFrame(pipocas_list, columns = \n",
        "                                ['tweet_id', 'text', \n",
        "                                  'favorite_count', 'retweet_count', \n",
        "                                  'created_at', 'location',\n",
        "                                  'followers_count', 'friends_count',\n",
        "                                  'verified', 'hashtags',\n",
        "                                  'user_mentions', 'name',\n",
        "                                  'screen_name'])\n",
        "\n",
        "#pipocas_part.to_csv('/content/drive/MyDrive/01.Instagram profissional/NLP/Sentiment Analysis/BBB22/Twitter/DataFrames/pipocas_17012022')"
      ],
      "metadata": {
        "id": "DJc-617s-wIX"
      },
      "execution_count": 141,
      "outputs": []
    },
    {
      "cell_type": "code",
      "source": [
        "infos_part_camarote = {}\n",
        "\n",
        "for part in participantes_camarote:\n",
        "\n",
        "  infos_part = api.user_timeline(screen_name=part,\n",
        "                              result_type='recent',\n",
        "                              count=100)\n",
        "\n",
        "  for each_json_tweet in infos_part:\n",
        "    \n",
        "    _ = json.dumps(each_json_tweet._json)\n",
        "      \n",
        "    if d1 not in infos_part_camarote.keys():\n",
        "      tweet = {d1: [json.loads(_)]}\n",
        "      infos_part_camarote.update(tweet)\n",
        "    \n",
        "    else:\n",
        "        infos_part_camarote[d1].append(json.loads(_))"
      ],
      "metadata": {
        "id": "EFYWnX2k79DI"
      },
      "execution_count": null,
      "outputs": []
    },
    {
      "cell_type": "code",
      "source": [
        "camarotes_list = []\n",
        "\n",
        "for i in range(0, len(infos_part_camarote[d1])):\n",
        "\n",
        "      tweet_id = infos_part_camarote[d1][i]['id']\n",
        "      text = infos_part_camarote[d1][i]['text']\n",
        "      favorite_count = infos_part_camarote[d1][i]['favorite_count']\n",
        "      retweet_count = infos_part_camarote[d1][i]['retweet_count']\n",
        "      created_at = infos_part_camarote[d1][i]['created_at']\n",
        "      location = infos_part_camarote[d1][i]['user']['location']\n",
        "      followers_count = infos_part_camarote[d1][i]['user']['followers_count']\n",
        "      friends_count = infos_part_camarote[d1][i]['user']['friends_count']\n",
        "      verified = infos_part_camarote[d1][i]['user']['verified']\n",
        "      hashtags = infos_part_camarote[d1][i]['entities']['hashtags']\n",
        "      user_mentions = infos_part_camarote[d1][i]['entities']['user_mentions']\n",
        "      name = infos_part_camarote[d1][i]['user']['name']\n",
        "      screen_name = infos_part_camarote[d1][i]['user']['screen_name']\n",
        "\n",
        "      camarotes_list.append({'tweet_id': str(tweet_id),\n",
        "                            'text': str(text),\n",
        "                            'favorite_count': int(favorite_count),\n",
        "                            'retweet_count': int(retweet_count),\n",
        "                            'created_at': created_at,\n",
        "                            'location': location,\n",
        "                            'followers_count': followers_count,\n",
        "                            'friends_count': friends_count,\n",
        "                            'verified': verified,\n",
        "                            'retweet_count': retweet_count,\n",
        "                            'favorite_count': favorite_count,\n",
        "                            'hashtags': hashtags,\n",
        "                            'user_mentions': user_mentions,\n",
        "                            'name': name,\n",
        "                            'screen_name': screen_name,\n",
        "                            })\n",
        "      \n",
        "      camarotes_part = pd.DataFrame(camarotes_list, columns = \n",
        "                                ['tweet_id', 'text', \n",
        "                                  'favorite_count', 'retweet_count', \n",
        "                                  'created_at', 'location',\n",
        "                                  'followers_count', 'friends_count',\n",
        "                                  'verified', 'hashtags',\n",
        "                                  'user_mentions', 'name',\n",
        "                                  'screen_name'])\n",
        "\n",
        "camarotes_part.to_csv('/content/drive/MyDrive/01.Instagram profissional/NLP/Sentiment Analysis/BBB22/Twitter/DataFrames/camarote_17012022')"
      ],
      "metadata": {
        "id": "LZ7hbEc082hA"
      },
      "execution_count": null,
      "outputs": []
    },
    {
      "cell_type": "code",
      "source": [
        "pipocas_part['screen_name'].unique(), camarotes_part['screen_name'].unique()"
      ],
      "metadata": {
        "colab": {
          "base_uri": "https://localhost:8080/"
        },
        "id": "H6upknrM_6wN",
        "outputId": "24ab5237-b17b-4352-9bde-2371a8d427fa"
      },
      "execution_count": null,
      "outputs": [
        {
          "output_type": "execute_result",
          "data": {
            "text/plain": [
              "(array(['Dra_laiscaldass', 'LucianoEstevan', 'a_jessilane', 'Eliezerbbb22',\n",
              "        'eslomarques', 'bbaheck', 'oficialmussi', 'oficial_deodato',\n",
              "        'vyniof', 'LucasBissoli_'], dtype=object),\n",
              " array(['Aguiarthur', 'Naiarazevedo', 'pedroscooby_', 'brunnagoncalves',\n",
              "        'iampauloandre', 'eumaria', 'jadepicon', 'Silva_DG',\n",
              "        'linndaquebrada', 'TiagoAbravanel'], dtype=object))"
            ]
          },
          "metadata": {},
          "execution_count": 110
        }
      ]
    },
    {
      "cell_type": "code",
      "source": [
        "pipocas_part.iloc[pipocas_part['screen_name'] == ''0"
      ],
      "metadata": {
        "colab": {
          "base_uri": "https://localhost:8080/",
          "height": 232
        },
        "id": "4goGrt71_NY1",
        "outputId": "2f96ccc7-d5c7-4f8e-9b81-c45fb2faafc6"
      },
      "execution_count": null,
      "outputs": [
        {
          "output_type": "execute_result",
          "data": {
            "text/html": [
              "\n",
              "  <div id=\"df-85a69380-8bfd-4810-8e05-b3212bdc9c18\">\n",
              "    <div class=\"colab-df-container\">\n",
              "      <div>\n",
              "<style scoped>\n",
              "    .dataframe tbody tr th:only-of-type {\n",
              "        vertical-align: middle;\n",
              "    }\n",
              "\n",
              "    .dataframe tbody tr th {\n",
              "        vertical-align: top;\n",
              "    }\n",
              "\n",
              "    .dataframe thead th {\n",
              "        text-align: right;\n",
              "    }\n",
              "</style>\n",
              "<table border=\"1\" class=\"dataframe\">\n",
              "  <thead>\n",
              "    <tr style=\"text-align: right;\">\n",
              "      <th></th>\n",
              "      <th>tweet_id</th>\n",
              "      <th>text</th>\n",
              "      <th>favorite_count</th>\n",
              "      <th>retweet_count</th>\n",
              "      <th>created_at</th>\n",
              "      <th>location</th>\n",
              "      <th>followers_count</th>\n",
              "      <th>friends_count</th>\n",
              "      <th>verified</th>\n",
              "      <th>hashtags</th>\n",
              "      <th>user_mentions</th>\n",
              "      <th>name</th>\n",
              "      <th>screen_name</th>\n",
              "    </tr>\n",
              "  </thead>\n",
              "  <tbody>\n",
              "    <tr>\n",
              "      <th>0</th>\n",
              "      <td>1482817681963339777</td>\n",
              "      <td>🚨 Pela primeira vez, o Globoplay irá transmiti...</td>\n",
              "      <td>28670</td>\n",
              "      <td>831</td>\n",
              "      <td>Sun Jan 16 20:50:59 +0000 2022</td>\n",
              "      <td>Brasil</td>\n",
              "      <td>701265</td>\n",
              "      <td>740</td>\n",
              "      <td>True</td>\n",
              "      <td>[{'text': 'BBB22', 'indices': [110, 116]}]</td>\n",
              "      <td>[]</td>\n",
              "      <td>Tracklist #BBB22</td>\n",
              "      <td>tracklist</td>\n",
              "    </tr>\n",
              "  </tbody>\n",
              "</table>\n",
              "</div>\n",
              "      <button class=\"colab-df-convert\" onclick=\"convertToInteractive('df-85a69380-8bfd-4810-8e05-b3212bdc9c18')\"\n",
              "              title=\"Convert this dataframe to an interactive table.\"\n",
              "              style=\"display:none;\">\n",
              "        \n",
              "  <svg xmlns=\"http://www.w3.org/2000/svg\" height=\"24px\"viewBox=\"0 0 24 24\"\n",
              "       width=\"24px\">\n",
              "    <path d=\"M0 0h24v24H0V0z\" fill=\"none\"/>\n",
              "    <path d=\"M18.56 5.44l.94 2.06.94-2.06 2.06-.94-2.06-.94-.94-2.06-.94 2.06-2.06.94zm-11 1L8.5 8.5l.94-2.06 2.06-.94-2.06-.94L8.5 2.5l-.94 2.06-2.06.94zm10 10l.94 2.06.94-2.06 2.06-.94-2.06-.94-.94-2.06-.94 2.06-2.06.94z\"/><path d=\"M17.41 7.96l-1.37-1.37c-.4-.4-.92-.59-1.43-.59-.52 0-1.04.2-1.43.59L10.3 9.45l-7.72 7.72c-.78.78-.78 2.05 0 2.83L4 21.41c.39.39.9.59 1.41.59.51 0 1.02-.2 1.41-.59l7.78-7.78 2.81-2.81c.8-.78.8-2.07 0-2.86zM5.41 20L4 18.59l7.72-7.72 1.47 1.35L5.41 20z\"/>\n",
              "  </svg>\n",
              "      </button>\n",
              "      \n",
              "  <style>\n",
              "    .colab-df-container {\n",
              "      display:flex;\n",
              "      flex-wrap:wrap;\n",
              "      gap: 12px;\n",
              "    }\n",
              "\n",
              "    .colab-df-convert {\n",
              "      background-color: #E8F0FE;\n",
              "      border: none;\n",
              "      border-radius: 50%;\n",
              "      cursor: pointer;\n",
              "      display: none;\n",
              "      fill: #1967D2;\n",
              "      height: 32px;\n",
              "      padding: 0 0 0 0;\n",
              "      width: 32px;\n",
              "    }\n",
              "\n",
              "    .colab-df-convert:hover {\n",
              "      background-color: #E2EBFA;\n",
              "      box-shadow: 0px 1px 2px rgba(60, 64, 67, 0.3), 0px 1px 3px 1px rgba(60, 64, 67, 0.15);\n",
              "      fill: #174EA6;\n",
              "    }\n",
              "\n",
              "    [theme=dark] .colab-df-convert {\n",
              "      background-color: #3B4455;\n",
              "      fill: #D2E3FC;\n",
              "    }\n",
              "\n",
              "    [theme=dark] .colab-df-convert:hover {\n",
              "      background-color: #434B5C;\n",
              "      box-shadow: 0px 1px 3px 1px rgba(0, 0, 0, 0.15);\n",
              "      filter: drop-shadow(0px 1px 2px rgba(0, 0, 0, 0.3));\n",
              "      fill: #FFFFFF;\n",
              "    }\n",
              "  </style>\n",
              "\n",
              "      <script>\n",
              "        const buttonEl =\n",
              "          document.querySelector('#df-85a69380-8bfd-4810-8e05-b3212bdc9c18 button.colab-df-convert');\n",
              "        buttonEl.style.display =\n",
              "          google.colab.kernel.accessAllowed ? 'block' : 'none';\n",
              "\n",
              "        async function convertToInteractive(key) {\n",
              "          const element = document.querySelector('#df-85a69380-8bfd-4810-8e05-b3212bdc9c18');\n",
              "          const dataTable =\n",
              "            await google.colab.kernel.invokeFunction('convertToInteractive',\n",
              "                                                     [key], {});\n",
              "          if (!dataTable) return;\n",
              "\n",
              "          const docLinkHtml = 'Like what you see? Visit the ' +\n",
              "            '<a target=\"_blank\" href=https://colab.research.google.com/notebooks/data_table.ipynb>data table notebook</a>'\n",
              "            + ' to learn more about interactive tables.';\n",
              "          element.innerHTML = '';\n",
              "          dataTable['output_type'] = 'display_data';\n",
              "          await google.colab.output.renderOutput(dataTable, element);\n",
              "          const docLink = document.createElement('div');\n",
              "          docLink.innerHTML = docLinkHtml;\n",
              "          element.appendChild(docLink);\n",
              "        }\n",
              "      </script>\n",
              "    </div>\n",
              "  </div>\n",
              "  "
            ],
            "text/plain": [
              "              tweet_id  ... screen_name\n",
              "0  1482817681963339777  ...   tracklist\n",
              "\n",
              "[1 rows x 13 columns]"
            ]
          },
          "metadata": {},
          "execution_count": 84
        }
      ]
    },
    {
      "cell_type": "code",
      "source": [
        "weet_json_recents.tweet_id.dtypes, tweet_json_popular.tweet_id.dtypes"
      ],
      "metadata": {
        "colab": {
          "base_uri": "https://localhost:8080/"
        },
        "id": "MFnf8r-nZqFS",
        "outputId": "2efda790-20dc-4a8c-941b-a0fd9ee76067"
      },
      "execution_count": null,
      "outputs": [
        {
          "output_type": "execute_result",
          "data": {
            "text/plain": [
              "(dtype('O'), dtype('O'))"
            ]
          },
          "metadata": {},
          "execution_count": 152
        }
      ]
    },
    {
      "cell_type": "code",
      "source": [
        "tweet_json_recents.join(tweet_json_popular, on='tweet_id')"
      ],
      "metadata": {
        "colab": {
          "base_uri": "https://localhost:8080/",
          "height": 311
        },
        "id": "M_GiRJGrdvpV",
        "outputId": "d2c14cbf-eac1-4a29-ae11-6299e312f1d7"
      },
      "execution_count": null,
      "outputs": [
        {
          "output_type": "error",
          "ename": "ValueError",
          "evalue": "ignored",
          "traceback": [
            "\u001b[0;31m---------------------------------------------------------------------------\u001b[0m",
            "\u001b[0;31mValueError\u001b[0m                                Traceback (most recent call last)",
            "\u001b[0;32m<ipython-input-149-82e2a9b65252>\u001b[0m in \u001b[0;36m<module>\u001b[0;34m()\u001b[0m\n\u001b[0;32m----> 1\u001b[0;31m \u001b[0mtweet_json_recents\u001b[0m\u001b[0;34m.\u001b[0m\u001b[0mjoin\u001b[0m\u001b[0;34m(\u001b[0m\u001b[0mtweet_json_popular\u001b[0m\u001b[0;34m,\u001b[0m \u001b[0mon\u001b[0m\u001b[0;34m=\u001b[0m\u001b[0;34m'tweet_id'\u001b[0m\u001b[0;34m)\u001b[0m\u001b[0;34m\u001b[0m\u001b[0;34m\u001b[0m\u001b[0m\n\u001b[0m",
            "\u001b[0;32m/usr/local/lib/python3.7/dist-packages/pandas/core/frame.py\u001b[0m in \u001b[0;36mjoin\u001b[0;34m(self, other, on, how, lsuffix, rsuffix, sort)\u001b[0m\n\u001b[1;32m   7873\u001b[0m         \"\"\"\n\u001b[1;32m   7874\u001b[0m         return self._join_compat(\n\u001b[0;32m-> 7875\u001b[0;31m             \u001b[0mother\u001b[0m\u001b[0;34m,\u001b[0m \u001b[0mon\u001b[0m\u001b[0;34m=\u001b[0m\u001b[0mon\u001b[0m\u001b[0;34m,\u001b[0m \u001b[0mhow\u001b[0m\u001b[0;34m=\u001b[0m\u001b[0mhow\u001b[0m\u001b[0;34m,\u001b[0m \u001b[0mlsuffix\u001b[0m\u001b[0;34m=\u001b[0m\u001b[0mlsuffix\u001b[0m\u001b[0;34m,\u001b[0m \u001b[0mrsuffix\u001b[0m\u001b[0;34m=\u001b[0m\u001b[0mrsuffix\u001b[0m\u001b[0;34m,\u001b[0m \u001b[0msort\u001b[0m\u001b[0;34m=\u001b[0m\u001b[0msort\u001b[0m\u001b[0;34m\u001b[0m\u001b[0;34m\u001b[0m\u001b[0m\n\u001b[0m\u001b[1;32m   7876\u001b[0m         )\n\u001b[1;32m   7877\u001b[0m \u001b[0;34m\u001b[0m\u001b[0m\n",
            "\u001b[0;32m/usr/local/lib/python3.7/dist-packages/pandas/core/frame.py\u001b[0m in \u001b[0;36m_join_compat\u001b[0;34m(self, other, on, how, lsuffix, rsuffix, sort)\u001b[0m\n\u001b[1;32m   7896\u001b[0m                 \u001b[0mright_index\u001b[0m\u001b[0;34m=\u001b[0m\u001b[0;32mTrue\u001b[0m\u001b[0;34m,\u001b[0m\u001b[0;34m\u001b[0m\u001b[0;34m\u001b[0m\u001b[0m\n\u001b[1;32m   7897\u001b[0m                 \u001b[0msuffixes\u001b[0m\u001b[0;34m=\u001b[0m\u001b[0;34m(\u001b[0m\u001b[0mlsuffix\u001b[0m\u001b[0;34m,\u001b[0m \u001b[0mrsuffix\u001b[0m\u001b[0;34m)\u001b[0m\u001b[0;34m,\u001b[0m\u001b[0;34m\u001b[0m\u001b[0;34m\u001b[0m\u001b[0m\n\u001b[0;32m-> 7898\u001b[0;31m                 \u001b[0msort\u001b[0m\u001b[0;34m=\u001b[0m\u001b[0msort\u001b[0m\u001b[0;34m,\u001b[0m\u001b[0;34m\u001b[0m\u001b[0;34m\u001b[0m\u001b[0m\n\u001b[0m\u001b[1;32m   7899\u001b[0m             )\n\u001b[1;32m   7900\u001b[0m         \u001b[0;32melse\u001b[0m\u001b[0;34m:\u001b[0m\u001b[0;34m\u001b[0m\u001b[0;34m\u001b[0m\u001b[0m\n",
            "\u001b[0;32m/usr/local/lib/python3.7/dist-packages/pandas/core/reshape/merge.py\u001b[0m in \u001b[0;36mmerge\u001b[0;34m(left, right, how, on, left_on, right_on, left_index, right_index, sort, suffixes, copy, indicator, validate)\u001b[0m\n\u001b[1;32m     85\u001b[0m         \u001b[0mcopy\u001b[0m\u001b[0;34m=\u001b[0m\u001b[0mcopy\u001b[0m\u001b[0;34m,\u001b[0m\u001b[0;34m\u001b[0m\u001b[0;34m\u001b[0m\u001b[0m\n\u001b[1;32m     86\u001b[0m         \u001b[0mindicator\u001b[0m\u001b[0;34m=\u001b[0m\u001b[0mindicator\u001b[0m\u001b[0;34m,\u001b[0m\u001b[0;34m\u001b[0m\u001b[0;34m\u001b[0m\u001b[0m\n\u001b[0;32m---> 87\u001b[0;31m         \u001b[0mvalidate\u001b[0m\u001b[0;34m=\u001b[0m\u001b[0mvalidate\u001b[0m\u001b[0;34m,\u001b[0m\u001b[0;34m\u001b[0m\u001b[0;34m\u001b[0m\u001b[0m\n\u001b[0m\u001b[1;32m     88\u001b[0m     )\n\u001b[1;32m     89\u001b[0m     \u001b[0;32mreturn\u001b[0m \u001b[0mop\u001b[0m\u001b[0;34m.\u001b[0m\u001b[0mget_result\u001b[0m\u001b[0;34m(\u001b[0m\u001b[0;34m)\u001b[0m\u001b[0;34m\u001b[0m\u001b[0;34m\u001b[0m\u001b[0m\n",
            "\u001b[0;32m/usr/local/lib/python3.7/dist-packages/pandas/core/reshape/merge.py\u001b[0m in \u001b[0;36m__init__\u001b[0;34m(self, left, right, how, on, left_on, right_on, axis, left_index, right_index, sort, suffixes, copy, indicator, validate)\u001b[0m\n\u001b[1;32m    654\u001b[0m         \u001b[0;31m# validate the merge keys dtypes. We may need to coerce\u001b[0m\u001b[0;34m\u001b[0m\u001b[0;34m\u001b[0m\u001b[0;34m\u001b[0m\u001b[0m\n\u001b[1;32m    655\u001b[0m         \u001b[0;31m# to avoid incompatible dtypes\u001b[0m\u001b[0;34m\u001b[0m\u001b[0;34m\u001b[0m\u001b[0;34m\u001b[0m\u001b[0m\n\u001b[0;32m--> 656\u001b[0;31m         \u001b[0mself\u001b[0m\u001b[0;34m.\u001b[0m\u001b[0m_maybe_coerce_merge_keys\u001b[0m\u001b[0;34m(\u001b[0m\u001b[0;34m)\u001b[0m\u001b[0;34m\u001b[0m\u001b[0;34m\u001b[0m\u001b[0m\n\u001b[0m\u001b[1;32m    657\u001b[0m \u001b[0;34m\u001b[0m\u001b[0m\n\u001b[1;32m    658\u001b[0m         \u001b[0;31m# If argument passed to validate,\u001b[0m\u001b[0;34m\u001b[0m\u001b[0;34m\u001b[0m\u001b[0;34m\u001b[0m\u001b[0m\n",
            "\u001b[0;32m/usr/local/lib/python3.7/dist-packages/pandas/core/reshape/merge.py\u001b[0m in \u001b[0;36m_maybe_coerce_merge_keys\u001b[0;34m(self)\u001b[0m\n\u001b[1;32m   1163\u001b[0m                     \u001b[0minferred_right\u001b[0m \u001b[0;32min\u001b[0m \u001b[0mstring_types\u001b[0m \u001b[0;32mand\u001b[0m \u001b[0minferred_left\u001b[0m \u001b[0;32mnot\u001b[0m \u001b[0;32min\u001b[0m \u001b[0mstring_types\u001b[0m\u001b[0;34m\u001b[0m\u001b[0;34m\u001b[0m\u001b[0m\n\u001b[1;32m   1164\u001b[0m                 ):\n\u001b[0;32m-> 1165\u001b[0;31m                     \u001b[0;32mraise\u001b[0m \u001b[0mValueError\u001b[0m\u001b[0;34m(\u001b[0m\u001b[0mmsg\u001b[0m\u001b[0;34m)\u001b[0m\u001b[0;34m\u001b[0m\u001b[0;34m\u001b[0m\u001b[0m\n\u001b[0m\u001b[1;32m   1166\u001b[0m \u001b[0;34m\u001b[0m\u001b[0m\n\u001b[1;32m   1167\u001b[0m             \u001b[0;31m# datetimelikes must match exactly\u001b[0m\u001b[0;34m\u001b[0m\u001b[0;34m\u001b[0m\u001b[0;34m\u001b[0m\u001b[0m\n",
            "\u001b[0;31mValueError\u001b[0m: You are trying to merge on object and int64 columns. If you wish to proceed you should use pd.concat"
          ]
        }
      ]
    },
    {
      "cell_type": "code",
      "source": [
        "calendar = {'Jan': 1, 'Feb': 2, 'Mar': 3, 'Apr': 4, 'May': 5, 'Jun': 6, \n",
        "                'Jul': 7, 'Aug': 8, 'Sep': 9, 'Oct': 10, 'Nov': 11, 'Dec': 12}\n",
        "  \n",
        "tweet_json['Week_day'] = tweet_json['created_at'].str.slice(0,3)\n",
        "tweet_json['Month_name'] = tweet_json['created_at'].str.slice(4,7)\n",
        "tweet_json['Month'] = tweet_json['Month_name'].map(calendar)\n",
        "tweet_json['Day_number'] = tweet_json['created_at'].str.slice(8,10)\n",
        "tweet_json['Tweeted_at_time'] = tweet_json['created_at'].str.slice(11,19)\n",
        "tweet_json['Year'] = tweet_json['created_at'].str.slice(26,30)"
      ],
      "metadata": {
        "id": "3J32dDMsnKgr",
        "colab": {
          "base_uri": "https://localhost:8080/",
          "height": 235
        },
        "outputId": "0f83a6b4-5d44-40ac-db02-0c1085b6ee2c"
      },
      "execution_count": null,
      "outputs": [
        {
          "output_type": "error",
          "ename": "NameError",
          "evalue": "ignored",
          "traceback": [
            "\u001b[0;31m---------------------------------------------------------------------------\u001b[0m",
            "\u001b[0;31mNameError\u001b[0m                                 Traceback (most recent call last)",
            "\u001b[0;32m<ipython-input-143-45e9b3b9e0e3>\u001b[0m in \u001b[0;36m<module>\u001b[0;34m()\u001b[0m\n\u001b[1;32m      2\u001b[0m                 'Jul': 7, 'Aug': 8, 'Sep': 9, 'Oct': 10, 'Nov': 11, 'Dec': 12}\n\u001b[1;32m      3\u001b[0m \u001b[0;34m\u001b[0m\u001b[0m\n\u001b[0;32m----> 4\u001b[0;31m \u001b[0mtweet_json\u001b[0m\u001b[0;34m[\u001b[0m\u001b[0;34m'Week_day'\u001b[0m\u001b[0;34m]\u001b[0m \u001b[0;34m=\u001b[0m \u001b[0mtweet_json\u001b[0m\u001b[0;34m[\u001b[0m\u001b[0;34m'created_at'\u001b[0m\u001b[0;34m]\u001b[0m\u001b[0;34m.\u001b[0m\u001b[0mstr\u001b[0m\u001b[0;34m.\u001b[0m\u001b[0mslice\u001b[0m\u001b[0;34m(\u001b[0m\u001b[0;36m0\u001b[0m\u001b[0;34m,\u001b[0m\u001b[0;36m3\u001b[0m\u001b[0;34m)\u001b[0m\u001b[0;34m\u001b[0m\u001b[0;34m\u001b[0m\u001b[0m\n\u001b[0m\u001b[1;32m      5\u001b[0m \u001b[0mtweet_json\u001b[0m\u001b[0;34m[\u001b[0m\u001b[0;34m'Month_name'\u001b[0m\u001b[0;34m]\u001b[0m \u001b[0;34m=\u001b[0m \u001b[0mtweet_json\u001b[0m\u001b[0;34m[\u001b[0m\u001b[0;34m'created_at'\u001b[0m\u001b[0;34m]\u001b[0m\u001b[0;34m.\u001b[0m\u001b[0mstr\u001b[0m\u001b[0;34m.\u001b[0m\u001b[0mslice\u001b[0m\u001b[0;34m(\u001b[0m\u001b[0;36m4\u001b[0m\u001b[0;34m,\u001b[0m\u001b[0;36m7\u001b[0m\u001b[0;34m)\u001b[0m\u001b[0;34m\u001b[0m\u001b[0;34m\u001b[0m\u001b[0m\n\u001b[1;32m      6\u001b[0m \u001b[0mtweet_json\u001b[0m\u001b[0;34m[\u001b[0m\u001b[0;34m'Month'\u001b[0m\u001b[0;34m]\u001b[0m \u001b[0;34m=\u001b[0m \u001b[0mtweet_json\u001b[0m\u001b[0;34m[\u001b[0m\u001b[0;34m'Month_name'\u001b[0m\u001b[0;34m]\u001b[0m\u001b[0;34m.\u001b[0m\u001b[0mmap\u001b[0m\u001b[0;34m(\u001b[0m\u001b[0mcalendar\u001b[0m\u001b[0;34m)\u001b[0m\u001b[0;34m\u001b[0m\u001b[0;34m\u001b[0m\u001b[0m\n",
            "\u001b[0;31mNameError\u001b[0m: name 'tweet_json' is not defined"
          ]
        }
      ]
    },
    {
      "cell_type": "code",
      "source": [
        "tweet_json['Data'] = str(str(tweet_json['Day_number']) + '-' + str(tweet_json['Month']) + '-' + str(tweet_json['Year']))"
      ],
      "metadata": {
        "id": "cEKY31zyW8Xt"
      },
      "execution_count": null,
      "outputs": []
    },
    {
      "cell_type": "code",
      "source": [
        "tweet_json['Data'][0]"
      ],
      "metadata": {
        "colab": {
          "base_uri": "https://localhost:8080/",
          "height": 87
        },
        "id": "lcTmdJGfmQEJ",
        "outputId": "3d367b04-575f-4f6c-9649-c3352349e9dc"
      },
      "execution_count": null,
      "outputs": [
        {
          "output_type": "execute_result",
          "data": {
            "application/vnd.google.colaboratory.intrinsic+json": {
              "type": "string"
            },
            "text/plain": [
              "'0     15\\n1     14\\n2     14\\n3     15\\n4     14\\n5     14\\n6     15\\n7     15\\n8     14\\n9     14\\n10    15\\n11    14\\n12    14\\n13    14\\nName: Day_number, dtype: object-0     1\\n1     1\\n2     1\\n3     1\\n4     1\\n5     1\\n6     1\\n7     1\\n8     1\\n9     1\\n10    1\\n11    1\\n12    1\\n13    1\\nName: Month, dtype: int64-0     2022\\n1     2022\\n2     2022\\n3     2022\\n4     2022\\n5     2022\\n6     2022\\n7     2022\\n8     2022\\n9     2022\\n10    2022\\n11    2022\\n12    2022\\n13    2022\\nName: Year, dtype: object'"
            ]
          },
          "metadata": {},
          "execution_count": 73
        }
      ]
    },
    {
      "cell_type": "code",
      "source": [
        "# em média, quantos seguidores ganha após um tweet positivo? e quantos perde após um tweet negativo?\n",
        "# modelo de classificação baseado na popularidade do participante\n",
        "# prob de ser eliminado no paredão de acordo com o atual nível de popularidade"
      ],
      "metadata": {
        "id": "aTkkDYfUpFWI"
      },
      "execution_count": null,
      "outputs": []
    },
    {
      "cell_type": "code",
      "source": [
        "pipocas_part.head(3)"
      ],
      "metadata": {
        "colab": {
          "base_uri": "https://localhost:8080/",
          "height": 398
        },
        "id": "8TwUHb1nSaOP",
        "outputId": "bafca599-b395-4938-a9a5-abdb1d7c53b2"
      },
      "execution_count": null,
      "outputs": [
        {
          "output_type": "execute_result",
          "data": {
            "text/html": [
              "\n",
              "  <div id=\"df-0f296722-d9a8-44f3-820b-7409ecc4a5a7\">\n",
              "    <div class=\"colab-df-container\">\n",
              "      <div>\n",
              "<style scoped>\n",
              "    .dataframe tbody tr th:only-of-type {\n",
              "        vertical-align: middle;\n",
              "    }\n",
              "\n",
              "    .dataframe tbody tr th {\n",
              "        vertical-align: top;\n",
              "    }\n",
              "\n",
              "    .dataframe thead th {\n",
              "        text-align: right;\n",
              "    }\n",
              "</style>\n",
              "<table border=\"1\" class=\"dataframe\">\n",
              "  <thead>\n",
              "    <tr style=\"text-align: right;\">\n",
              "      <th></th>\n",
              "      <th>tweet_id</th>\n",
              "      <th>text</th>\n",
              "      <th>favorite_count</th>\n",
              "      <th>retweet_count</th>\n",
              "      <th>created_at</th>\n",
              "      <th>location</th>\n",
              "      <th>followers_count</th>\n",
              "      <th>friends_count</th>\n",
              "      <th>verified</th>\n",
              "      <th>hashtags</th>\n",
              "      <th>user_mentions</th>\n",
              "      <th>name</th>\n",
              "      <th>screen_name</th>\n",
              "    </tr>\n",
              "  </thead>\n",
              "  <tbody>\n",
              "    <tr>\n",
              "      <th>0</th>\n",
              "      <td>1483265947175632897</td>\n",
              "      <td>@medracital ❤️</td>\n",
              "      <td>2</td>\n",
              "      <td>0</td>\n",
              "      <td>Tue Jan 18 02:32:14 +0000 2022</td>\n",
              "      <td></td>\n",
              "      <td>3247</td>\n",
              "      <td>167</td>\n",
              "      <td>True</td>\n",
              "      <td>[]</td>\n",
              "      <td>[{'screen_name': 'medracital', 'name': 'lore 🇸...</td>\n",
              "      <td>Dra. Laís Caldas 👢</td>\n",
              "      <td>Dra_laiscaldass</td>\n",
              "    </tr>\n",
              "    <tr>\n",
              "      <th>1</th>\n",
              "      <td>1483265820528680961</td>\n",
              "      <td>@itscruella Pode encerrar viu? 😅🤍 https://t.co...</td>\n",
              "      <td>2</td>\n",
              "      <td>1</td>\n",
              "      <td>Tue Jan 18 02:31:44 +0000 2022</td>\n",
              "      <td></td>\n",
              "      <td>3247</td>\n",
              "      <td>167</td>\n",
              "      <td>True</td>\n",
              "      <td>[]</td>\n",
              "      <td>[{'screen_name': 'itscruella', 'name': 'Cruell...</td>\n",
              "      <td>Dra. Laís Caldas 👢</td>\n",
              "      <td>Dra_laiscaldass</td>\n",
              "    </tr>\n",
              "    <tr>\n",
              "      <th>2</th>\n",
              "      <td>1483265480945287169</td>\n",
              "      <td>Contem pra gente.. o que estão achando da Laís...</td>\n",
              "      <td>125</td>\n",
              "      <td>9</td>\n",
              "      <td>Tue Jan 18 02:30:23 +0000 2022</td>\n",
              "      <td></td>\n",
              "      <td>3247</td>\n",
              "      <td>167</td>\n",
              "      <td>True</td>\n",
              "      <td>[{'text': 'TeamLais', 'indices': [74, 83]}, {'...</td>\n",
              "      <td>[]</td>\n",
              "      <td>Dra. Laís Caldas 👢</td>\n",
              "      <td>Dra_laiscaldass</td>\n",
              "    </tr>\n",
              "  </tbody>\n",
              "</table>\n",
              "</div>\n",
              "      <button class=\"colab-df-convert\" onclick=\"convertToInteractive('df-0f296722-d9a8-44f3-820b-7409ecc4a5a7')\"\n",
              "              title=\"Convert this dataframe to an interactive table.\"\n",
              "              style=\"display:none;\">\n",
              "        \n",
              "  <svg xmlns=\"http://www.w3.org/2000/svg\" height=\"24px\"viewBox=\"0 0 24 24\"\n",
              "       width=\"24px\">\n",
              "    <path d=\"M0 0h24v24H0V0z\" fill=\"none\"/>\n",
              "    <path d=\"M18.56 5.44l.94 2.06.94-2.06 2.06-.94-2.06-.94-.94-2.06-.94 2.06-2.06.94zm-11 1L8.5 8.5l.94-2.06 2.06-.94-2.06-.94L8.5 2.5l-.94 2.06-2.06.94zm10 10l.94 2.06.94-2.06 2.06-.94-2.06-.94-.94-2.06-.94 2.06-2.06.94z\"/><path d=\"M17.41 7.96l-1.37-1.37c-.4-.4-.92-.59-1.43-.59-.52 0-1.04.2-1.43.59L10.3 9.45l-7.72 7.72c-.78.78-.78 2.05 0 2.83L4 21.41c.39.39.9.59 1.41.59.51 0 1.02-.2 1.41-.59l7.78-7.78 2.81-2.81c.8-.78.8-2.07 0-2.86zM5.41 20L4 18.59l7.72-7.72 1.47 1.35L5.41 20z\"/>\n",
              "  </svg>\n",
              "      </button>\n",
              "      \n",
              "  <style>\n",
              "    .colab-df-container {\n",
              "      display:flex;\n",
              "      flex-wrap:wrap;\n",
              "      gap: 12px;\n",
              "    }\n",
              "\n",
              "    .colab-df-convert {\n",
              "      background-color: #E8F0FE;\n",
              "      border: none;\n",
              "      border-radius: 50%;\n",
              "      cursor: pointer;\n",
              "      display: none;\n",
              "      fill: #1967D2;\n",
              "      height: 32px;\n",
              "      padding: 0 0 0 0;\n",
              "      width: 32px;\n",
              "    }\n",
              "\n",
              "    .colab-df-convert:hover {\n",
              "      background-color: #E2EBFA;\n",
              "      box-shadow: 0px 1px 2px rgba(60, 64, 67, 0.3), 0px 1px 3px 1px rgba(60, 64, 67, 0.15);\n",
              "      fill: #174EA6;\n",
              "    }\n",
              "\n",
              "    [theme=dark] .colab-df-convert {\n",
              "      background-color: #3B4455;\n",
              "      fill: #D2E3FC;\n",
              "    }\n",
              "\n",
              "    [theme=dark] .colab-df-convert:hover {\n",
              "      background-color: #434B5C;\n",
              "      box-shadow: 0px 1px 3px 1px rgba(0, 0, 0, 0.15);\n",
              "      filter: drop-shadow(0px 1px 2px rgba(0, 0, 0, 0.3));\n",
              "      fill: #FFFFFF;\n",
              "    }\n",
              "  </style>\n",
              "\n",
              "      <script>\n",
              "        const buttonEl =\n",
              "          document.querySelector('#df-0f296722-d9a8-44f3-820b-7409ecc4a5a7 button.colab-df-convert');\n",
              "        buttonEl.style.display =\n",
              "          google.colab.kernel.accessAllowed ? 'block' : 'none';\n",
              "\n",
              "        async function convertToInteractive(key) {\n",
              "          const element = document.querySelector('#df-0f296722-d9a8-44f3-820b-7409ecc4a5a7');\n",
              "          const dataTable =\n",
              "            await google.colab.kernel.invokeFunction('convertToInteractive',\n",
              "                                                     [key], {});\n",
              "          if (!dataTable) return;\n",
              "\n",
              "          const docLinkHtml = 'Like what you see? Visit the ' +\n",
              "            '<a target=\"_blank\" href=https://colab.research.google.com/notebooks/data_table.ipynb>data table notebook</a>'\n",
              "            + ' to learn more about interactive tables.';\n",
              "          element.innerHTML = '';\n",
              "          dataTable['output_type'] = 'display_data';\n",
              "          await google.colab.output.renderOutput(dataTable, element);\n",
              "          const docLink = document.createElement('div');\n",
              "          docLink.innerHTML = docLinkHtml;\n",
              "          element.appendChild(docLink);\n",
              "        }\n",
              "      </script>\n",
              "    </div>\n",
              "  </div>\n",
              "  "
            ],
            "text/plain": [
              "              tweet_id  ...      screen_name\n",
              "0  1483265947175632897  ...  Dra_laiscaldass\n",
              "1  1483265820528680961  ...  Dra_laiscaldass\n",
              "2  1483265480945287169  ...  Dra_laiscaldass\n",
              "\n",
              "[3 rows x 13 columns]"
            ]
          },
          "metadata": {},
          "execution_count": 111
        }
      ]
    },
    {
      "cell_type": "code",
      "source": [
        "word_tokenize(pipocas_part['text'])"
      ],
      "metadata": {
        "colab": {
          "base_uri": "https://localhost:8080/",
          "height": 165
        },
        "id": "KVAg_-DkF4dS",
        "outputId": "93f4545d-dc09-4d80-d285-75503143454e"
      },
      "execution_count": null,
      "outputs": [
        {
          "output_type": "error",
          "ename": "NameError",
          "evalue": "ignored",
          "traceback": [
            "\u001b[0;31m---------------------------------------------------------------------------\u001b[0m",
            "\u001b[0;31mNameError\u001b[0m                                 Traceback (most recent call last)",
            "\u001b[0;32m<ipython-input-112-6419b008a3ed>\u001b[0m in \u001b[0;36m<module>\u001b[0;34m()\u001b[0m\n\u001b[0;32m----> 1\u001b[0;31m \u001b[0mword_tokenize\u001b[0m\u001b[0;34m(\u001b[0m\u001b[0mpipocas_part\u001b[0m\u001b[0;34m[\u001b[0m\u001b[0;34m'text'\u001b[0m\u001b[0;34m]\u001b[0m\u001b[0;34m)\u001b[0m\u001b[0;34m\u001b[0m\u001b[0;34m\u001b[0m\u001b[0m\n\u001b[0m",
            "\u001b[0;31mNameError\u001b[0m: name 'word_tokenize' is not defined"
          ]
        }
      ]
    },
    {
      "cell_type": "code",
      "source": [
        ""
      ],
      "metadata": {
        "id": "9q_wxO3aHU4C"
      },
      "execution_count": null,
      "outputs": []
    }
  ]
}